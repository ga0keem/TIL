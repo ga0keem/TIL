{
 "cells": [
  {
   "cell_type": "markdown",
   "id": "ad0d54f1",
   "metadata": {},
   "source": [
    "# Data 전처리(Data Preprocessing)란\n",
    "\n",
    "-   데이터 분석, 머신러닝 모델링 전에 수행하는 작업이다.\n",
    "-   데이터 분석이나 머신러닝 모델에 적합한 형태로 데이터셋을 변환 또는 조정하는 과정을 말한다.\n",
    "-   Garbage in, Garbage out.\n",
    "    -   좋은 dataset으로 학습 해야 좋은 예측 결과를 만드는 모델을 학습할 수 있다.\n",
    "    -   좋은 train dataset을 만드는 것은 모델의 성능에 가장 큰 영향을 준다.\n",
    "-   Data 전처리에는 다음과 같은 작업이 있다.\n",
    "    -   **Data Cleaning (데이터 정제)**\n",
    "        -   데이터셋에 있는 오류값, 불필요한 값, 결측치, 중복값 등을 제거하는 작업\n",
    "    -   컬럼 선택 및 파생변수 생성\n",
    "        -   컬럼들 중 분석에 필요한 컬럼들만 선택하거나 기존 컬럼들을 계산한 결과값을 가지는 파생변수를 생성한다.\n",
    "    -   Feature의 데이터 타입 변환\n",
    "        -   문자열을 날짜 타입으로 변환, 범주형을 수치형으로 변환등과 같이 원래 데이터의 형식에 맞게 변환하는 작업.\n",
    "    -   수치형 데이터 Feature Scaling\n",
    "        -   수치형 컬럼들의 scale(척도) 를 맞춰 주는 작업.\n",
    "    -   범주형 데이터 인코딩\n",
    "        -   문자열 형태로 되어있는 범주형 데이터를 숫자 형태로 변경하는 작업."
   ]
  },
  {
   "cell_type": "markdown",
   "id": "5bd88626",
   "metadata": {},
   "source": [
    "# 결측치(Missing Value) 처리\n",
    "\n",
    "-   결측치(Missing Value)\n",
    "    -   수집하지 못한 값. 모르는 값. 없는 값\n",
    "    -   결측치 값은 `NA, NaN, None, null` 로 표현한다. (언어마다 차이가 있다.)\n",
    "-   결측치는 데이터 분석이나 머신러닝 모델링 전의 데이터 전처리 과정에서 처리해줘야 한다."
   ]
  },
  {
   "cell_type": "markdown",
   "id": "474b5486",
   "metadata": {},
   "source": [
    "### 결측치 처리 방법\n",
    "\n",
    "결측치를 처리하기 전에 **\"이 값이 기록되지 않아서 누락된 것인가, 아니면 존재하지 않아서 누락된 것인가?\"** 를 확인해야 한다.  \n",
    "존재하지 않아서 누락된 값이라면 이것은 어떤 값일까 추측할 필요 없이 결측치로 유지하면 되지만  \n",
    "값이 기록되지 않아서(수집하지 못해서) 누락된 경우는 해당 열과 행의 다른 값을 기반으로 값이 무엇이었을지 추측해 볼 수 있다\n"
   ]
  },
  {
   "cell_type": "markdown",
   "id": "a769b023",
   "metadata": {},
   "source": [
    "1. #### 결측치 삭제(Complete Case Analysis):\n",
    "\n",
    "-   리스트와이즈 삭제(Listwise Deletion)\n",
    "    -   결측치가 있는 행들을 삭제한다.\n",
    "    -   수집한 데이터도 같이 삭제되는 단점이 있다.\n",
    "    -   데이터가 충분히 크고 결측치가 많지 않을 때 적합하다.\n",
    "-   컬럼 삭제 (Drop column)\n",
    "    -   컬럼자체에 결측차가 너무 많을 경우 컬럼을 제거할 수도 있다.\n",
    "-   페어와이즈 삭제(Pairwise deletion)\n",
    "    -   분석에 필요한 특정 컬럼들에 대해서만 결측치를 제거하고 분석한다.\n",
    "    -   전체 데이터셋에서 결측치를 제거하지 않기 때문에 데이터 손실을 최소화 하는 장점이 있다.\n",
    "    -   모든 분석에 사용될 수 없고 상관관계 분석 처럼 컬럼들간의 관계등을 분석하는 경우 유용할 수있다.\n",
    "    -   선택된 컬럼마다 결측치의 개수와 결측치의 위치(다 다른 행에 결측치가 있으므로)가 다르므로 일관성 있는 분석이 안된다.\n",
    "    -   머신러닝 학습에는 사용할 수없다.\n"
   ]
  },
  {
   "cell_type": "markdown",
   "id": "714fc3ee",
   "metadata": {},
   "source": [
    "#### 2. 결측치 대체(imputation)\n",
    "\n",
    "결측치가 수집하지 못해 누락된 경우 그 값일 가능성이 가장 높은 값으로 대체할 수 있다.  \n",
    "대체할 값으로 일정한 값을 사용하는 경우와 분석을 통해 찾는 방법이 있다.\n",
    "\n",
    "-   **평균/중앙값/최빈값 대체**\n",
    "    -   수치형 변수의 경우 평균이나 중앙값으로, 범주형 변수의 경우 최빈값으로 결측치를 대체한다.\n",
    "    -   **평균으로 대체** - 수치형 컬럼으로 outlier(극단치)의 영향을 받지 않는 모델이거나 컬럼의 데이터들이 **정규 분포를 따르거나 outlier(극단치)가 없는 경우** 적합.\n",
    "    -   **중앙값으로 대체**\n",
    "        -   수치형 컬럼으로 outlier(극단치)가 존재하거나 데이터 분포가 비대칭인 컬럼의 결측치 대체에 적합.\n",
    "        -   보통 평균보다 중앙값을 사용한다.\n",
    "    -   **최빈값으로 대체**\n",
    "        -   범주형 컬럼의 경우 대푯값인 최빈값으로 대체한다.\n",
    "    -   **K-최근접 이웃(K-NN) 대체**\n",
    "        -   결측치가 있는 데이터 포인트와 가장 가까운 K개의 데이터 포인트를 찾아, 그 값들의 평균(수치형 데이터)이나 최빈값(범주형 데이터)으로 결측치를 대체한다.\n",
    "-   **모델링 기반 대체**\n",
    "    -   결측치가 있는 컬럼을 output(종속변수)으로 결측치가 없는 행들(독립변수)을 input으로 하여 결측치를 예측하는 모델을 정의한다.\n",
    "-   **결측치를 표현하는 값으로 대체**\n",
    "    -   예를 들어 나이컬럼의 nan을 -1, 혈액형의 nan을 \"없음\" 등과 같이 그 컬럼이 가질 수없는 값을 nan 대신 사용한다.\n",
    "-   #### 다중 대체 (multiple imputation)\n",
    "    -   여러 방식으로 결측치를 대체한 데이터셋을 만든다. 각 데이터셋마다 분석하고 추론한 뒤 그 결과들을 합쳐서 최종 결론을 낸다.\n"
   ]
  },
  {
   "cell_type": "markdown",
   "id": "42b2ddf6",
   "metadata": {},
   "source": [
    "# 이상치(Outlier) 처리\n",
    "\n",
    "-   데이터 집합에서 다른 관측치들과 크게 다른 값을 가지는 데이터 포인트를 말한다.\n",
    "    -   잘못된 값이나 극단치가 있다.\n",
    "-   이상치가 생기는 원인은 데이터 수집과정에서의 문제, 측정 오류, 극단적 변이가 반영된 값(엄청 튀는 값)이 수집된 경우 등이 있다.\n",
    "-   이상치는 이상치들은 일반적인 경향에서 벗어난 값이므로 **정확하게 식별하고 처리하는 것이 분석의 정확성과 신뢰성을 높이는데 중요하다.**\n"
   ]
  },
  {
   "cell_type": "markdown",
   "id": "6653139b",
   "metadata": {},
   "source": [
    "## 분포에서 벗어난 이상치(Outlier) 식별\n",
    "\n",
    "-   통계적 기준과 도메인 기준이 있다.\n",
    "\n",
    "### 통계적 기준\n",
    "\n",
    "-   **표준편차 기준**\n",
    "    -   데이터가 **정규분포**를 따른다고 가정할 때 평균으로 부터 _k_ 표준편차 범위 밖으로 떨어진 데이터 포인트를 outlier 로 판단한다.\n",
    "\n",
    "\\begin{align}\n",
    "&정상범위\\,값: \\mu - k \\times \\sigma \\ \\leq value \\leq \\mu + k \\times \\sigma \\\\\n",
    "&\\mu: 평균,\\, \\sigma: 표준편차\n",
    "\\end{align}\n",
    "\n",
    "-   **분위수 기준**\n",
    "    -   IQR(Inter quantile Range) 을 이용해 Outlier 여부를 찾는다.\n",
    "    -   1분위, 3분위 에서 IQR \\* 1.5 보다 더 떨어진 값을 outlier로 판단한다. 단 정상 범위를 조정하려고 할때는 1.5값을 변경할 수 있다.\n",
    "\n",
    "\\begin{align}\n",
    "&IQR = 3분위 - 1분위 \\\\\n",
    "&정상범위\\,값: 1.5\\times (1분위 - IQR) \\leq value \\leq 1.5\\times (3분위 + IQR)\n",
    "\\end{align}"
   ]
  },
  {
   "cell_type": "markdown",
   "id": "2e2bc30e",
   "metadata": {},
   "source": [
    "-   **극단치(분포에서 벗어난 값)**\n",
    "    -   정상적이 값이지만 다른 값들과 다른 패턴을 가지는 값.\n",
    "    -   일반적으로 극단적으로 크거나 작은 값\n",
    "    -   처리\n",
    "        1. 제거한다.\n",
    "            - 결측치로 대체 하거나 데이터 포인트(행)를 제거한다.\n",
    "            - outlier가 분석 결과에 부정적 영항을 미치는 경우.\n",
    "            - outlier값이 대상 집단을 대표하지 않는다고 판단할 경우 .\n",
    "            - 명확히 잘못수집 된 오류값일 경우\n",
    "        1. 윈저화 (Winsorization)\n",
    "            - 최소값과 최값을 정해 놓고 그 범위를 넘어서는 작은 값은 최소값으로 범위를 넘어서 큰 값은 최대값으로 대체한다.\n",
    "        1. 대체 (Imputation)\n",
    "            - 평균, 중앙값, 최빈값 등으로 대체한다.\n"
   ]
  },
  {
   "cell_type": "markdown",
   "id": "1f736c31",
   "metadata": {},
   "source": [
    "# Feature 타입 별 전처리\n",
    "\n",
    "## Feature(변수)의 타입\n",
    "\n",
    "-   **범주형(Categorical) 변수**\n",
    "    -   범주를 구분하는 이름을 가지는 변수.\n",
    "        -   **범주(範疇)** 의미: 동일한 성질을 가진 부류나 범위\n",
    "        -   각 값 사이에 값이 없는 이산적 특징을 가진다.\n",
    "        -   값이 될 수있는 값들이 정해져 있다.\n",
    "    -   **명목(Norminal) 변수/비서열(Unordered) 변수**\n",
    "        -   범주에 속한 값간에 서열(순위)가 없는 변수\n",
    "        -   성별, 혈액형, 지역\n",
    "    -   **순위(Ordinal) 변수/서열(Ordered) 변수**\n",
    "        -   범주에 속한 값 간에 서열(순위)가 있는 변수\n",
    "        -   성적, 직급, 만족도\n",
    "-   **수치형(Numeric) 변수**\n",
    "    -   수량을 표현하는 값들을 가지는 변수.\n",
    "    -   **이산형(Discrete) 변수**\n",
    "        -   수치를 표현하지만 소수점의 형태로 표현되지 못하는 데이터. 정수형 값들을 가진다.\n",
    "        -   예) 하루 방문 고객수, 가격(원화), 물건의 개수\n",
    "    -   **연속형(Continuous) 변수**\n",
    "        -   수치를 표현하며 소수점으로 표현가능한 데이터. 실수형 값들을 가진다.\n",
    "        -   예) 키, 몸무게, 시간"
   ]
  },
  {
   "cell_type": "markdown",
   "id": "a70f4add",
   "metadata": {},
   "source": [
    "> -   실수형 데이터로 구성된 Feature는 수치형 값이다.\n",
    "> -   문자열 데이터로 구성된 Feature는 단순 문자열값이거나 범주형 값이다.\n",
    "> -   정수형 데이터로 구성된 Feature는 범주형이거나 연속형 값이다.\n",
    ">     -   몇개의 고유값으로 구성되었는지를 봐야 한다. 또는 평균의 의미롤 확인해 본다. 평균이 그 feature를 표현하는 값이면 수치형 아니면 범주형.\n"
   ]
  },
  {
   "cell_type": "markdown",
   "id": "aa4adedb",
   "metadata": {},
   "source": [
    "# 범주형 데이터 전처리\n",
    "\n",
    "-   Scikit-learn의 머신러닝 API들은 Feature나 Label의 값들이 숫자(정수/실수)인 것만 처리할 수 있다.\n",
    "-   문자열(str)일 경우 숫자 형으로 변환해야 한다.\n",
    "    -   **범주형 변수의 경우** 전처리를 통해 정수값으로 변환한다.\n",
    "    -   범주형이 아닌 **단순 문자열인** 경우 일반적으로 제거한다.\n",
    "  \n",
    "## 범주형 Feature의 처리\n",
    "\n",
    "-   Label Encoding\n",
    "-   One-Hot Encoding\n"
   ]
  },
  {
   "cell_type": "markdown",
   "id": "73d033f4",
   "metadata": {},
   "source": [
    "## 레이블 인코딩(Label encoding)\n",
    "\n",
    "-   범주형 Feature의 고유값들 오름차순 정렬 후 0 부터 1씩 증가하는 값으로 변환\n",
    "-   **숫자의 크기의 차이가 모델에 영향을 주지 않는 트리 계열 모델(의사결정나무, 랜덤포레스트)에 적용한다.**\n",
    "-   **숫자의 크기의 차이가 모델에 영향을 미치는 선형 계열 모델(로지스틱회귀, SVM, 신경망)에는 사용하면 안된다.**\n",
    "\n",
    "-   **sklearn.preprocessing.LabelEncoder** 사용\n",
    "    -   fit(): 어떻게 변환할 지 학습\n",
    "    -   transform(): 문자열를 숫자로 변환\n",
    "    -   fit_transform(): 학습과 변환을 한번에 처리\n",
    "    -   inverse_transform():숫자를 문자열로 변환\n",
    "    -   classes\\_ : 인코딩한 클래스 조회"
   ]
  },
  {
   "cell_type": "markdown",
   "id": "53534004",
   "metadata": {},
   "source": [
    "### adult data 에 label encoding 적용\n",
    "\n",
    "-   Adult 데이터셋은 1994년 인구조사 데이터 베이스에서 추출한 미국 성인의 소득 데이터셋.\n",
    "-   target 은 income 이며 수입이 $50,000 이하인지 초과인지 두개의 class를 가진다."
   ]
  },
  {
   "cell_type": "code",
   "execution_count": 1,
   "id": "6578bd0d",
   "metadata": {},
   "outputs": [],
   "source": [
    "cols = ['age', 'workclass','fnlwgt','education', 'education-num', 'marital-status', 'occupation','relationship', 'race', 'gender','capital-gain','capital-loss', 'hours-per-week','native-country', 'income']"
   ]
  },
  {
   "cell_type": "code",
   "execution_count": 2,
   "id": "94201ef8",
   "metadata": {},
   "outputs": [
    {
     "data": {
      "text/plain": [
       "(32561, 15)"
      ]
     },
     "execution_count": 2,
     "metadata": {},
     "output_type": "execute_result"
    }
   ],
   "source": [
    "import pandas as pd\n",
    "adult_df = pd.read_csv(\n",
    "    \"data/adult.data\",\n",
    "    header = None,\n",
    "    names = cols,\n",
    "    skipinitialspace = True,\n",
    "    na_values = \"?\"\n",
    ")\n",
    "adult_df.shape"
   ]
  },
  {
   "cell_type": "code",
   "execution_count": 3,
   "id": "8fefeb61",
   "metadata": {},
   "outputs": [
    {
     "data": {
      "text/plain": [
       "age                  0\n",
       "workclass         1836\n",
       "fnlwgt               0\n",
       "education            0\n",
       "education-num        0\n",
       "marital-status       0\n",
       "occupation        1843\n",
       "relationship         0\n",
       "race                 0\n",
       "gender               0\n",
       "capital-gain         0\n",
       "capital-loss         0\n",
       "hours-per-week       0\n",
       "native-country     583\n",
       "income               0\n",
       "dtype: int64"
      ]
     },
     "execution_count": 3,
     "metadata": {},
     "output_type": "execute_result"
    }
   ],
   "source": [
    "adult_df.isna().sum()"
   ]
  },
  {
   "cell_type": "code",
   "execution_count": 4,
   "id": "0fa8519b",
   "metadata": {},
   "outputs": [
    {
     "data": {
      "text/plain": [
       "age               0\n",
       "workclass         0\n",
       "fnlwgt            0\n",
       "education         0\n",
       "education-num     0\n",
       "marital-status    0\n",
       "occupation        0\n",
       "relationship      0\n",
       "race              0\n",
       "gender            0\n",
       "capital-gain      0\n",
       "capital-loss      0\n",
       "hours-per-week    0\n",
       "native-country    0\n",
       "income            0\n",
       "dtype: int64"
      ]
     },
     "execution_count": 4,
     "metadata": {},
     "output_type": "execute_result"
    }
   ],
   "source": [
    "# 결측치 제거\n",
    "adult_df.dropna(inplace=True)\n",
    "adult_df.isna().sum()"
   ]
  },
  {
   "cell_type": "code",
   "execution_count": 6,
   "id": "e6649c09",
   "metadata": {},
   "outputs": [
    {
     "data": {
      "text/plain": [
       "(30162, 15)"
      ]
     },
     "execution_count": 6,
     "metadata": {},
     "output_type": "execute_result"
    }
   ],
   "source": [
    "adult_df.shape"
   ]
  },
  {
   "cell_type": "markdown",
   "id": "996d29b2",
   "metadata": {},
   "source": [
    "### adult dataset - 레이블 인코딩 처리\n",
    "\n",
    "-   범주형: 'workclass','education', 'marital-status', 'occupation','relationship', 'race', 'gender','native-country', 'income'\n",
    "-   연속형: 'age', fnlwgt', 'education-num', 'capital-gain', 'capital-loss', 'hours-per-week'\n",
    "\n",
    "**encoding_columns 컬럼들은 Label Encoding 처리,**  \n",
    "**not_encoding_columns 컬럼들의 값들은 그대로 유지.**"
   ]
  },
  {
   "cell_type": "markdown",
   "id": "b7036481",
   "metadata": {},
   "source": [
    "encoding_columns의 값들은 LabelEncoding 된 값으로 not_encoding_columns의 값들은 원래값 그대로 구성된 DataFrame을 생성해서 반환한다.\n",
    "\n",
    "> 주의: LabelEncoding은 Feature(컬럼) 별로 처리해야 한다. 한번에 여러컬럼을 하나의 LabelEncoder로 처리할 수 없다."
   ]
  },
  {
   "cell_type": "code",
   "execution_count": 7,
   "id": "e9741563",
   "metadata": {},
   "outputs": [],
   "source": [
    "encoding_columns = ['workclass','education','marital-status', 'occupation','relationship','race','gender','native-country', 'income']\n",
    "not_encoding_columns = ['age','fnlwgt', 'education-num','capital-gain','capital-loss','hours-per-week']"
   ]
  },
  {
   "cell_type": "code",
   "execution_count": 8,
   "id": "3625118d",
   "metadata": {},
   "outputs": [],
   "source": [
    "df = adult_df.copy()"
   ]
  },
  {
   "cell_type": "code",
   "execution_count": 9,
   "id": "b325e1d4",
   "metadata": {},
   "outputs": [],
   "source": [
    "# encoding_columns들을 label encoding\n",
    "## scikit learn의 LabelEncoder는 컬럼 단위로 처리\n",
    "\n",
    "from sklearn.preprocessing import LabelEncoder\n",
    "le_dict = {}\n",
    "for col  in encoding_columns:\n",
    "    le = LabelEncoder()\n",
    "    df[col] = le.fit_transform(df[col])\n",
    "    le_dict[col] = le # 변환 과정에서 사용한 LabelEncoder 인스턴스인 le를 le_dict 딕셔너리에 col을 키(key)로 하여 저장"
   ]
  },
  {
   "cell_type": "code",
   "execution_count": 10,
   "id": "e21fa3a6",
   "metadata": {},
   "outputs": [
    {
     "data": {
      "text/html": [
       "<div>\n",
       "<style scoped>\n",
       "    .dataframe tbody tr th:only-of-type {\n",
       "        vertical-align: middle;\n",
       "    }\n",
       "\n",
       "    .dataframe tbody tr th {\n",
       "        vertical-align: top;\n",
       "    }\n",
       "\n",
       "    .dataframe thead th {\n",
       "        text-align: right;\n",
       "    }\n",
       "</style>\n",
       "<table border=\"1\" class=\"dataframe\">\n",
       "  <thead>\n",
       "    <tr style=\"text-align: right;\">\n",
       "      <th></th>\n",
       "      <th>age</th>\n",
       "      <th>workclass</th>\n",
       "      <th>fnlwgt</th>\n",
       "      <th>education</th>\n",
       "      <th>education-num</th>\n",
       "      <th>marital-status</th>\n",
       "      <th>occupation</th>\n",
       "      <th>relationship</th>\n",
       "      <th>race</th>\n",
       "      <th>gender</th>\n",
       "      <th>capital-gain</th>\n",
       "      <th>capital-loss</th>\n",
       "      <th>hours-per-week</th>\n",
       "      <th>native-country</th>\n",
       "      <th>income</th>\n",
       "    </tr>\n",
       "  </thead>\n",
       "  <tbody>\n",
       "    <tr>\n",
       "      <th>0</th>\n",
       "      <td>39</td>\n",
       "      <td>State-gov</td>\n",
       "      <td>77516</td>\n",
       "      <td>Bachelors</td>\n",
       "      <td>13</td>\n",
       "      <td>Never-married</td>\n",
       "      <td>Adm-clerical</td>\n",
       "      <td>Not-in-family</td>\n",
       "      <td>White</td>\n",
       "      <td>Male</td>\n",
       "      <td>2174</td>\n",
       "      <td>0</td>\n",
       "      <td>40</td>\n",
       "      <td>United-States</td>\n",
       "      <td>&lt;=50K</td>\n",
       "    </tr>\n",
       "    <tr>\n",
       "      <th>1</th>\n",
       "      <td>50</td>\n",
       "      <td>Self-emp-not-inc</td>\n",
       "      <td>83311</td>\n",
       "      <td>Bachelors</td>\n",
       "      <td>13</td>\n",
       "      <td>Married-civ-spouse</td>\n",
       "      <td>Exec-managerial</td>\n",
       "      <td>Husband</td>\n",
       "      <td>White</td>\n",
       "      <td>Male</td>\n",
       "      <td>0</td>\n",
       "      <td>0</td>\n",
       "      <td>13</td>\n",
       "      <td>United-States</td>\n",
       "      <td>&lt;=50K</td>\n",
       "    </tr>\n",
       "    <tr>\n",
       "      <th>2</th>\n",
       "      <td>38</td>\n",
       "      <td>Private</td>\n",
       "      <td>215646</td>\n",
       "      <td>HS-grad</td>\n",
       "      <td>9</td>\n",
       "      <td>Divorced</td>\n",
       "      <td>Handlers-cleaners</td>\n",
       "      <td>Not-in-family</td>\n",
       "      <td>White</td>\n",
       "      <td>Male</td>\n",
       "      <td>0</td>\n",
       "      <td>0</td>\n",
       "      <td>40</td>\n",
       "      <td>United-States</td>\n",
       "      <td>&lt;=50K</td>\n",
       "    </tr>\n",
       "    <tr>\n",
       "      <th>3</th>\n",
       "      <td>53</td>\n",
       "      <td>Private</td>\n",
       "      <td>234721</td>\n",
       "      <td>11th</td>\n",
       "      <td>7</td>\n",
       "      <td>Married-civ-spouse</td>\n",
       "      <td>Handlers-cleaners</td>\n",
       "      <td>Husband</td>\n",
       "      <td>Black</td>\n",
       "      <td>Male</td>\n",
       "      <td>0</td>\n",
       "      <td>0</td>\n",
       "      <td>40</td>\n",
       "      <td>United-States</td>\n",
       "      <td>&lt;=50K</td>\n",
       "    </tr>\n",
       "    <tr>\n",
       "      <th>4</th>\n",
       "      <td>28</td>\n",
       "      <td>Private</td>\n",
       "      <td>338409</td>\n",
       "      <td>Bachelors</td>\n",
       "      <td>13</td>\n",
       "      <td>Married-civ-spouse</td>\n",
       "      <td>Prof-specialty</td>\n",
       "      <td>Wife</td>\n",
       "      <td>Black</td>\n",
       "      <td>Female</td>\n",
       "      <td>0</td>\n",
       "      <td>0</td>\n",
       "      <td>40</td>\n",
       "      <td>Cuba</td>\n",
       "      <td>&lt;=50K</td>\n",
       "    </tr>\n",
       "  </tbody>\n",
       "</table>\n",
       "</div>"
      ],
      "text/plain": [
       "   age         workclass  fnlwgt  education  education-num  \\\n",
       "0   39         State-gov   77516  Bachelors             13   \n",
       "1   50  Self-emp-not-inc   83311  Bachelors             13   \n",
       "2   38           Private  215646    HS-grad              9   \n",
       "3   53           Private  234721       11th              7   \n",
       "4   28           Private  338409  Bachelors             13   \n",
       "\n",
       "       marital-status         occupation   relationship   race  gender  \\\n",
       "0       Never-married       Adm-clerical  Not-in-family  White    Male   \n",
       "1  Married-civ-spouse    Exec-managerial        Husband  White    Male   \n",
       "2            Divorced  Handlers-cleaners  Not-in-family  White    Male   \n",
       "3  Married-civ-spouse  Handlers-cleaners        Husband  Black    Male   \n",
       "4  Married-civ-spouse     Prof-specialty           Wife  Black  Female   \n",
       "\n",
       "   capital-gain  capital-loss  hours-per-week native-country income  \n",
       "0          2174             0              40  United-States  <=50K  \n",
       "1             0             0              13  United-States  <=50K  \n",
       "2             0             0              40  United-States  <=50K  \n",
       "3             0             0              40  United-States  <=50K  \n",
       "4             0             0              40           Cuba  <=50K  "
      ]
     },
     "execution_count": 10,
     "metadata": {},
     "output_type": "execute_result"
    }
   ],
   "source": [
    "adult_df.head()"
   ]
  },
  {
   "cell_type": "code",
   "execution_count": 11,
   "id": "6a128711",
   "metadata": {},
   "outputs": [
    {
     "data": {
      "text/html": [
       "<div>\n",
       "<style scoped>\n",
       "    .dataframe tbody tr th:only-of-type {\n",
       "        vertical-align: middle;\n",
       "    }\n",
       "\n",
       "    .dataframe tbody tr th {\n",
       "        vertical-align: top;\n",
       "    }\n",
       "\n",
       "    .dataframe thead th {\n",
       "        text-align: right;\n",
       "    }\n",
       "</style>\n",
       "<table border=\"1\" class=\"dataframe\">\n",
       "  <thead>\n",
       "    <tr style=\"text-align: right;\">\n",
       "      <th></th>\n",
       "      <th>age</th>\n",
       "      <th>workclass</th>\n",
       "      <th>fnlwgt</th>\n",
       "      <th>education</th>\n",
       "      <th>education-num</th>\n",
       "      <th>marital-status</th>\n",
       "      <th>occupation</th>\n",
       "      <th>relationship</th>\n",
       "      <th>race</th>\n",
       "      <th>gender</th>\n",
       "      <th>capital-gain</th>\n",
       "      <th>capital-loss</th>\n",
       "      <th>hours-per-week</th>\n",
       "      <th>native-country</th>\n",
       "      <th>income</th>\n",
       "    </tr>\n",
       "  </thead>\n",
       "  <tbody>\n",
       "    <tr>\n",
       "      <th>0</th>\n",
       "      <td>39</td>\n",
       "      <td>5</td>\n",
       "      <td>77516</td>\n",
       "      <td>9</td>\n",
       "      <td>13</td>\n",
       "      <td>4</td>\n",
       "      <td>0</td>\n",
       "      <td>1</td>\n",
       "      <td>4</td>\n",
       "      <td>1</td>\n",
       "      <td>2174</td>\n",
       "      <td>0</td>\n",
       "      <td>40</td>\n",
       "      <td>38</td>\n",
       "      <td>0</td>\n",
       "    </tr>\n",
       "    <tr>\n",
       "      <th>1</th>\n",
       "      <td>50</td>\n",
       "      <td>4</td>\n",
       "      <td>83311</td>\n",
       "      <td>9</td>\n",
       "      <td>13</td>\n",
       "      <td>2</td>\n",
       "      <td>3</td>\n",
       "      <td>0</td>\n",
       "      <td>4</td>\n",
       "      <td>1</td>\n",
       "      <td>0</td>\n",
       "      <td>0</td>\n",
       "      <td>13</td>\n",
       "      <td>38</td>\n",
       "      <td>0</td>\n",
       "    </tr>\n",
       "    <tr>\n",
       "      <th>2</th>\n",
       "      <td>38</td>\n",
       "      <td>2</td>\n",
       "      <td>215646</td>\n",
       "      <td>11</td>\n",
       "      <td>9</td>\n",
       "      <td>0</td>\n",
       "      <td>5</td>\n",
       "      <td>1</td>\n",
       "      <td>4</td>\n",
       "      <td>1</td>\n",
       "      <td>0</td>\n",
       "      <td>0</td>\n",
       "      <td>40</td>\n",
       "      <td>38</td>\n",
       "      <td>0</td>\n",
       "    </tr>\n",
       "    <tr>\n",
       "      <th>3</th>\n",
       "      <td>53</td>\n",
       "      <td>2</td>\n",
       "      <td>234721</td>\n",
       "      <td>1</td>\n",
       "      <td>7</td>\n",
       "      <td>2</td>\n",
       "      <td>5</td>\n",
       "      <td>0</td>\n",
       "      <td>2</td>\n",
       "      <td>1</td>\n",
       "      <td>0</td>\n",
       "      <td>0</td>\n",
       "      <td>40</td>\n",
       "      <td>38</td>\n",
       "      <td>0</td>\n",
       "    </tr>\n",
       "    <tr>\n",
       "      <th>4</th>\n",
       "      <td>28</td>\n",
       "      <td>2</td>\n",
       "      <td>338409</td>\n",
       "      <td>9</td>\n",
       "      <td>13</td>\n",
       "      <td>2</td>\n",
       "      <td>9</td>\n",
       "      <td>5</td>\n",
       "      <td>2</td>\n",
       "      <td>0</td>\n",
       "      <td>0</td>\n",
       "      <td>0</td>\n",
       "      <td>40</td>\n",
       "      <td>4</td>\n",
       "      <td>0</td>\n",
       "    </tr>\n",
       "  </tbody>\n",
       "</table>\n",
       "</div>"
      ],
      "text/plain": [
       "   age  workclass  fnlwgt  education  education-num  marital-status  \\\n",
       "0   39          5   77516          9             13               4   \n",
       "1   50          4   83311          9             13               2   \n",
       "2   38          2  215646         11              9               0   \n",
       "3   53          2  234721          1              7               2   \n",
       "4   28          2  338409          9             13               2   \n",
       "\n",
       "   occupation  relationship  race  gender  capital-gain  capital-loss  \\\n",
       "0           0             1     4       1          2174             0   \n",
       "1           3             0     4       1             0             0   \n",
       "2           5             1     4       1             0             0   \n",
       "3           5             0     2       1             0             0   \n",
       "4           9             5     2       0             0             0   \n",
       "\n",
       "   hours-per-week  native-country  income  \n",
       "0              40              38       0  \n",
       "1              13              38       0  \n",
       "2              40              38       0  \n",
       "3              40              38       0  \n",
       "4              40               4       0  "
      ]
     },
     "execution_count": 11,
     "metadata": {},
     "output_type": "execute_result"
    }
   ],
   "source": [
    "df.head()"
   ]
  },
  {
   "cell_type": "markdown",
   "id": "519d29d5",
   "metadata": {},
   "source": [
    "### Adult dataset의 income 추론 모델링\n",
    "\n",
    "### 데이터 분할\n",
    "\n",
    "-   X, y 나누기\n",
    "-   train/validation/test set 나누기\n"
   ]
  },
  {
   "cell_type": "code",
   "execution_count": 12,
   "id": "1a02dc5b",
   "metadata": {},
   "outputs": [
    {
     "data": {
      "text/plain": [
       "((30162,), (30162, 14))"
      ]
     },
     "execution_count": 12,
     "metadata": {},
     "output_type": "execute_result"
    }
   ],
   "source": [
    "y = df['income'].values\n",
    "X = df.drop(columns=\"income\").values\n",
    "y.shape, X.shape"
   ]
  },
  {
   "cell_type": "code",
   "execution_count": null,
   "id": "384b9f07",
   "metadata": {},
   "outputs": [
    {
     "data": {
      "text/plain": [
       "((16965, 14), (5656, 14), (7541, 14))"
      ]
     },
     "execution_count": 13,
     "metadata": {},
     "output_type": "execute_result"
    }
   ],
   "source": [
    "# hold out 방식으로 데이터셋을 나누기.\n",
    "# 1차: 75% 학습 및 검증, 25% 테스트\n",
    "# 2차: 75% 학습, 25% 검증\n",
    "from sklearn.model_selection import train_test_split\n",
    "X_tmp, X_test, y_tmp, y_test = train_test_split(X,y,test_size=0.25,stratify=y,random_state=0)\n",
    "X_train, X_val, y_train, y_val = train_test_split(X_tmp, y_tmp, test_size=0.25, stratify=y_tmp, random_state=0)\n",
    "\n",
    "X_train.shape, X_val.shape, X_test.shape"
   ]
  },
  {
   "cell_type": "markdown",
   "id": "da0254a9",
   "metadata": {},
   "source": [
    "### 모델생성, 학습\n",
    "\n",
    "-   DecisionTreeClassifier\n",
    "-   train set 이용해 학습\n",
    "\n",
    "### 검증\n",
    "\n",
    "-   평가지표: 정확도(accuracy)\n",
    "-   train set/validation set 에 대해서 모델 검증"
   ]
  },
  {
   "cell_type": "code",
   "execution_count": 14,
   "id": "d51c0aac",
   "metadata": {},
   "outputs": [
    {
     "name": "stdout",
     "output_type": "stream",
     "text": [
      "max_depth: 3 validation 정확도: 0.8306223479490806\n",
      "max_depth: 4 validation 정확도: 0.8373408769448374\n",
      "max_depth: 5 validation 정확도: 0.8408769448373409\n",
      "max_depth: 6 validation 정확도: 0.8373408769448374\n",
      "max_depth: 7 validation 정확도: 0.844059405940594\n",
      "max_depth: 8 validation 정확도: 0.8460042432814711\n",
      "max_depth: 9 validation 정확도: 0.8481258840169731\n",
      "max_depth: 10 validation 정확도: 0.8451202263083452\n",
      "max_depth: 11 validation 정확도: 0.8468882602545968\n",
      "max_depth: 12 validation 정확도: 0.8474186704384724\n"
     ]
    }
   ],
   "source": [
    "from sklearn.tree import DecisionTreeClassifier\n",
    "from sklearn.metrics import accuracy_score\n",
    "\n",
    "##### 모델링\n",
    "max_depth_list = [3, 4, 5, 6, 7, 8, 9, 10, 11,12]\n",
    "train_acc_list = []\n",
    "val_acc_list = []\n",
    "for max_depth in max_depth_list:\n",
    "    model = DecisionTreeClassifier(max_depth=max_depth, random_state=0)\n",
    "    model.fit(X_train, y_train)\n",
    "    # 검증\n",
    "    pred_train = model.predict(X_train)\n",
    "    pred_val = model.predict(X_val)\n",
    "    train_acc = accuracy_score(y_train, pred_train)\n",
    "    val_acc = accuracy_score(y_val, pred_val)\n",
    "    print(f\"max_depth: {max_depth} validation 정확도: {val_acc}\")\n",
    "    train_acc_list.append(train_acc)\n",
    "    val_acc_list.append(val_acc)"
   ]
  },
  {
   "cell_type": "code",
   "execution_count": 15,
   "id": "6c851cb0",
   "metadata": {},
   "outputs": [
    {
     "data": {
      "image/png": "[encoded data removed]",
      "text/plain": [
       "<Figure size 640x480 with 1 Axes>"
      ]
     },
     "metadata": {},
     "output_type": "display_data"
    }
   ],
   "source": [
    "import matplotlib.pyplot as plt\n",
    "plt.plot(max_depth_list, train_acc_list, label=\"train set accuracy\")\n",
    "plt.plot(max_depth_list, val_acc_list, label=\"valid set accuracy\")\n",
    "plt.legend()\n",
    "plt.show()"
   ]
  },
  {
   "cell_type": "markdown",
   "id": "359f0e94",
   "metadata": {},
   "source": [
    "### 최종평가\n",
    "\n",
    "-   test set으로 최종평가"
   ]
  },
  {
   "cell_type": "code",
   "execution_count": 16,
   "id": "2e6a78f5",
   "metadata": {},
   "outputs": [
    {
     "name": "stdout",
     "output_type": "stream",
     "text": [
      "최종 정확도 평가결과: 0.8380851345975335\n"
     ]
    }
   ],
   "source": [
    "best_model = DecisionTreeClassifier(max_depth=9,random_state=0)\n",
    "best_model.fit(X_train, y_train)\n",
    "pred_test = best_model.predict(X_test)\n",
    "acc_score = accuracy_score(y_test, pred_test)\n",
    "print(\"최종 정확도 평가결과:\", acc_score)"
   ]
  },
  {
   "cell_type": "code",
   "execution_count": 17,
   "id": "debbd9fa",
   "metadata": {},
   "outputs": [
    {
     "data": {
      "text/plain": [
       "array([0, 0, 1, 0, 0, 0, 0, 0, 1, 0])"
      ]
     },
     "execution_count": 17,
     "metadata": {},
     "output_type": "execute_result"
    }
   ],
   "source": [
    "## 새로운 데이터를 모델을 이용해 추론.\n",
    "new_X = X_test[10:20]\n",
    "pred = best_model.predict(new_X)\n",
    "pred"
   ]
  },
  {
   "cell_type": "code",
   "execution_count": 18,
   "id": "b1f4bed9",
   "metadata": {},
   "outputs": [
    {
     "data": {
      "text/plain": [
       "array(['<=50K', '<=50K', '>50K', '<=50K', '<=50K', '<=50K', '<=50K',\n",
       "       '<=50K', '>50K', '<=50K'], dtype=object)"
      ]
     },
     "execution_count": 18,
     "metadata": {},
     "output_type": "execute_result"
    }
   ],
   "source": [
    "le_dict['income'].classes_[pred]"
   ]
  },
  {
   "cell_type": "markdown",
   "id": "daca8c6b",
   "metadata": {},
   "source": [
    "## 원핫 인코딩(One-Hot encoding)\n",
    "\n",
    "-   N개의 클래스를 N 차원의 One-Hot 벡터로 표현되도록 변환\n",
    "    -   고유값들을 피처(컬럼)로 만들고 정답에 해당하는 열은 1로 나머진 0으로 표시한다..\n",
    "-   **숫자의 크기 차이가 모델에 영향을 미치는 선형 계열 모델(로지스틱회귀, SVM, 신경망)에서 범주형 데이터 변환시 Label Encoding보다 One Hot Encoding을 사용한다.**\n",
    "-   **DecisionTree 계열의 알고리즘은 Feature에 0이 많은 경우(Sparse Matrix라고 한다.) 성능이 떨어지기 때문에 Label Encoding을 한다.**"
   ]
  },
  {
   "cell_type": "markdown",
   "id": "812c0341",
   "metadata": {},
   "source": [
    "### One-Hot Encoding 변환 처리\n",
    "\n",
    "-   **sklearn.preprocessing.OneHotEncoder**\n",
    "    -   fit(데이터셋): 데이터셋을 기준으로 어떻게 변환할 지 학습\n",
    "    -   transform(데이터셋): Argument로 받은 데이터셋을 원핫인코딩 처리\n",
    "    -   fit_transform(데이터셋): 학습과 변환을 한번에 처리\n",
    "    -   get_feature_names_out() : 원핫인코딩으로 변환된 Feature(컬럼)들의 이름을 반환\n",
    "    -   **데이터셋은 2차원 배열을 전달 하며 Feature별로 원핫인코딩 처리한다.**\n",
    "        -   DataFrame도 가능\n",
    "        -   원핫인코딩 처리시 모든 타입의 값들을 다 변환한다. (연속형 값들도 변환) 그래서 변환려는 변수들만 모아서 처리해야 한다."
   ]
  },
  {
   "cell_type": "markdown",
   "id": "d7306620",
   "metadata": {},
   "source": [
    "> OneHotEncoder객체 생성시 sparse 매개변수의 값을 False로 설정하지 않으면 scipy의 csr_matrix(희소행렬 객체)로 반환.  \n",
    "> 희소행렬은 대부분 0으로 구성된 행렬과 계산이나 메모리 효율을 이용해 0이 아닌 값의 index만 관리한다.  \n",
    "> csr_matrix.toarray()로 ndarray로 바꿀수 있다."
   ]
  },
  {
   "cell_type": "markdown",
   "id": "7a273092",
   "metadata": {},
   "source": [
    "### adult dataset - one-hot encoding 적용\n",
    "\n",
    "-   **전체 Feature 중 'age', 'workclass','education', 'occupation', 'gender', 'hours-per-week', 'income' 만 사용.**\n",
    "-   범주형 Feature중 **income은 출력 데이터이므로 Label Encoding 처리**를 한 뒤 y로 뺀다.\n",
    "-   나머지 범주형Feature들은 One-hot encoding 처리한다.\n",
    "    -   'workclass','education', 'occupation', 'gender'\n"
   ]
  },
  {
   "cell_type": "code",
   "execution_count": 19,
   "id": "10d84d5f",
   "metadata": {},
   "outputs": [],
   "source": [
    "cols = ['age', 'workclass','fnlwgt','education', 'education-num', 'marital-status', 'occupation','relationship', 'race', 'gender','capital-gain','capital-loss', 'hours-per-week','native-country', 'income']\n",
    "use_cols = ['age', 'workclass','education', 'occupation', 'gender', 'hours-per-week', 'income']"
   ]
  },
  {
   "cell_type": "code",
   "execution_count": 20,
   "id": "19b416b9",
   "metadata": {},
   "outputs": [
    {
     "data": {
      "text/html": [
       "<div>\n",
       "<style scoped>\n",
       "    .dataframe tbody tr th:only-of-type {\n",
       "        vertical-align: middle;\n",
       "    }\n",
       "\n",
       "    .dataframe tbody tr th {\n",
       "        vertical-align: top;\n",
       "    }\n",
       "\n",
       "    .dataframe thead th {\n",
       "        text-align: right;\n",
       "    }\n",
       "</style>\n",
       "<table border=\"1\" class=\"dataframe\">\n",
       "  <thead>\n",
       "    <tr style=\"text-align: right;\">\n",
       "      <th></th>\n",
       "      <th>age</th>\n",
       "      <th>workclass</th>\n",
       "      <th>education</th>\n",
       "      <th>occupation</th>\n",
       "      <th>gender</th>\n",
       "      <th>hours-per-week</th>\n",
       "      <th>income</th>\n",
       "    </tr>\n",
       "  </thead>\n",
       "  <tbody>\n",
       "    <tr>\n",
       "      <th>0</th>\n",
       "      <td>39</td>\n",
       "      <td>State-gov</td>\n",
       "      <td>Bachelors</td>\n",
       "      <td>Adm-clerical</td>\n",
       "      <td>Male</td>\n",
       "      <td>40</td>\n",
       "      <td>&lt;=50K</td>\n",
       "    </tr>\n",
       "    <tr>\n",
       "      <th>1</th>\n",
       "      <td>50</td>\n",
       "      <td>Self-emp-not-inc</td>\n",
       "      <td>Bachelors</td>\n",
       "      <td>Exec-managerial</td>\n",
       "      <td>Male</td>\n",
       "      <td>13</td>\n",
       "      <td>&lt;=50K</td>\n",
       "    </tr>\n",
       "    <tr>\n",
       "      <th>2</th>\n",
       "      <td>38</td>\n",
       "      <td>Private</td>\n",
       "      <td>HS-grad</td>\n",
       "      <td>Handlers-cleaners</td>\n",
       "      <td>Male</td>\n",
       "      <td>40</td>\n",
       "      <td>&lt;=50K</td>\n",
       "    </tr>\n",
       "    <tr>\n",
       "      <th>3</th>\n",
       "      <td>53</td>\n",
       "      <td>Private</td>\n",
       "      <td>11th</td>\n",
       "      <td>Handlers-cleaners</td>\n",
       "      <td>Male</td>\n",
       "      <td>40</td>\n",
       "      <td>&lt;=50K</td>\n",
       "    </tr>\n",
       "    <tr>\n",
       "      <th>4</th>\n",
       "      <td>28</td>\n",
       "      <td>Private</td>\n",
       "      <td>Bachelors</td>\n",
       "      <td>Prof-specialty</td>\n",
       "      <td>Female</td>\n",
       "      <td>40</td>\n",
       "      <td>&lt;=50K</td>\n",
       "    </tr>\n",
       "    <tr>\n",
       "      <th>...</th>\n",
       "      <td>...</td>\n",
       "      <td>...</td>\n",
       "      <td>...</td>\n",
       "      <td>...</td>\n",
       "      <td>...</td>\n",
       "      <td>...</td>\n",
       "      <td>...</td>\n",
       "    </tr>\n",
       "    <tr>\n",
       "      <th>30157</th>\n",
       "      <td>27</td>\n",
       "      <td>Private</td>\n",
       "      <td>Assoc-acdm</td>\n",
       "      <td>Tech-support</td>\n",
       "      <td>Female</td>\n",
       "      <td>38</td>\n",
       "      <td>&lt;=50K</td>\n",
       "    </tr>\n",
       "    <tr>\n",
       "      <th>30158</th>\n",
       "      <td>40</td>\n",
       "      <td>Private</td>\n",
       "      <td>HS-grad</td>\n",
       "      <td>Machine-op-inspct</td>\n",
       "      <td>Male</td>\n",
       "      <td>40</td>\n",
       "      <td>&gt;50K</td>\n",
       "    </tr>\n",
       "    <tr>\n",
       "      <th>30159</th>\n",
       "      <td>58</td>\n",
       "      <td>Private</td>\n",
       "      <td>HS-grad</td>\n",
       "      <td>Adm-clerical</td>\n",
       "      <td>Female</td>\n",
       "      <td>40</td>\n",
       "      <td>&lt;=50K</td>\n",
       "    </tr>\n",
       "    <tr>\n",
       "      <th>30160</th>\n",
       "      <td>22</td>\n",
       "      <td>Private</td>\n",
       "      <td>HS-grad</td>\n",
       "      <td>Adm-clerical</td>\n",
       "      <td>Male</td>\n",
       "      <td>20</td>\n",
       "      <td>&lt;=50K</td>\n",
       "    </tr>\n",
       "    <tr>\n",
       "      <th>30161</th>\n",
       "      <td>52</td>\n",
       "      <td>Self-emp-inc</td>\n",
       "      <td>HS-grad</td>\n",
       "      <td>Exec-managerial</td>\n",
       "      <td>Female</td>\n",
       "      <td>40</td>\n",
       "      <td>&gt;50K</td>\n",
       "    </tr>\n",
       "  </tbody>\n",
       "</table>\n",
       "<p>30162 rows × 7 columns</p>\n",
       "</div>"
      ],
      "text/plain": [
       "       age         workclass   education         occupation  gender  \\\n",
       "0       39         State-gov   Bachelors       Adm-clerical    Male   \n",
       "1       50  Self-emp-not-inc   Bachelors    Exec-managerial    Male   \n",
       "2       38           Private     HS-grad  Handlers-cleaners    Male   \n",
       "3       53           Private        11th  Handlers-cleaners    Male   \n",
       "4       28           Private   Bachelors     Prof-specialty  Female   \n",
       "...    ...               ...         ...                ...     ...   \n",
       "30157   27           Private  Assoc-acdm       Tech-support  Female   \n",
       "30158   40           Private     HS-grad  Machine-op-inspct    Male   \n",
       "30159   58           Private     HS-grad       Adm-clerical  Female   \n",
       "30160   22           Private     HS-grad       Adm-clerical    Male   \n",
       "30161   52      Self-emp-inc     HS-grad    Exec-managerial  Female   \n",
       "\n",
       "       hours-per-week income  \n",
       "0                  40  <=50K  \n",
       "1                  13  <=50K  \n",
       "2                  40  <=50K  \n",
       "3                  40  <=50K  \n",
       "4                  40  <=50K  \n",
       "...               ...    ...  \n",
       "30157              38  <=50K  \n",
       "30158              40   >50K  \n",
       "30159              40  <=50K  \n",
       "30160              20  <=50K  \n",
       "30161              40   >50K  \n",
       "\n",
       "[30162 rows x 7 columns]"
      ]
     },
     "execution_count": 20,
     "metadata": {},
     "output_type": "execute_result"
    }
   ],
   "source": [
    "df2 = adult_df[use_cols].reset_index(drop=True)\n",
    "df2"
   ]
  },
  {
   "cell_type": "markdown",
   "id": "1fef997d",
   "metadata": {},
   "source": [
    "##### 필요한 Feature들만 추출"
   ]
  },
  {
   "cell_type": "code",
   "execution_count": 21,
   "id": "399826b7",
   "metadata": {},
   "outputs": [],
   "source": [
    "category_colnames = ['workclass','education', 'occupation', 'gender']\n",
    "continuous_colnames = ['age', 'hours-per-week']\n",
    "target = 'income'"
   ]
  },
  {
   "cell_type": "code",
   "execution_count": 22,
   "id": "6db9d2f0",
   "metadata": {},
   "outputs": [],
   "source": [
    "# X, y (target-income)를 분리\n",
    "# y는 LabelEncoding\n",
    "\n",
    "target_value = df2[target]\n",
    "data = df2.drop(columns=target)"
   ]
  },
  {
   "cell_type": "code",
   "execution_count": 23,
   "id": "e431d515",
   "metadata": {},
   "outputs": [
    {
     "data": {
      "text/plain": [
       "array([0, 0, 0, ..., 0, 0, 1], shape=(30162,))"
      ]
     },
     "execution_count": 23,
     "metadata": {},
     "output_type": "execute_result"
    }
   ],
   "source": [
    "y_le = LabelEncoder()\n",
    "y2 = y_le.fit_transform(target_value)\n",
    "y2"
   ]
  },
  {
   "cell_type": "markdown",
   "id": "7fd3748b",
   "metadata": {},
   "source": [
    "#### one hot encoding 처리"
   ]
  },
  {
   "cell_type": "code",
   "execution_count": 24,
   "id": "1a966a46",
   "metadata": {},
   "outputs": [
    {
     "data": {
      "text/plain": [
       "(30162, 39)"
      ]
     },
     "execution_count": 24,
     "metadata": {},
     "output_type": "execute_result"
    }
   ],
   "source": [
    "# category_colnames 컬럼들을 원핫인코딩'\n",
    "from sklearn.preprocessing import OneHotEncoder\n",
    "ohe = OneHotEncoder()\n",
    "category_ohe = ohe.fit_transform(data[category_colnames])\n",
    "category_ohe.shape"
   ]
  },
  {
   "cell_type": "code",
   "execution_count": 25,
   "id": "43aac28d",
   "metadata": {},
   "outputs": [
    {
     "data": {
      "text/plain": [
       "array(['workclass_Federal-gov', 'workclass_Local-gov',\n",
       "       'workclass_Private', 'workclass_Self-emp-inc',\n",
       "       'workclass_Self-emp-not-inc', 'workclass_State-gov',\n",
       "       'workclass_Without-pay', 'education_10th', 'education_11th',\n",
       "       'education_12th', 'education_1st-4th', 'education_5th-6th',\n",
       "       'education_7th-8th', 'education_9th', 'education_Assoc-acdm',\n",
       "       'education_Assoc-voc', 'education_Bachelors',\n",
       "       'education_Doctorate', 'education_HS-grad', 'education_Masters',\n",
       "       'education_Preschool', 'education_Prof-school',\n",
       "       'education_Some-college', 'occupation_Adm-clerical',\n",
       "       'occupation_Armed-Forces', 'occupation_Craft-repair',\n",
       "       'occupation_Exec-managerial', 'occupation_Farming-fishing',\n",
       "       'occupation_Handlers-cleaners', 'occupation_Machine-op-inspct',\n",
       "       'occupation_Other-service', 'occupation_Priv-house-serv',\n",
       "       'occupation_Prof-specialty', 'occupation_Protective-serv',\n",
       "       'occupation_Sales', 'occupation_Tech-support',\n",
       "       'occupation_Transport-moving', 'gender_Female', 'gender_Male'],\n",
       "      dtype=object)"
      ]
     },
     "execution_count": 25,
     "metadata": {},
     "output_type": "execute_result"
    }
   ],
   "source": [
    "ohe.get_feature_names_out()"
   ]
  },
  {
   "cell_type": "code",
   "execution_count": 27,
   "id": "1684c4fc",
   "metadata": {},
   "outputs": [
    {
     "data": {
      "text/plain": [
       "(30162, 41)"
      ]
     },
     "execution_count": 27,
     "metadata": {},
     "output_type": "execute_result"
    }
   ],
   "source": [
    "### category_ohe => 범주형 컬럼들의 값만 변환한 결과\n",
    "##### category_ohe + 수치형(연속형) 컬럼들을 붙여준다.\n",
    "# DF + DF(합치기) -> pd.concat()\n",
    "# ndarray + ndarray (합치기) -> np.concatenate()\n",
    "import numpy as np\n",
    "X2 = np.concatenate([category_ohe.toarray(), data[continuous_colnames].values],axis=1)\n",
    "X2.shape"
   ]
  },
  {
   "cell_type": "code",
   "execution_count": 28,
   "id": "18e21228",
   "metadata": {},
   "outputs": [
    {
     "data": {
      "text/plain": [
       "((30162, 41), (30162,))"
      ]
     },
     "execution_count": 28,
     "metadata": {},
     "output_type": "execute_result"
    }
   ],
   "source": [
    "X2.shape, y2.shape"
   ]
  },
  {
   "cell_type": "markdown",
   "id": "3897a1bd",
   "metadata": {},
   "source": [
    "### 모델 학습\n",
    "##### train, validation, test set 나누기\n"
   ]
  },
  {
   "cell_type": "code",
   "execution_count": 29,
   "id": "bb9e1bd9",
   "metadata": {},
   "outputs": [
    {
     "data": {
      "text/plain": [
       "((16965, 41), (5656, 41), (7541, 41))"
      ]
     },
     "execution_count": 29,
     "metadata": {},
     "output_type": "execute_result"
    }
   ],
   "source": [
    "from sklearn.model_selection import train_test_split\n",
    "# testset 분리\n",
    "X_tmp2, X_test2, y_tmp2, y_test2 = train_test_split(X2, y2, stratify=y2, test_size=0.25, random_state=0)\n",
    "# train, valid set 분리\n",
    "X_train2, X_val2, y_train2, y_val2  = train_test_split(X_tmp2, y_tmp2, stratify=y_tmp2, test_size=0.25, random_state=0)\n",
    "\n",
    "X_train2.shape, X_val2.shape, X_test2.shape"
   ]
  },
  {
   "cell_type": "markdown",
   "id": "5e74f1ce",
   "metadata": {},
   "source": [
    "##### 모델생성\n",
    "\n",
    "-   DecisionTreeClassifier 사용"
   ]
  },
  {
   "cell_type": "code",
   "execution_count": 30,
   "id": "b739ac1d",
   "metadata": {},
   "outputs": [
    {
     "name": "stdout",
     "output_type": "stream",
     "text": [
      "max_depth: 3 val 정확도: 0.7715700141442716\n",
      "max_depth: 4 val 정확도: 0.7865983026874116\n",
      "max_depth: 5 val 정확도: 0.7874823196605375\n",
      "max_depth: 6 val 정확도: 0.7904879773691655\n",
      "max_depth: 7 val 정확도: 0.7966760961810466\n",
      "max_depth: 8 val 정확도: 0.7942008486562943\n",
      "max_depth: 9 val 정확도: 0.7943776520509194\n",
      "max_depth: 10 val 정확도: 0.7841230551626591\n"
     ]
    }
   ],
   "source": [
    "### 모델링.\n",
    "from sklearn.tree import DecisionTreeClassifier\n",
    "from sklearn.metrics import accuracy_score\n",
    "\n",
    "max_depth_list2 = range(3, 11)\n",
    "train_acc_list2 = []\n",
    "val_acc_list2 = []\n",
    "for max_depth2 in max_depth_list2:\n",
    "    model2 = DecisionTreeClassifier(max_depth=max_depth2, random_state=0)\n",
    "    model2.fit(X_train2, y_train2)\n",
    "\n",
    "    pred_train2 = model2.predict(X_train2)\n",
    "    pred_val2 = model2.predict(X_val2)\n",
    "\n",
    "    train_acc2 = accuracy_score(y_train2, pred_train2)\n",
    "    val_acc2 = accuracy_score(y_val2, pred_val2)\n",
    "    print(f\"max_depth: {max_depth2} val 정확도: {val_acc2}\")\n",
    "    train_acc_list2.append(train_acc2)\n",
    "    val_acc_list2.append(val_acc2)"
   ]
  },
  {
   "cell_type": "code",
   "execution_count": 31,
   "id": "acae1af8",
   "metadata": {},
   "outputs": [
    {
     "data": {
      "image/png": "[encoded data removed]",
      "text/plain": [
       "<Figure size 640x480 with 1 Axes>"
      ]
     },
     "metadata": {},
     "output_type": "display_data"
    }
   ],
   "source": [
    "import matplotlib.pyplot as plt\n",
    "\n",
    "plt.plot(max_depth_list2, train_acc_list2, label=\"train acc\")\n",
    "plt.plot(max_depth_list2, val_acc_list2, label=\"validation acc\")\n",
    "plt.legend()\n",
    "plt.show()"
   ]
  },
  {
   "cell_type": "markdown",
   "id": "fc55ac3d",
   "metadata": {},
   "source": [
    "##### 최종평가"
   ]
  },
  {
   "cell_type": "code",
   "execution_count": 33,
   "id": "9942bfc6",
   "metadata": {},
   "outputs": [
    {
     "name": "stdout",
     "output_type": "stream",
     "text": [
      "Test set 최종 정확도 평가: 0.8055960747911417\n"
     ]
    }
   ],
   "source": [
    "best_model2 = DecisionTreeClassifier(max_depth=7, random_state=0)\n",
    "best_model2.fit(X_train2,y_train2)\n",
    "pred_test2 = best_model2.predict(X_test2)\n",
    "acc_score2 = accuracy_score(y_test, pred_test2)\n",
    "print(\"Test set 최종 정확도 평가:\", acc_score2)"
   ]
  },
  {
   "cell_type": "markdown",
   "id": "39dba9be",
   "metadata": {},
   "source": [
    "# 수치형 데이터 전처리\n",
    "\n",
    "-   연속형 데이터는 변수가 가지는 값들이 연속된 값인 경우로 보통 정해진 범위 안의 모든 실수가 값이 될 수 있다.\n",
    "\n",
    "## Feature Scaling(정규화-Normalization)\n",
    "\n",
    "-   각 피처들간의 값의 범위(척도-Scale)가 다를 경우 이 값의 범위를 일정한 범위로 맞추는 작업\n",
    "-   트리계열을 제외한 대부분의 머신러닝 알고리즘들이 Feature간의 서로 다른 척도(Scale)에 영향을 받는다.\n",
    "    -   선형모델, SVM 모델, 신경망 모델\n",
    "-   **Scaling(정규화)은 train set으로 fitting 한다. test set이나 예측할 새로운 데이터는 train set으로 fitting한 것으로 변환한다.**\n",
    "    -   Train Set으로 학습한 scaler를 이용해 Train/Validation/Test set들을 변환한다."
   ]
  },
  {
   "cell_type": "markdown",
   "id": "04bf07dd",
   "metadata": {},
   "source": [
    "### 종류\n",
    "\n",
    "-   표준화(Standardization) Scaling\n",
    "    -   StandardScaler 사용\n",
    "-   Min Max Scaling\n",
    "    -   MinMaxScaler 사용\n",
    "\n",
    "### 메소드\n",
    "\n",
    "-   fit(): 어떻게 변환할 지 학습\n",
    "    -   2차원 배열을 받으면 0축을 기준으로 학습한다. (DataFrame으로는 컬럼기준)\n",
    "-   transform(): 변환\n",
    "    -   2차원 배열을 받으며 0축을 기준으로 변환한다. (DataFrame으로는 컬럼기준)\n",
    "-   fit_transform(): 학습과 변환을 한번에 처리\n",
    "-   inverse_transform(): 변환된 값을 원래값으로 복원"
   ]
  },
  {
   "cell_type": "markdown",
   "id": "674e7946",
   "metadata": {},
   "source": [
    "## 표준화(StandardScaler)\n",
    "\n",
    "-   피쳐의 값들이 평균이 0이고 표준편차가 1인 범위에 있도록 변환한다.\n",
    "    -   0을 기준으로 모든 데이터들이 모여있게 된다\n",
    "\n",
    "$$\n",
    "New\\,x_i = \\cfrac{X_i-\\mu}{\\sigma}\\\\\n",
    "\\mu-평균,\\;  \\sigma-표준편차\n",
    "$$\n",
    "\n",
    "-   **sklearn.preprocessing.StandardScaler** 를 이용"
   ]
  },
  {
   "cell_type": "markdown",
   "id": "c18a4bc5",
   "metadata": {},
   "source": [
    "## 전처리시 주의할 점 (특히 Feature scaling 시)\n",
    "\n",
    "-   전처리는 Train set을 학습시킨 전처리기로 train, validation, test set을 변환시킨다.\n",
    "-   이유: 앞으로 모델이 예측할 새로운 데이터셋에 대한 정확한 평가를 위해서.\n"
   ]
  },
  {
   "cell_type": "markdown",
   "id": "ceead852",
   "metadata": {},
   "source": [
    "## MinMaxScaler\n",
    "\n",
    "-   데이터셋의 모든 값을 0(Min value)과 1(Max value) 사이의 값으로 변환한다.\n",
    "    $$\n",
    "    New\\,x_i = \\cfrac{x_i - min(X)}{max(X) - min(X)}\n",
    "    $$"
   ]
  },
  {
   "cell_type": "markdown",
   "id": "e21bb127",
   "metadata": {},
   "source": [
    "### 위스콘신 유방암 데이터셋\n",
    "\n",
    "-   위스콘신 대학교에서 제공한 유방암 진단결과 데이터\n",
    "-   Feature: 종양 측정값들\n",
    "    -   모든 Feature들은 **연속형(continous)** 이다.\n",
    "-   target: 악성, 양성 여부\n",
    "-   scikit-learn에서 toy dataset으로 제공한다.\n",
    "    -   load_breast_cancer() 함수 이용"
   ]
  },
  {
   "cell_type": "code",
   "execution_count": 34,
   "id": "1ca4fb5f",
   "metadata": {},
   "outputs": [],
   "source": [
    "from sklearn.datasets import load_breast_cancer\n",
    "\n",
    "dataset = load_breast_cancer()\n",
    "X, y = dataset.data, dataset.target"
   ]
  },
  {
   "cell_type": "code",
   "execution_count": 38,
   "id": "02e30e32",
   "metadata": {},
   "outputs": [
    {
     "data": {
      "text/plain": [
       "array(['malignant', 'benign'], dtype='<U9')"
      ]
     },
     "execution_count": 38,
     "metadata": {},
     "output_type": "execute_result"
    }
   ],
   "source": [
    "dataset.target_names"
   ]
  },
  {
   "cell_type": "code",
   "execution_count": 39,
   "id": "ccad37e6",
   "metadata": {},
   "outputs": [
    {
     "data": {
      "text/html": [
       "<div>\n",
       "<style scoped>\n",
       "    .dataframe tbody tr th:only-of-type {\n",
       "        vertical-align: middle;\n",
       "    }\n",
       "\n",
       "    .dataframe tbody tr th {\n",
       "        vertical-align: top;\n",
       "    }\n",
       "\n",
       "    .dataframe thead th {\n",
       "        text-align: right;\n",
       "    }\n",
       "</style>\n",
       "<table border=\"1\" class=\"dataframe\">\n",
       "  <thead>\n",
       "    <tr style=\"text-align: right;\">\n",
       "      <th></th>\n",
       "      <th>mean radius</th>\n",
       "      <th>mean texture</th>\n",
       "      <th>mean perimeter</th>\n",
       "      <th>mean area</th>\n",
       "      <th>mean smoothness</th>\n",
       "      <th>mean compactness</th>\n",
       "      <th>mean concavity</th>\n",
       "      <th>mean concave points</th>\n",
       "      <th>mean symmetry</th>\n",
       "      <th>mean fractal dimension</th>\n",
       "      <th>...</th>\n",
       "      <th>worst texture</th>\n",
       "      <th>worst perimeter</th>\n",
       "      <th>worst area</th>\n",
       "      <th>worst smoothness</th>\n",
       "      <th>worst compactness</th>\n",
       "      <th>worst concavity</th>\n",
       "      <th>worst concave points</th>\n",
       "      <th>worst symmetry</th>\n",
       "      <th>worst fractal dimension</th>\n",
       "      <th>target</th>\n",
       "    </tr>\n",
       "  </thead>\n",
       "  <tbody>\n",
       "    <tr>\n",
       "      <th>0</th>\n",
       "      <td>17.99</td>\n",
       "      <td>10.38</td>\n",
       "      <td>122.80</td>\n",
       "      <td>1001.0</td>\n",
       "      <td>0.11840</td>\n",
       "      <td>0.27760</td>\n",
       "      <td>0.3001</td>\n",
       "      <td>0.14710</td>\n",
       "      <td>0.2419</td>\n",
       "      <td>0.07871</td>\n",
       "      <td>...</td>\n",
       "      <td>17.33</td>\n",
       "      <td>184.60</td>\n",
       "      <td>2019.0</td>\n",
       "      <td>0.1622</td>\n",
       "      <td>0.6656</td>\n",
       "      <td>0.7119</td>\n",
       "      <td>0.2654</td>\n",
       "      <td>0.4601</td>\n",
       "      <td>0.11890</td>\n",
       "      <td>malignant</td>\n",
       "    </tr>\n",
       "    <tr>\n",
       "      <th>1</th>\n",
       "      <td>20.57</td>\n",
       "      <td>17.77</td>\n",
       "      <td>132.90</td>\n",
       "      <td>1326.0</td>\n",
       "      <td>0.08474</td>\n",
       "      <td>0.07864</td>\n",
       "      <td>0.0869</td>\n",
       "      <td>0.07017</td>\n",
       "      <td>0.1812</td>\n",
       "      <td>0.05667</td>\n",
       "      <td>...</td>\n",
       "      <td>23.41</td>\n",
       "      <td>158.80</td>\n",
       "      <td>1956.0</td>\n",
       "      <td>0.1238</td>\n",
       "      <td>0.1866</td>\n",
       "      <td>0.2416</td>\n",
       "      <td>0.1860</td>\n",
       "      <td>0.2750</td>\n",
       "      <td>0.08902</td>\n",
       "      <td>malignant</td>\n",
       "    </tr>\n",
       "    <tr>\n",
       "      <th>2</th>\n",
       "      <td>19.69</td>\n",
       "      <td>21.25</td>\n",
       "      <td>130.00</td>\n",
       "      <td>1203.0</td>\n",
       "      <td>0.10960</td>\n",
       "      <td>0.15990</td>\n",
       "      <td>0.1974</td>\n",
       "      <td>0.12790</td>\n",
       "      <td>0.2069</td>\n",
       "      <td>0.05999</td>\n",
       "      <td>...</td>\n",
       "      <td>25.53</td>\n",
       "      <td>152.50</td>\n",
       "      <td>1709.0</td>\n",
       "      <td>0.1444</td>\n",
       "      <td>0.4245</td>\n",
       "      <td>0.4504</td>\n",
       "      <td>0.2430</td>\n",
       "      <td>0.3613</td>\n",
       "      <td>0.08758</td>\n",
       "      <td>malignant</td>\n",
       "    </tr>\n",
       "    <tr>\n",
       "      <th>3</th>\n",
       "      <td>11.42</td>\n",
       "      <td>20.38</td>\n",
       "      <td>77.58</td>\n",
       "      <td>386.1</td>\n",
       "      <td>0.14250</td>\n",
       "      <td>0.28390</td>\n",
       "      <td>0.2414</td>\n",
       "      <td>0.10520</td>\n",
       "      <td>0.2597</td>\n",
       "      <td>0.09744</td>\n",
       "      <td>...</td>\n",
       "      <td>26.50</td>\n",
       "      <td>98.87</td>\n",
       "      <td>567.7</td>\n",
       "      <td>0.2098</td>\n",
       "      <td>0.8663</td>\n",
       "      <td>0.6869</td>\n",
       "      <td>0.2575</td>\n",
       "      <td>0.6638</td>\n",
       "      <td>0.17300</td>\n",
       "      <td>malignant</td>\n",
       "    </tr>\n",
       "    <tr>\n",
       "      <th>4</th>\n",
       "      <td>20.29</td>\n",
       "      <td>14.34</td>\n",
       "      <td>135.10</td>\n",
       "      <td>1297.0</td>\n",
       "      <td>0.10030</td>\n",
       "      <td>0.13280</td>\n",
       "      <td>0.1980</td>\n",
       "      <td>0.10430</td>\n",
       "      <td>0.1809</td>\n",
       "      <td>0.05883</td>\n",
       "      <td>...</td>\n",
       "      <td>16.67</td>\n",
       "      <td>152.20</td>\n",
       "      <td>1575.0</td>\n",
       "      <td>0.1374</td>\n",
       "      <td>0.2050</td>\n",
       "      <td>0.4000</td>\n",
       "      <td>0.1625</td>\n",
       "      <td>0.2364</td>\n",
       "      <td>0.07678</td>\n",
       "      <td>malignant</td>\n",
       "    </tr>\n",
       "  </tbody>\n",
       "</table>\n",
       "<p>5 rows × 31 columns</p>\n",
       "</div>"
      ],
      "text/plain": [
       "   mean radius  mean texture  mean perimeter  mean area  mean smoothness  \\\n",
       "0        17.99         10.38          122.80     1001.0          0.11840   \n",
       "1        20.57         17.77          132.90     1326.0          0.08474   \n",
       "2        19.69         21.25          130.00     1203.0          0.10960   \n",
       "3        11.42         20.38           77.58      386.1          0.14250   \n",
       "4        20.29         14.34          135.10     1297.0          0.10030   \n",
       "\n",
       "   mean compactness  mean concavity  mean concave points  mean symmetry  \\\n",
       "0           0.27760          0.3001              0.14710         0.2419   \n",
       "1           0.07864          0.0869              0.07017         0.1812   \n",
       "2           0.15990          0.1974              0.12790         0.2069   \n",
       "3           0.28390          0.2414              0.10520         0.2597   \n",
       "4           0.13280          0.1980              0.10430         0.1809   \n",
       "\n",
       "   mean fractal dimension  ...  worst texture  worst perimeter  worst area  \\\n",
       "0                 0.07871  ...          17.33           184.60      2019.0   \n",
       "1                 0.05667  ...          23.41           158.80      1956.0   \n",
       "2                 0.05999  ...          25.53           152.50      1709.0   \n",
       "3                 0.09744  ...          26.50            98.87       567.7   \n",
       "4                 0.05883  ...          16.67           152.20      1575.0   \n",
       "\n",
       "   worst smoothness  worst compactness  worst concavity  worst concave points  \\\n",
       "0            0.1622             0.6656           0.7119                0.2654   \n",
       "1            0.1238             0.1866           0.2416                0.1860   \n",
       "2            0.1444             0.4245           0.4504                0.2430   \n",
       "3            0.2098             0.8663           0.6869                0.2575   \n",
       "4            0.1374             0.2050           0.4000                0.1625   \n",
       "\n",
       "   worst symmetry  worst fractal dimension     target  \n",
       "0          0.4601                  0.11890  malignant  \n",
       "1          0.2750                  0.08902  malignant  \n",
       "2          0.3613                  0.08758  malignant  \n",
       "3          0.6638                  0.17300  malignant  \n",
       "4          0.2364                  0.07678  malignant  \n",
       "\n",
       "[5 rows x 31 columns]"
      ]
     },
     "execution_count": 39,
     "metadata": {},
     "output_type": "execute_result"
    }
   ],
   "source": [
    "import pandas as pd\n",
    "import numpy as np\n",
    "# DataFrame으로 데이터 확인\n",
    "df = pd.DataFrame(X, columns=dataset.feature_names)\n",
    "df['target'] = np.where(y==0,dataset.target_names[0], dataset.target_names[1])\n",
    "df.head()"
   ]
  },
  {
   "cell_type": "markdown",
   "id": "8819a623",
   "metadata": {},
   "source": [
    "##### train/validation/test set으로 데이터 나누기\n",
    "- 전처리는 train set을 기준으로 trainset/testset/validation set의 데이터들을 변환.\n",
    "    - 전처리기 학습은 train set으로 한다."
   ]
  },
  {
   "cell_type": "code",
   "execution_count": 41,
   "id": "7f617734",
   "metadata": {},
   "outputs": [
    {
     "data": {
      "text/plain": [
       "((364, 30), (91, 30), (114, 30))"
      ]
     },
     "execution_count": 41,
     "metadata": {},
     "output_type": "execute_result"
    }
   ],
   "source": [
    "from sklearn.model_selection import train_test_split\n",
    "X_tmp, X_test, y_tmp, y_test = train_test_split(X,y,test_size=0.2,stratify=y,random_state=0)\n",
    "X_train, X_val, y_train, y_val = train_test_split(X_tmp,y_tmp, test_size=0.2, stratify=y_tmp,random_state=0)\n",
    "\n",
    "X_train.shape, X_val.shape, X_test.shape"
   ]
  },
  {
   "cell_type": "markdown",
   "id": "58d74ca8",
   "metadata": {},
   "source": [
    "### 전처리\n",
    "\n",
    "##### 표준화(StandardScaling)\n"
   ]
  },
  {
   "cell_type": "code",
   "execution_count": 42,
   "id": "b2802d87",
   "metadata": {},
   "outputs": [],
   "source": [
    "from sklearn.preprocessing import StandardScaler, MinMaxScaler\n",
    "# 객체 생성\n",
    "sc1 = StandardScaler()\n",
    "# fitting - 수치형 features 들을 변환\n",
    "sc1.fit(X_train) # train_set으로 학습\n",
    "## 변환\n",
    "X_train_sc1 = sc1.transform(X_train)    # train set 변환\n",
    "X_val_sc1 = sc1.transform(X_val)        # validation set 변환\n",
    "X_test_sc1 = sc1.transform(X_test)      # test set 변환."
   ]
  },
  {
   "cell_type": "markdown",
   "id": "2011d8a2",
   "metadata": {},
   "source": [
    "##### 확인\n",
    "\n",
    "-   평균, 표준편차 확인"
   ]
  },
  {
   "cell_type": "code",
   "execution_count": 43,
   "id": "308d33e1",
   "metadata": {},
   "outputs": [
    {
     "data": {
      "text/plain": [
       "array([-2.57349087e-15, -1.32921757e-15, -6.43105837e-16,  2.44310067e-16,\n",
       "       -8.97938622e-16,  4.88620133e-16,  4.11148527e-16, -5.05395481e-16,\n",
       "       -1.67997484e-15,  2.69198583e-15, -3.18807862e-16,  8.82688306e-16,\n",
       "       -4.05810916e-16,  6.43563347e-16,  7.83179992e-16, -3.52434809e-16,\n",
       "        5.37573649e-16, -8.97824245e-16, -1.95623432e-15,  1.57078258e-16,\n",
       "       -2.40116230e-16, -7.12189770e-17, -1.59483995e-15,  1.17412185e-15,\n",
       "        5.79512018e-15,  1.85504847e-15,  2.56205313e-17, -3.49232243e-16,\n",
       "        5.84392120e-16, -1.46769044e-15])"
      ]
     },
     "execution_count": 43,
     "metadata": {},
     "output_type": "execute_result"
    }
   ],
   "source": [
    "X_train_sc1.mean(axis=0)"
   ]
  },
  {
   "cell_type": "code",
   "execution_count": 45,
   "id": "5c250656",
   "metadata": {},
   "outputs": [
    {
     "data": {
      "text/plain": [
       "array([1., 1., 1., 1., 1., 1., 1., 1., 1., 1., 1., 1., 1., 1., 1., 1., 1.,\n",
       "       1., 1., 1., 1., 1., 1., 1., 1., 1., 1., 1., 1., 1.])"
      ]
     },
     "execution_count": 45,
     "metadata": {},
     "output_type": "execute_result"
    }
   ],
   "source": [
    "X_train_sc1.std(axis=0)"
   ]
  },
  {
   "cell_type": "code",
   "execution_count": 46,
   "id": "bf3124f4",
   "metadata": {},
   "outputs": [
    {
     "data": {
      "text/plain": [
       "array([-0.02755451,  0.08462339, -0.02558239, -0.04735788, -0.03309878,\n",
       "        0.0199306 ,  0.04675048, -0.02365148,  0.04530622,  0.0629339 ,\n",
       "        0.02884174,  0.02607431, -0.00372309, -0.02113176, -0.04401728,\n",
       "        0.04237617,  0.13306188, -0.00117358,  0.00600558,  0.1279736 ,\n",
       "       -0.01388783,  0.06839493, -0.02027369, -0.03423181, -0.00644577,\n",
       "       -0.001337  ,  0.04174787, -0.02712696,  0.02481148,  0.00464659])"
      ]
     },
     "execution_count": 46,
     "metadata": {},
     "output_type": "execute_result"
    }
   ],
   "source": [
    "X_test_sc1.mean(axis=0)"
   ]
  },
  {
   "cell_type": "code",
   "execution_count": 47,
   "id": "ff55d165",
   "metadata": {},
   "outputs": [
    {
     "data": {
      "text/plain": [
       "array([0.88433744, 0.95827143, 0.88627684, 0.83094529, 1.04597474,\n",
       "       1.04610933, 1.14094474, 0.96973869, 1.05451593, 1.05316398,\n",
       "       0.91982235, 0.88073149, 0.86254023, 0.80623181, 0.88080149,\n",
       "       1.16601392, 1.56666028, 1.10542899, 0.92873118, 1.63861554,\n",
       "       0.90372594, 0.95059555, 0.89584693, 0.84229665, 1.00673109,\n",
       "       1.02452928, 1.08144878, 0.91045547, 1.04668334, 1.06908734])"
      ]
     },
     "execution_count": 47,
     "metadata": {},
     "output_type": "execute_result"
    }
   ],
   "source": [
    "X_test_sc1.std(axis=0)"
   ]
  },
  {
   "cell_type": "markdown",
   "id": "a6f4ce9a",
   "metadata": {},
   "source": [
    "##### MinMax Scaling\n",
    "\n",
    "-   각 dataset별로 변환된 것을 다음의 변수에 대입\n",
    "    -   X_train_scaled2, X_val_scaled2, X_test_scaled2"
   ]
  },
  {
   "cell_type": "code",
   "execution_count": 51,
   "id": "3c4bd168",
   "metadata": {},
   "outputs": [],
   "source": [
    "sc2 = MinMaxScaler()\n",
    "# trainset으로 학습 \n",
    "sc2.fit(X_train)\n",
    "# 변환\n",
    "X_train_sc2 = sc2.transform(X_train)\n",
    "X_val_sc2 = sc2.transform(X_val)\n",
    "X_test_sc2 = sc2.transform(X_test)"
   ]
  },
  {
   "cell_type": "markdown",
   "id": "15c0f258",
   "metadata": {},
   "source": [
    "##### 확인\n",
    "\n",
    "-   min, max값 확인"
   ]
  },
  {
   "cell_type": "code",
   "execution_count": 52,
   "id": "1a5e2cc5",
   "metadata": {},
   "outputs": [
    {
     "data": {
      "text/html": [
       "<div>\n",
       "<style scoped>\n",
       "    .dataframe tbody tr th:only-of-type {\n",
       "        vertical-align: middle;\n",
       "    }\n",
       "\n",
       "    .dataframe tbody tr th {\n",
       "        vertical-align: top;\n",
       "    }\n",
       "\n",
       "    .dataframe thead th {\n",
       "        text-align: right;\n",
       "    }\n",
       "</style>\n",
       "<table border=\"1\" class=\"dataframe\">\n",
       "  <thead>\n",
       "    <tr style=\"text-align: right;\">\n",
       "      <th></th>\n",
       "      <th>0</th>\n",
       "      <th>1</th>\n",
       "      <th>2</th>\n",
       "      <th>3</th>\n",
       "      <th>4</th>\n",
       "      <th>5</th>\n",
       "      <th>6</th>\n",
       "      <th>7</th>\n",
       "      <th>8</th>\n",
       "      <th>9</th>\n",
       "      <th>...</th>\n",
       "      <th>20</th>\n",
       "      <th>21</th>\n",
       "      <th>22</th>\n",
       "      <th>23</th>\n",
       "      <th>24</th>\n",
       "      <th>25</th>\n",
       "      <th>26</th>\n",
       "      <th>27</th>\n",
       "      <th>28</th>\n",
       "      <th>29</th>\n",
       "    </tr>\n",
       "  </thead>\n",
       "  <tbody>\n",
       "    <tr>\n",
       "      <th>min</th>\n",
       "      <td>7.691</td>\n",
       "      <td>9.71</td>\n",
       "      <td>47.92</td>\n",
       "      <td>170.4</td>\n",
       "      <td>0.05263</td>\n",
       "      <td>0.01938</td>\n",
       "      <td>0.0000</td>\n",
       "      <td>0.0000</td>\n",
       "      <td>0.106</td>\n",
       "      <td>0.04996</td>\n",
       "      <td>...</td>\n",
       "      <td>8.678</td>\n",
       "      <td>12.02</td>\n",
       "      <td>54.49</td>\n",
       "      <td>223.6</td>\n",
       "      <td>0.07117</td>\n",
       "      <td>0.02729</td>\n",
       "      <td>0.000</td>\n",
       "      <td>0.0000</td>\n",
       "      <td>0.1565</td>\n",
       "      <td>0.05504</td>\n",
       "    </tr>\n",
       "    <tr>\n",
       "      <th>max</th>\n",
       "      <td>27.420</td>\n",
       "      <td>33.81</td>\n",
       "      <td>186.90</td>\n",
       "      <td>2501.0</td>\n",
       "      <td>0.14250</td>\n",
       "      <td>0.34540</td>\n",
       "      <td>0.3754</td>\n",
       "      <td>0.1913</td>\n",
       "      <td>0.304</td>\n",
       "      <td>0.09744</td>\n",
       "      <td>...</td>\n",
       "      <td>36.040</td>\n",
       "      <td>49.54</td>\n",
       "      <td>251.20</td>\n",
       "      <td>4254.0</td>\n",
       "      <td>0.22260</td>\n",
       "      <td>0.93790</td>\n",
       "      <td>1.252</td>\n",
       "      <td>0.2903</td>\n",
       "      <td>0.6638</td>\n",
       "      <td>0.17300</td>\n",
       "    </tr>\n",
       "  </tbody>\n",
       "</table>\n",
       "<p>2 rows × 30 columns</p>\n",
       "</div>"
      ],
      "text/plain": [
       "         0      1       2       3        4        5       6       7      8   \\\n",
       "min   7.691   9.71   47.92   170.4  0.05263  0.01938  0.0000  0.0000  0.106   \n",
       "max  27.420  33.81  186.90  2501.0  0.14250  0.34540  0.3754  0.1913  0.304   \n",
       "\n",
       "          9   ...      20     21      22      23       24       25     26  \\\n",
       "min  0.04996  ...   8.678  12.02   54.49   223.6  0.07117  0.02729  0.000   \n",
       "max  0.09744  ...  36.040  49.54  251.20  4254.0  0.22260  0.93790  1.252   \n",
       "\n",
       "         27      28       29  \n",
       "min  0.0000  0.1565  0.05504  \n",
       "max  0.2903  0.6638  0.17300  \n",
       "\n",
       "[2 rows x 30 columns]"
      ]
     },
     "execution_count": 52,
     "metadata": {},
     "output_type": "execute_result"
    }
   ],
   "source": [
    "import pandas as pd\n",
    "pd.DataFrame(X_train).agg(['min','max'])"
   ]
  },
  {
   "cell_type": "code",
   "execution_count": 53,
   "id": "6bca5a33",
   "metadata": {},
   "outputs": [
    {
     "data": {
      "text/html": [
       "<div>\n",
       "<style scoped>\n",
       "    .dataframe tbody tr th:only-of-type {\n",
       "        vertical-align: middle;\n",
       "    }\n",
       "\n",
       "    .dataframe tbody tr th {\n",
       "        vertical-align: top;\n",
       "    }\n",
       "\n",
       "    .dataframe thead th {\n",
       "        text-align: right;\n",
       "    }\n",
       "</style>\n",
       "<table border=\"1\" class=\"dataframe\">\n",
       "  <thead>\n",
       "    <tr style=\"text-align: right;\">\n",
       "      <th></th>\n",
       "      <th>0</th>\n",
       "      <th>1</th>\n",
       "      <th>2</th>\n",
       "      <th>3</th>\n",
       "      <th>4</th>\n",
       "      <th>5</th>\n",
       "      <th>6</th>\n",
       "      <th>7</th>\n",
       "      <th>8</th>\n",
       "      <th>9</th>\n",
       "      <th>...</th>\n",
       "      <th>20</th>\n",
       "      <th>21</th>\n",
       "      <th>22</th>\n",
       "      <th>23</th>\n",
       "      <th>24</th>\n",
       "      <th>25</th>\n",
       "      <th>26</th>\n",
       "      <th>27</th>\n",
       "      <th>28</th>\n",
       "      <th>29</th>\n",
       "    </tr>\n",
       "  </thead>\n",
       "  <tbody>\n",
       "    <tr>\n",
       "      <th>min</th>\n",
       "      <td>0.0</td>\n",
       "      <td>0.0</td>\n",
       "      <td>0.0</td>\n",
       "      <td>0.0</td>\n",
       "      <td>0.0</td>\n",
       "      <td>0.0</td>\n",
       "      <td>0.0</td>\n",
       "      <td>0.0</td>\n",
       "      <td>0.0</td>\n",
       "      <td>0.0</td>\n",
       "      <td>...</td>\n",
       "      <td>0.0</td>\n",
       "      <td>0.0</td>\n",
       "      <td>0.0</td>\n",
       "      <td>0.0</td>\n",
       "      <td>0.0</td>\n",
       "      <td>0.0</td>\n",
       "      <td>0.0</td>\n",
       "      <td>0.0</td>\n",
       "      <td>0.0</td>\n",
       "      <td>0.0</td>\n",
       "    </tr>\n",
       "    <tr>\n",
       "      <th>max</th>\n",
       "      <td>1.0</td>\n",
       "      <td>1.0</td>\n",
       "      <td>1.0</td>\n",
       "      <td>1.0</td>\n",
       "      <td>1.0</td>\n",
       "      <td>1.0</td>\n",
       "      <td>1.0</td>\n",
       "      <td>1.0</td>\n",
       "      <td>1.0</td>\n",
       "      <td>1.0</td>\n",
       "      <td>...</td>\n",
       "      <td>1.0</td>\n",
       "      <td>1.0</td>\n",
       "      <td>1.0</td>\n",
       "      <td>1.0</td>\n",
       "      <td>1.0</td>\n",
       "      <td>1.0</td>\n",
       "      <td>1.0</td>\n",
       "      <td>1.0</td>\n",
       "      <td>1.0</td>\n",
       "      <td>1.0</td>\n",
       "    </tr>\n",
       "  </tbody>\n",
       "</table>\n",
       "<p>2 rows × 30 columns</p>\n",
       "</div>"
      ],
      "text/plain": [
       "      0    1    2    3    4    5    6    7    8    9   ...   20   21   22  \\\n",
       "min  0.0  0.0  0.0  0.0  0.0  0.0  0.0  0.0  0.0  0.0  ...  0.0  0.0  0.0   \n",
       "max  1.0  1.0  1.0  1.0  1.0  1.0  1.0  1.0  1.0  1.0  ...  1.0  1.0  1.0   \n",
       "\n",
       "      23   24   25   26   27   28   29  \n",
       "min  0.0  0.0  0.0  0.0  0.0  0.0  0.0  \n",
       "max  1.0  1.0  1.0  1.0  1.0  1.0  1.0  \n",
       "\n",
       "[2 rows x 30 columns]"
      ]
     },
     "execution_count": 53,
     "metadata": {},
     "output_type": "execute_result"
    }
   ],
   "source": [
    "pd.DataFrame(X_train_sc2).agg(['min','max'])"
   ]
  },
  {
   "cell_type": "code",
   "execution_count": 54,
   "id": "74006344",
   "metadata": {},
   "outputs": [
    {
     "data": {
      "text/html": [
       "<div>\n",
       "<style scoped>\n",
       "    .dataframe tbody tr th:only-of-type {\n",
       "        vertical-align: middle;\n",
       "    }\n",
       "\n",
       "    .dataframe tbody tr th {\n",
       "        vertical-align: top;\n",
       "    }\n",
       "\n",
       "    .dataframe thead th {\n",
       "        text-align: right;\n",
       "    }\n",
       "</style>\n",
       "<table border=\"1\" class=\"dataframe\">\n",
       "  <thead>\n",
       "    <tr style=\"text-align: right;\">\n",
       "      <th></th>\n",
       "      <th>0</th>\n",
       "      <th>1</th>\n",
       "      <th>2</th>\n",
       "      <th>3</th>\n",
       "      <th>4</th>\n",
       "      <th>5</th>\n",
       "      <th>6</th>\n",
       "      <th>7</th>\n",
       "      <th>8</th>\n",
       "      <th>9</th>\n",
       "      <th>...</th>\n",
       "      <th>20</th>\n",
       "      <th>21</th>\n",
       "      <th>22</th>\n",
       "      <th>23</th>\n",
       "      <th>24</th>\n",
       "      <th>25</th>\n",
       "      <th>26</th>\n",
       "      <th>27</th>\n",
       "      <th>28</th>\n",
       "      <th>29</th>\n",
       "    </tr>\n",
       "  </thead>\n",
       "  <tbody>\n",
       "    <tr>\n",
       "      <th>min</th>\n",
       "      <td>-0.035988</td>\n",
       "      <td>0.102075</td>\n",
       "      <td>-0.029717</td>\n",
       "      <td>-0.011542</td>\n",
       "      <td>0.150217</td>\n",
       "      <td>0.021839</td>\n",
       "      <td>0.000000</td>\n",
       "      <td>0.000000</td>\n",
       "      <td>0.054040</td>\n",
       "      <td>0.006108</td>\n",
       "      <td>...</td>\n",
       "      <td>-0.027337</td>\n",
       "      <td>0.074627</td>\n",
       "      <td>-0.020741</td>\n",
       "      <td>-0.009528</td>\n",
       "      <td>0.090273</td>\n",
       "      <td>0.017549</td>\n",
       "      <td>0.000000</td>\n",
       "      <td>0.000000</td>\n",
       "      <td>0.048492</td>\n",
       "      <td>0.001441</td>\n",
       "    </tr>\n",
       "    <tr>\n",
       "      <th>max</th>\n",
       "      <td>0.839323</td>\n",
       "      <td>0.944398</td>\n",
       "      <td>0.851058</td>\n",
       "      <td>0.682485</td>\n",
       "      <td>1.232558</td>\n",
       "      <td>0.819950</td>\n",
       "      <td>1.136921</td>\n",
       "      <td>1.051751</td>\n",
       "      <td>0.817172</td>\n",
       "      <td>0.949031</td>\n",
       "      <td>...</td>\n",
       "      <td>0.720781</td>\n",
       "      <td>0.889925</td>\n",
       "      <td>0.774287</td>\n",
       "      <td>0.559101</td>\n",
       "      <td>0.786040</td>\n",
       "      <td>1.131890</td>\n",
       "      <td>0.882588</td>\n",
       "      <td>1.002411</td>\n",
       "      <td>0.829687</td>\n",
       "      <td>1.292472</td>\n",
       "    </tr>\n",
       "  </tbody>\n",
       "</table>\n",
       "<p>2 rows × 30 columns</p>\n",
       "</div>"
      ],
      "text/plain": [
       "           0         1         2         3         4         5         6   \\\n",
       "min -0.035988  0.102075 -0.029717 -0.011542  0.150217  0.021839  0.000000   \n",
       "max  0.839323  0.944398  0.851058  0.682485  1.232558  0.819950  1.136921   \n",
       "\n",
       "           7         8         9   ...        20        21        22  \\\n",
       "min  0.000000  0.054040  0.006108  ... -0.027337  0.074627 -0.020741   \n",
       "max  1.051751  0.817172  0.949031  ...  0.720781  0.889925  0.774287   \n",
       "\n",
       "           23        24        25        26        27        28        29  \n",
       "min -0.009528  0.090273  0.017549  0.000000  0.000000  0.048492  0.001441  \n",
       "max  0.559101  0.786040  1.131890  0.882588  1.002411  0.829687  1.292472  \n",
       "\n",
       "[2 rows x 30 columns]"
      ]
     },
     "execution_count": 54,
     "metadata": {},
     "output_type": "execute_result"
    }
   ],
   "source": [
    "pd.DataFrame(X_test_sc2).agg(['min','max'])"
   ]
  },
  {
   "cell_type": "code",
   "execution_count": 55,
   "id": "17a01946",
   "metadata": {},
   "outputs": [
    {
     "data": {
      "text/html": [
       "<div>\n",
       "<style scoped>\n",
       "    .dataframe tbody tr th:only-of-type {\n",
       "        vertical-align: middle;\n",
       "    }\n",
       "\n",
       "    .dataframe tbody tr th {\n",
       "        vertical-align: top;\n",
       "    }\n",
       "\n",
       "    .dataframe thead th {\n",
       "        text-align: right;\n",
       "    }\n",
       "</style>\n",
       "<table border=\"1\" class=\"dataframe\">\n",
       "  <thead>\n",
       "    <tr style=\"text-align: right;\">\n",
       "      <th></th>\n",
       "      <th>0</th>\n",
       "      <th>1</th>\n",
       "      <th>2</th>\n",
       "      <th>3</th>\n",
       "      <th>4</th>\n",
       "      <th>5</th>\n",
       "      <th>6</th>\n",
       "      <th>7</th>\n",
       "      <th>8</th>\n",
       "      <th>9</th>\n",
       "      <th>...</th>\n",
       "      <th>20</th>\n",
       "      <th>21</th>\n",
       "      <th>22</th>\n",
       "      <th>23</th>\n",
       "      <th>24</th>\n",
       "      <th>25</th>\n",
       "      <th>26</th>\n",
       "      <th>27</th>\n",
       "      <th>28</th>\n",
       "      <th>29</th>\n",
       "    </tr>\n",
       "  </thead>\n",
       "  <tbody>\n",
       "    <tr>\n",
       "      <th>min</th>\n",
       "      <td>0.044604</td>\n",
       "      <td>0.065145</td>\n",
       "      <td>0.047561</td>\n",
       "      <td>0.021840</td>\n",
       "      <td>0.180260</td>\n",
       "      <td>0.057512</td>\n",
       "      <td>0.000000</td>\n",
       "      <td>0.000000</td>\n",
       "      <td>0.142424</td>\n",
       "      <td>0.012216</td>\n",
       "      <td>...</td>\n",
       "      <td>0.029055</td>\n",
       "      <td>0.058102</td>\n",
       "      <td>0.044787</td>\n",
       "      <td>0.012902</td>\n",
       "      <td>0.137753</td>\n",
       "      <td>0.041873</td>\n",
       "      <td>0.00000</td>\n",
       "      <td>0.000000</td>\n",
       "      <td>0.016361</td>\n",
       "      <td>0.001780</td>\n",
       "    </tr>\n",
       "    <tr>\n",
       "      <th>max</th>\n",
       "      <td>1.034974</td>\n",
       "      <td>1.226971</td>\n",
       "      <td>1.011512</td>\n",
       "      <td>0.999142</td>\n",
       "      <td>0.899855</td>\n",
       "      <td>0.790197</td>\n",
       "      <td>0.936068</td>\n",
       "      <td>0.833769</td>\n",
       "      <td>0.850000</td>\n",
       "      <td>0.964406</td>\n",
       "      <td>...</td>\n",
       "      <td>0.806666</td>\n",
       "      <td>0.875533</td>\n",
       "      <td>0.737177</td>\n",
       "      <td>0.724345</td>\n",
       "      <td>0.854718</td>\n",
       "      <td>0.923348</td>\n",
       "      <td>0.74976</td>\n",
       "      <td>0.912849</td>\n",
       "      <td>0.554504</td>\n",
       "      <td>0.689725</td>\n",
       "    </tr>\n",
       "  </tbody>\n",
       "</table>\n",
       "<p>2 rows × 30 columns</p>\n",
       "</div>"
      ],
      "text/plain": [
       "           0         1         2         3         4         5         6   \\\n",
       "min  0.044604  0.065145  0.047561  0.021840  0.180260  0.057512  0.000000   \n",
       "max  1.034974  1.226971  1.011512  0.999142  0.899855  0.790197  0.936068   \n",
       "\n",
       "           7         8         9   ...        20        21        22  \\\n",
       "min  0.000000  0.142424  0.012216  ...  0.029055  0.058102  0.044787   \n",
       "max  0.833769  0.850000  0.964406  ...  0.806666  0.875533  0.737177   \n",
       "\n",
       "           23        24        25       26        27        28        29  \n",
       "min  0.012902  0.137753  0.041873  0.00000  0.000000  0.016361  0.001780  \n",
       "max  0.724345  0.854718  0.923348  0.74976  0.912849  0.554504  0.689725  \n",
       "\n",
       "[2 rows x 30 columns]"
      ]
     },
     "execution_count": 55,
     "metadata": {},
     "output_type": "execute_result"
    }
   ],
   "source": [
    "pd.DataFrame(X_val_sc2).agg(['min','max'])"
   ]
  },
  {
   "cell_type": "markdown",
   "id": "a890b963",
   "metadata": {},
   "source": [
    "### Modeling"
   ]
  },
  {
   "cell_type": "code",
   "execution_count": 56,
   "id": "63e6bb13",
   "metadata": {},
   "outputs": [],
   "source": [
    "from sklearn.svm import SVC\n",
    "from sklearn.metrics import accuracy_score"
   ]
  },
  {
   "cell_type": "markdown",
   "id": "03c214d2",
   "metadata": {},
   "source": [
    "##### scaling하지 않은 데이터셋 이용"
   ]
  },
  {
   "cell_type": "code",
   "execution_count": 57,
   "id": "aa3f6de0",
   "metadata": {},
   "outputs": [
    {
     "name": "stdout",
     "output_type": "stream",
     "text": [
      "Train set:  0.9203296703296703\n",
      "Valid set: 0.9120879120879121\n",
      "Test set: 0.9122807017543859\n"
     ]
    }
   ],
   "source": [
    "# 하이퍼파라미터 C, gamma\n",
    "# svm = SVC(C=0.1, gamma=0.1, random_state=0)\n",
    "svm = SVC(random_state=0)\n",
    "# 학습\n",
    "svm.fit(X_train, y_train)\n",
    "# 검증/평가\n",
    "print(\"Train set: \", accuracy_score(y_train, svm.predict(X_train)))\n",
    "print(\"Valid set:\", accuracy_score(y_val, svm.predict(X_val)))\n",
    "print(\"Test set:\", accuracy_score(y_test, svm.predict(X_test)))"
   ]
  },
  {
   "cell_type": "markdown",
   "id": "728685e6",
   "metadata": {},
   "source": [
    "##### standardscaler 데이터셋 이용"
   ]
  },
  {
   "cell_type": "code",
   "execution_count": 59,
   "id": "18aae681",
   "metadata": {},
   "outputs": [
    {
     "name": "stdout",
     "output_type": "stream",
     "text": [
      "Train set:  0.9917582417582418\n",
      "Valid set: 0.989010989010989\n",
      "Test set: 0.9473684210526315\n"
     ]
    }
   ],
   "source": [
    "# 하이퍼파라미터 C, gamma\n",
    "# svm = SVC(C=0.1, gamma=0.1, random_state=0)\n",
    "svm1 = SVC(random_state=0)\n",
    "# 학습\n",
    "svm1.fit(X_train_sc1, y_train)\n",
    "# 검증/평가\n",
    "print(\"Train set: \", accuracy_score(y_train, svm1.predict(X_train_sc1)))\n",
    "print(\"Valid set:\", accuracy_score(y_val, svm1.predict(X_val_sc1)))\n",
    "print(\"Test set:\", accuracy_score(y_test, svm1.predict(X_test_sc1)))"
   ]
  },
  {
   "cell_type": "markdown",
   "id": "cfba4619",
   "metadata": {},
   "source": [
    "##### MinMax Scaling 데이터셋 이용\n"
   ]
  },
  {
   "cell_type": "code",
   "execution_count": null,
   "id": "3644d96d",
   "metadata": {},
   "outputs": [
    {
     "name": "stdout",
     "output_type": "stream",
     "text": [
      "Train set:  0.9862637362637363\n",
      "Valid set: 0.989010989010989\n",
      "Test set: 0.9473684210526315\n"
     ]
    }
   ],
   "source": [
    "# 하이퍼파라미터 C, gamma\n",
    "# svm = SVC(C=0.1, gamma=0.1, random_state=0)\n",
    "svm = SVC(random_state=0)\n",
    "# 학습\n",
    "svm.fit(X_train_sc2, y_train)\n",
    "# 검증/평가\n",
    "print(\"Train set: \", accuracy_score(y_train, svm.predict(X_train_sc2)))\n",
    "print(\"Valid set:\", accuracy_score(y_val, svm.predict(X_val_sc2)))\n",
    "print(\"Test set:\", accuracy_score(y_test, svm.predict(X_test_sc2)))"
   ]
  },
  {
   "cell_type": "markdown",
   "id": "5d065d8b",
   "metadata": {},
   "source": [
    "## 모델 저장 -> pickle\n",
    "\n",
    "-   전처리 객체, 모델 객체"
   ]
  },
  {
   "cell_type": "code",
   "execution_count": null,
   "id": "fe74bd20",
   "metadata": {},
   "outputs": [],
   "source": [
    "import os\n",
    "import pickle\n",
    "\n",
    "# os.makedirs('saved_models', exist_ok=True)"
   ]
  },
  {
   "cell_type": "code",
   "execution_count": 62,
   "id": "7100c6a5",
   "metadata": {},
   "outputs": [],
   "source": [
    "# StandardScaler, svm 모델 저장\n",
    "with open(\"saved_models/wisconsin_scaler.pkl\", \"wb\") as fw1:\n",
    "    pickle.dump(sc1, fw1)\n",
    "\n",
    "with open(\"saved_models/wisconsin_svm.pkl\", \"wb\") as fw2:\n",
    "    pickle.dump(svm1, fw2)"
   ]
  },
  {
   "cell_type": "code",
   "execution_count": 63,
   "id": "7e5ce73d",
   "metadata": {},
   "outputs": [],
   "source": [
    "# StandardScaler, svm 모델 불러오기\n",
    "with open(\"saved_models/wisconsin_scaler.pkl\", \"rb\") as fr1:\n",
    "    saved_scaler = pickle.load(fr1)\n",
    "\n",
    "with open(\"saved_models/wisconsin_svm.pkl\", \"rb\") as fr2:\n",
    "    saved_model = pickle.load(fr2)"
   ]
  },
  {
   "cell_type": "code",
   "execution_count": 65,
   "id": "99db7554",
   "metadata": {},
   "outputs": [
    {
     "data": {
      "text/plain": [
       "0.9473684210526315"
      ]
     },
     "execution_count": 65,
     "metadata": {},
     "output_type": "execute_result"
    }
   ],
   "source": [
    "# 전처리\n",
    "X_test_scaled = saved_scaler.transform(X_test)\n",
    "pred_test = saved_model.predict(X_test_scaled)\n",
    "accuracy_score(y_test,pred_test)"
   ]
  }
 ],
 "metadata": {
  "kernelspec": {
   "display_name": "env",
   "language": "python",
   "name": "python3"
  },
  "language_info": {
   "codemirror_mode": {
    "name": "ipython",
    "version": 3
   },
   "file_extension": ".py",
   "mimetype": "text/x-python",
   "name": "python",
   "nbconvert_exporter": "python",
   "pygments_lexer": "ipython3",
   "version": "3.10.7"
  }
 },
 "nbformat": 4,
 "nbformat_minor": 5
}
