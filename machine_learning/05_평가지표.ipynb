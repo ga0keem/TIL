{
 "cells": [
  {
   "cell_type": "markdown",
   "id": "ba38e8f6",
   "metadata": {},
   "source": [
    "# 모델 평가\n",
    "- 모델의 성능 평가는 모델링 중 현재 모델의 성능을 확인하는 검증 단계와 최종 성능 평가에서 진행한다.\n",
    "- 어떤 문제를 해결하는 가와 모델의 어떤 측면의 성능을 확인하는 가에 따라 다양한 평가 방법이 있다. "
   ]
  },
  {
   "cell_type": "markdown",
   "id": "1295139c",
   "metadata": {},
   "source": [
    "# 분류와 회귀의 평가방법\n",
    "\n",
    "### 분류 평가 지표\n",
    "1. 정확도 (Accuracy)\n",
    "1. 정밀도 (Precision)\n",
    "1. 재현률 (Recall)\n",
    "1. F1점수 (F1 Score)\n",
    "1. PR Curve, AP score\n",
    "1. ROC, AUC score\n",
    "\n",
    "### 회귀 평가방법\n",
    "1. MSE (Mean Squared Error)\n",
    "1. RMSE (Root Mean Squared Error)\n",
    "1. $R^2$ (결정계수)\n",
    "   \n",
    "### sckit-learn 평가함수 모듈\n",
    "- sklearn.metrics 모듈을 통해 제공"
   ]
  },
  {
   "cell_type": "markdown",
   "id": "14fad834",
   "metadata": {},
   "source": [
    "# 분류(Classification) 평가 지표\n",
    "\n",
    "##  이진 분류(Binary classification)\n",
    "- **특정 클래스인지 아닌지를 분류한다.**\n",
    "    - 환자인가?\n",
    "    - 스팸메일인가? \n",
    "    - 사기 거래 인가?\n",
    "- 이진 분류 양성(Positive)과 음성(Negative)\n",
    "    - **양성(Positive):** 찾으려는 대상이 True이인 것. 보통 1로 표현한다.\n",
    "    - **음성(Negative):** 찾으려는 대상이 False이인 것. 보통 0로 표현한다.\n",
    "- 예\n",
    "    - 환자인가? (검사기록을 통해 환자를 찾으려는 경우)\n",
    "        - 양성(Positive): 환자, 1\n",
    "        - 음성(Negative): 환자 아님(정상), 0\n",
    "    - 스팸메일인가? (메일의 내용을 바탕으로 스팸메일을 찾으려는 경우.)\n",
    "         - 양성(Positive): 스팸메일, 1\n",
    "         - 음성(Negative): 스팸메일 아님(정상 메일), 0\n",
    "    - 사기 거래 인가? (금융거래 기록을 바탕으로 금융사기 거래를 찾으려는 경우.)\n",
    "         - 양성(Positive): 사기 거래, 1\n",
    "         - 음성(Negative): 사기 거래 아님(정상 거래), 0"
   ]
  },
  {
   "cell_type": "markdown",
   "id": "32715e26",
   "metadata": {},
   "source": [
    "## 정확도 (Accuracy)\n",
    "- **대표적인 분류의 평가 지표**\n",
    "\n",
    "\n",
    "$$\n",
    "\\large{\n",
    "정확도 (Accuracy) = \\cfrac{맞게 예측한 건수} {전체 예측 건수}\n",
    "}\n",
    "$$\n",
    "\n",
    "- 전체 예측 한 것중 맞게 예측한 비율로 평가한다.\n",
    "- `accuracy_score(정답, 모델예측값)`"
   ]
  },
  {
   "cell_type": "markdown",
   "id": "92f63321",
   "metadata": {},
   "source": [
    "### Accuracy 평가지표의 문제\n",
    "- 이진 분류에서 **양성(Positive)에 대한 지표만 확인 할 수 없다.** \n",
    "    - 전체 중 몇 개가 맞았는지에 대한 평가 지표이므로 양성(Positive)만의 성능 또는 음성(Negative)만의 성능을 알 수 없다.\n",
    "- 불균형 데이터의 경우 정확한 평가지표가 될 수 없다.\n",
    "    - 예: 양성과 음성의 비율이 1:9 인 경우 모두 음성이라고 하면 정확도는 90%가 된다."
   ]
  },
  {
   "cell_type": "markdown",
   "id": "1b9e58ad",
   "metadata": {},
   "source": [
    "## MNIST Data set\n",
    "- 손글씨 숫자 데이터 셋\n",
    "    - 미국 국립표준연구소(NIST) 에서 수집한 손글씨 숫자(0 ~ 9) 데이터셋을 수정한 이미지 데이터셋.\n",
    "- 사이킷런 제공 image size: 8 X 8 \n",
    "    - 원본 데이터는 28 X 28 크기로 train 60,000장, test 10,000 장을 제공한다.\n",
    "- https://ko.wikipedia.org/wiki/MNIST_%EB%8D%B0%EC%9D%B4%ED%84%B0%EB%B2%A0%EC%9D%B4%EC%8A%A4"
   ]
  },
  {
   "cell_type": "markdown",
   "id": "bacc8c89",
   "metadata": {},
   "source": [
    "### mnist 데이터 셋 로드 및 확인"
   ]
  },
  {
   "cell_type": "code",
   "execution_count": 1,
   "id": "05169a95",
   "metadata": {},
   "outputs": [
    {
     "data": {
      "text/plain": [
       "((1797, 64), (1797,))"
      ]
     },
     "execution_count": 1,
     "metadata": {},
     "output_type": "execute_result"
    }
   ],
   "source": [
    "import numpy as np\n",
    "import matplotlib.pyplot as plt\n",
    "from sklearn.datasets import load_digits\n",
    "\n",
    "digits = load_digits()\n",
    "X = digits.data\n",
    "y = digits.target\n",
    "\n",
    "X.shape, y.shape\n",
    "# (1797, 64)  1797: axis-0 데이터 개수, axis-0이후 개별데이터의 shape (64, ) => 64 feature(특성, 속성) 으로 구성."
   ]
  },
  {
   "cell_type": "code",
   "execution_count": 2,
   "id": "91df1c10",
   "metadata": {},
   "outputs": [
    {
     "data": {
      "text/plain": [
       "['pixel_0_0',\n",
       " 'pixel_0_1',\n",
       " 'pixel_0_2',\n",
       " 'pixel_0_3',\n",
       " 'pixel_0_4',\n",
       " 'pixel_0_5',\n",
       " 'pixel_0_6',\n",
       " 'pixel_0_7',\n",
       " 'pixel_1_0',\n",
       " 'pixel_1_1',\n",
       " 'pixel_1_2',\n",
       " 'pixel_1_3',\n",
       " 'pixel_1_4',\n",
       " 'pixel_1_5',\n",
       " 'pixel_1_6',\n",
       " 'pixel_1_7',\n",
       " 'pixel_2_0',\n",
       " 'pixel_2_1',\n",
       " 'pixel_2_2',\n",
       " 'pixel_2_3',\n",
       " 'pixel_2_4',\n",
       " 'pixel_2_5',\n",
       " 'pixel_2_6',\n",
       " 'pixel_2_7',\n",
       " 'pixel_3_0',\n",
       " 'pixel_3_1',\n",
       " 'pixel_3_2',\n",
       " 'pixel_3_3',\n",
       " 'pixel_3_4',\n",
       " 'pixel_3_5',\n",
       " 'pixel_3_6',\n",
       " 'pixel_3_7',\n",
       " 'pixel_4_0',\n",
       " 'pixel_4_1',\n",
       " 'pixel_4_2',\n",
       " 'pixel_4_3',\n",
       " 'pixel_4_4',\n",
       " 'pixel_4_5',\n",
       " 'pixel_4_6',\n",
       " 'pixel_4_7',\n",
       " 'pixel_5_0',\n",
       " 'pixel_5_1',\n",
       " 'pixel_5_2',\n",
       " 'pixel_5_3',\n",
       " 'pixel_5_4',\n",
       " 'pixel_5_5',\n",
       " 'pixel_5_6',\n",
       " 'pixel_5_7',\n",
       " 'pixel_6_0',\n",
       " 'pixel_6_1',\n",
       " 'pixel_6_2',\n",
       " 'pixel_6_3',\n",
       " 'pixel_6_4',\n",
       " 'pixel_6_5',\n",
       " 'pixel_6_6',\n",
       " 'pixel_6_7',\n",
       " 'pixel_7_0',\n",
       " 'pixel_7_1',\n",
       " 'pixel_7_2',\n",
       " 'pixel_7_3',\n",
       " 'pixel_7_4',\n",
       " 'pixel_7_5',\n",
       " 'pixel_7_6',\n",
       " 'pixel_7_7']"
      ]
     },
     "execution_count": 2,
     "metadata": {},
     "output_type": "execute_result"
    }
   ],
   "source": [
    "# 64개 feature들이 무슨 값인지\n",
    "digits.feature_names"
   ]
  },
  {
   "cell_type": "code",
   "execution_count": 3,
   "id": "740fc5bc",
   "metadata": {},
   "outputs": [
    {
     "data": {
      "text/plain": [
       "(array([0, 1, 2, 3, 4, 5, 6, 7, 8, 9]),\n",
       " array([178, 182, 177, 183, 181, 182, 181, 179, 174, 180]))"
      ]
     },
     "execution_count": 3,
     "metadata": {},
     "output_type": "execute_result"
    }
   ],
   "source": [
    "# y의 클래스(고유값) 조회\n",
    "np.unique(y, return_counts=True)"
   ]
  },
  {
   "cell_type": "code",
   "execution_count": 4,
   "id": "bbcee3bd",
   "metadata": {},
   "outputs": [
    {
     "data": {
      "text/plain": [
       "array([[ 0.,  0.,  5., 13.,  9.,  1.,  0.,  0.],\n",
       "       [ 0.,  0., 13., 15., 10., 15.,  5.,  0.],\n",
       "       [ 0.,  3., 15.,  2.,  0., 11.,  8.,  0.],\n",
       "       [ 0.,  4., 12.,  0.,  0.,  8.,  8.,  0.],\n",
       "       [ 0.,  5.,  8.,  0.,  0.,  9.,  8.,  0.],\n",
       "       [ 0.,  4., 11.,  0.,  1., 12.,  7.,  0.],\n",
       "       [ 0.,  2., 14.,  5., 10., 12.,  0.,  0.],\n",
       "       [ 0.,  0.,  6., 13., 10.,  0.,  0.,  0.]])"
      ]
     },
     "execution_count": 4,
     "metadata": {},
     "output_type": "execute_result"
    }
   ],
   "source": [
    "X[0].reshape(8,8)"
   ]
  },
  {
   "cell_type": "code",
   "execution_count": 5,
   "id": "96889033",
   "metadata": {},
   "outputs": [
    {
     "data": {
      "image/png": "[encoded data removed]",
      "text/plain": [
       "<Figure size 200x200 with 1 Axes>"
      ]
     },
     "metadata": {},
     "output_type": "display_data"
    }
   ],
   "source": [
    "##### image 확인\n",
    "img_index = 1200  # 확인할 image index\n",
    "plt.figure(figsize=(2, 2))\n",
    "img = X[img_index].reshape(8, 8)\n",
    "plt.imshow(img, cmap='gray')  # imshow(): image 출력 함수. \n",
    "plt.title(y[img_index])\n",
    "plt.axis('off')  # spine을 제거\n",
    "plt.show()"
   ]
  },
  {
   "cell_type": "markdown",
   "id": "7b34c790",
   "metadata": {},
   "source": [
    "### 불균형 데이터셋으로 만들기\n",
    "이미지를 0 ~ 9 로 분류하는 문제를 위한 데이터셋 ===> 9와 나머지 숫자로 분류하는 데이터셋으로 변환 \n",
    "- 이미지의 숫자가 9인지를 물어보는 문제로 만든다. \n",
    "- y를 9와 나머지로 변경한다.\n",
    "- Positive(양성 - 1): 9\n",
    "- Negative(음성 - 0): 0 ~ 8"
   ]
  },
  {
   "cell_type": "code",
   "execution_count": 6,
   "id": "81bf121a",
   "metadata": {},
   "outputs": [
    {
     "data": {
      "text/plain": [
       "array([False, False, False, ..., False,  True, False], shape=(1797,))"
      ]
     },
     "execution_count": 6,
     "metadata": {},
     "output_type": "execute_result"
    }
   ],
   "source": [
    "y == 9"
   ]
  },
  {
   "cell_type": "code",
   "execution_count": 7,
   "id": "fd760b3a",
   "metadata": {},
   "outputs": [],
   "source": [
    "# true index의 값을 1로, false index의 값은 0으로 변경.\n",
    "y = np.where(y==9,1,0)"
   ]
  },
  {
   "cell_type": "code",
   "execution_count": 8,
   "id": "744bafb7",
   "metadata": {},
   "outputs": [
    {
     "name": "stdout",
     "output_type": "stream",
     "text": [
      "(array([0, 1]), array([1617,  180]))\n",
      "[0.89983306 0.10016694]\n"
     ]
    }
   ],
   "source": [
    "v = np.unique(y, return_counts=True)\n",
    "print(v)\n",
    "print(v[1]/y.size) # 클래스별 비율"
   ]
  },
  {
   "cell_type": "markdown",
   "id": "660b934f",
   "metadata": {},
   "source": [
    "### 데이터셋 분할\n",
    "- train/test 로 분할"
   ]
  },
  {
   "cell_type": "code",
   "execution_count": 9,
   "id": "8f7c3767",
   "metadata": {},
   "outputs": [
    {
     "data": {
      "text/plain": [
       "((1347, 64), (1347,))"
      ]
     },
     "execution_count": 9,
     "metadata": {},
     "output_type": "execute_result"
    }
   ],
   "source": [
    "from sklearn.model_selection import train_test_split\n",
    "X_train, X_test, y_train, y_test = train_test_split(X, y, test_size=0.25, stratify=y, random_state=0)\n",
    "\n",
    "X_train.shape, y_train.shape"
   ]
  },
  {
   "cell_type": "markdown",
   "id": "4fdcdcbe",
   "metadata": {},
   "source": [
    "### 모델 생성 및 학습\n",
    "\n",
    "#### Dummy Model 정의\n",
    "- dummy model: 진짜 모델이 아니라 모델을 흉내낸 모델을 말한다.\n",
    "- Target Label 최빈값으로 예측하는 dummy model 을 정의."
   ]
  },
  {
   "cell_type": "code",
   "execution_count": 10,
   "id": "290a9968",
   "metadata": {},
   "outputs": [
    {
     "name": "stdout",
     "output_type": "stream",
     "text": [
      "Train set 정확도: 0.8997772828507795\n",
      "Test set 정확도: 0.9\n"
     ]
    }
   ],
   "source": [
    "from sklearn.dummy import DummyClassifier\n",
    "from sklearn.metrics import accuracy_score\n",
    "# y의 최빈값으로 무조건 예측(추론)하는 더미 모델을 생성\n",
    "d_model = DummyClassifier(strategy=\"most_frequent\")\n",
    "# 학습\n",
    "d_model.fit(X_train, y_train)\n",
    "# 정확도 검증\n",
    "## 모델 추론\n",
    "pred_train = d_model.predict(X_train)\n",
    "pred_test = d_model.predict(X_test)\n",
    "# 정확도 계산\n",
    "train_acc = accuracy_score(y_train, pred_train)\n",
    "test_acc = accuracy_score(y_test, pred_test)\n",
    "\n",
    "print(f\"Train set 정확도: {train_acc}\")\n",
    "print(f\"Test set 정확도: {test_acc}\")"
   ]
  },
  {
   "cell_type": "code",
   "execution_count": 11,
   "id": "2fe46601",
   "metadata": {},
   "outputs": [
    {
     "data": {
      "text/plain": [
       "(array([0]), array([0]))"
      ]
     },
     "execution_count": 11,
     "metadata": {},
     "output_type": "execute_result"
    }
   ],
   "source": [
    "np.unique(pred_train), np.unique(pred_test)"
   ]
  },
  {
   "cell_type": "markdown",
   "id": "a2e38d3b",
   "metadata": {},
   "source": [
    "모델이 단순히 다수 class를 정답으로 예측 했는데 정확도 90%의 괜찮은 성능이 나왔다.  \n",
    "그럼 이 모델은 좋은 모델일까?   \n",
    "이 모델이 무조건 **0**(9가 아님)으로만 추론하기 때문문에 우리가 찾으려는 대상(positive)이 9는 하나도 분류해 내지 못하는 모델이다.     \n",
    "그래서 정확도만으로 모델의 성능을 판단해서는 안된다. 특시 **불균형 레이블 데이터세트**의 평가지표로 정확도만 보면 안된다. **Class별 성능을 확인할 수있는 평가지표가 필요하다.**"
   ]
  },
  {
   "cell_type": "markdown",
   "id": "389419d9",
   "metadata": {},
   "source": [
    "## 혼동 행렬(Confusion Matrix)\n",
    "- 실제 값(정답)과 예측 한 것을 표로 만든 평가표\n",
    "    - 분류의 예측 결과가 몇개나 맞고 틀렸는지를 확인할 때 사용한다.\n",
    "- 함수: confusion_matrix(정답, 모델예측값)\n",
    "- **0번축:** 실제(정답) class, **1번축:** 예측 class, **cell:** 개수\n",
    "\n",
    "![image.png](images/confusionmatrix.png)"
   ]
  },
  {
   "cell_type": "markdown",
   "id": "05bca745",
   "metadata": {},
   "source": [
    "- **TP(True Positive)** \n",
    "    - 양성으로 예측했는데 맞은 개수\n",
    "- **TN(True Negative)** \n",
    "    - 음성으로 예측했는데 맞은 개수\n",
    "- **FP(False Positive)** \n",
    "    - 양성으로 예측했는데 틀린 개수 \n",
    "    - 음성을 양성으로 예측\n",
    "- **FN(False Negative)** \n",
    "    - 음성으로 예측했는데 틀린 개수 \n",
    "    - 양성을 음성으로 예측\n",
    "\n",
    "- 예)\n",
    "```python\n",
    "[[20, 6],\n",
    " [4,  40]]\n",
    "```"
   ]
  },
  {
   "cell_type": "markdown",
   "id": "05ceb3da",
   "metadata": {},
   "source": [
    "## 이진 분류 평가지표\n",
    "\n",
    "- **Accuracy (정확도)** \n",
    "    - 전체 데이터 중에 맞게 예측한 것의 비율\n",
    "    - Accuracy(정확도)는 이진분류 뿐아니라 모든 분류의 기본 평가방식이다.\n",
    "    \n",
    "### 양성(Positive) 예측력 측정 평가지표\n",
    "\n",
    "- **Recall/Sensitivity(재현율/민감도)** \n",
    "    - 실제 Positive(양성)인 것 중에 Positive(양성)로 예측 한 것의 비율\n",
    "    - **TPR**(True Positive Rate) 이라고도 한다.\n",
    "    - ex) 스팸 메일 중 스팸메일로 예측한 비율. 금융사기 데이터 중 사기로 예측한 비율\n",
    "- **Precision(정밀도)**\n",
    "    - Positive(양성)으로 예측 한 것 중 실제 Positive(양성)인 비율\n",
    "    - **PPV**(Positive Predictive Value) 라고도 한다.\n",
    "    - ex) 스팸메일로 예측한 것 중 스팸메일의 비율. 금융 사기로 예측한 것 중 금융사기인 것의 비율\n",
    "\n",
    "- **F1 점수**\n",
    "    - 정밀도와 재현율의 조화평균 점수\n",
    "    - recall과 precision이 비슷할 수록 높은 값을 가지게 된다. F1 score가 높다는 것은 recall과 precision이 한쪽으로 치우쳐저 있이 않고 둘다 좋다고 판단할 수 있는 근거가 된다."
   ]
  },
  {
   "cell_type": "markdown",
   "id": "461e0b9a",
   "metadata": {},
   "source": [
    "### 음성(Negative) 예측력 측정 평가지표\n",
    "- **Specificity(특이도)**\n",
    "    - 실제 Negative(음성)인 것들 중 Negative(음성)으로 맞게 예측 한 것의 비율\n",
    "    - **TNR**(True Negative Rate) 라고도 한다.\n",
    "- **Fall out(위양성률)**\n",
    "    - 실제 Negative(음성)인 것들 중 Positive(양성)으로 잘못 예측한 것의 비율. `1 - 특이도`\n",
    "    - **FPR** (False Positive Rate) 라고도 한다.\n",
    "    - $Fall Out(FPR) = \\cfrac{FP}{TN+FP}$"
   ]
  },
  {
   "cell_type": "markdown",
   "id": "3062d9f7",
   "metadata": {},
   "source": [
    "![image.png](images/binary_classification_matrix.png)"
   ]
  },
  {
   "cell_type": "markdown",
   "id": "1eac9e31",
   "metadata": {},
   "source": [
    "## 각 평가 지표 계산 함수\n",
    "- sklearn.metrics 모듈\n",
    "- **confusion_matrix(y 실제값, y 예측값),  ConfusionMatrixDisplay(Confusion marix 시각화클래스)**\n",
    "    - 혼돈 행렬 반환\n",
    "- **recall_score(y 실제값, y 예측값)**\n",
    "  - Recall(재현율) 점수 반환 (Positive 중 Positive로 예측한 비율 (TPR))\n",
    "- **precision_score(y 실제값, y 예측값)**\n",
    "  - Precision(정밀도) 점수 반환 (Positive로 예측한 것 중 Positive인 것의 비율 (PPV))\n",
    "- **f1_score(y 실제값, y 예측값)**\n",
    "    - F1 점수 반환 (recall과 precision의 조화 평균값)\n",
    "- **classification_report(y 실제값, y 예측값)**\n",
    "    - 클래스 별로 recall, precision, f1 점수와 accuracy를 종합해서 보여준다."
   ]
  },
  {
   "cell_type": "code",
   "execution_count": 12,
   "id": "8e7d4be7",
   "metadata": {},
   "outputs": [],
   "source": [
    "from sklearn.metrics import (confusion_matrix,\n",
    "                                ConfusionMatrixDisplay,\n",
    "                                accuracy_score,\n",
    "                                recall_score,\n",
    "                                precision_score,\n",
    "                                f1_score)"
   ]
  },
  {
   "cell_type": "markdown",
   "id": "f5f25b6c",
   "metadata": {},
   "source": [
    "###   Dummy 모델 혼동행렬"
   ]
  },
  {
   "cell_type": "code",
   "execution_count": 13,
   "id": "5c60485c",
   "metadata": {},
   "outputs": [
    {
     "name": "stdout",
     "output_type": "stream",
     "text": [
      "Train set\n",
      "[[1212    0]\n",
      " [ 135    0]]\n",
      "Test set\n",
      "[[405   0]\n",
      " [ 45   0]]\n"
     ]
    }
   ],
   "source": [
    "### pred_train, pred_test - dummy 모델 추론결과\n",
    "\n",
    "print(\"Train set\")\n",
    "train_cm = confusion_matrix(y_train,pred_train)\n",
    "print(train_cm)\n",
    "print(\"Test set\")\n",
    "test_cm = confusion_matrix(y_test,pred_test)\n",
    "print(test_cm)"
   ]
  },
  {
   "cell_type": "code",
   "execution_count": 14,
   "id": "27300c88",
   "metadata": {},
   "outputs": [
    {
     "data": {
      "text/plain": [
       "<sklearn.metrics._plot.confusion_matrix.ConfusionMatrixDisplay at 0x102da20b0>"
      ]
     },
     "execution_count": 14,
     "metadata": {},
     "output_type": "execute_result"
    },
    {
     "data": {
      "image/png": "[encoded data removed]",
      "text/plain": [
       "<Figure size 640x480 with 2 Axes>"
      ]
     },
     "metadata": {},
     "output_type": "display_data"
    }
   ],
   "source": [
    "####  혼동 행렬 시각화\n",
    "disp_train = ConfusionMatrixDisplay(train_cm)  # 혼동행렬 계산 결과\n",
    "disp_train.plot(cmap=\"Reds\")"
   ]
  },
  {
   "cell_type": "code",
   "execution_count": 15,
   "id": "5211e196",
   "metadata": {},
   "outputs": [
    {
     "data": {
      "image/png": "[encoded data removed]",
      "text/plain": [
       "<Figure size 640x480 with 2 Axes>"
      ]
     },
     "metadata": {},
     "output_type": "display_data"
    }
   ],
   "source": [
    "#### test set\n",
    "disp_test = ConfusionMatrixDisplay(test_cm)\n",
    "disp_test.plot(cmap=\"Blues\");"
   ]
  },
  {
   "cell_type": "markdown",
   "id": "74592c03",
   "metadata": {},
   "source": [
    "### dummy 모델 Accuracy, Recall, Precision, F1-Score"
   ]
  },
  {
   "cell_type": "code",
   "execution_count": 16,
   "id": "eed90667",
   "metadata": {},
   "outputs": [
    {
     "name": "stdout",
     "output_type": "stream",
     "text": [
      "0.8997772828507795 , 0.9\n"
     ]
    }
   ],
   "source": [
    "print(accuracy_score(y_train, pred_train), accuracy_score(y_test, pred_test), sep=\" , \")"
   ]
  },
  {
   "cell_type": "code",
   "execution_count": 17,
   "id": "f939f6cd",
   "metadata": {},
   "outputs": [
    {
     "name": "stdout",
     "output_type": "stream",
     "text": [
      "0.0 , 0.0\n"
     ]
    }
   ],
   "source": [
    "print(recall_score(y_train, pred_train), recall_score(y_test, pred_test), sep=\" , \")"
   ]
  },
  {
   "cell_type": "code",
   "execution_count": 18,
   "id": "a4005dcd",
   "metadata": {},
   "outputs": [
    {
     "name": "stdout",
     "output_type": "stream",
     "text": [
      "0.0 , 0.0\n"
     ]
    },
    {
     "name": "stderr",
     "output_type": "stream",
     "text": [
      "/Users/gayeong/Documents/TIL/env/lib/python3.10/site-packages/sklearn/metrics/_classification.py:1731: UndefinedMetricWarning: Precision is ill-defined and being set to 0.0 due to no predicted samples. Use `zero_division` parameter to control this behavior.\n",
      "  _warn_prf(average, modifier, f\"{metric.capitalize()} is\", result.shape[0])\n",
      "/Users/gayeong/Documents/TIL/env/lib/python3.10/site-packages/sklearn/metrics/_classification.py:1731: UndefinedMetricWarning: Precision is ill-defined and being set to 0.0 due to no predicted samples. Use `zero_division` parameter to control this behavior.\n",
      "  _warn_prf(average, modifier, f\"{metric.capitalize()} is\", result.shape[0])\n"
     ]
    }
   ],
   "source": [
    "print(precision_score(y_train, pred_train), precision_score(y_test, pred_test), sep=\" , \")"
   ]
  },
  {
   "cell_type": "code",
   "execution_count": 19,
   "id": "1c84f517",
   "metadata": {},
   "outputs": [
    {
     "name": "stdout",
     "output_type": "stream",
     "text": [
      "0.0 , 0.0\n"
     ]
    }
   ],
   "source": [
    "print(f1_score(y_train, pred_train), f1_score(y_test, pred_test), sep=\" , \")"
   ]
  },
  {
   "cell_type": "code",
   "execution_count": 20,
   "id": "64808856",
   "metadata": {},
   "outputs": [
    {
     "name": "stderr",
     "output_type": "stream",
     "text": [
      "/Users/gayeong/Documents/TIL/env/lib/python3.10/site-packages/sklearn/metrics/_classification.py:1731: UndefinedMetricWarning: Precision is ill-defined and being set to 0.0 in labels with no predicted samples. Use `zero_division` parameter to control this behavior.\n",
      "  _warn_prf(average, modifier, f\"{metric.capitalize()} is\", result.shape[0])\n",
      "/Users/gayeong/Documents/TIL/env/lib/python3.10/site-packages/sklearn/metrics/_classification.py:1731: UndefinedMetricWarning: Precision is ill-defined and being set to 0.0 in labels with no predicted samples. Use `zero_division` parameter to control this behavior.\n",
      "  _warn_prf(average, modifier, f\"{metric.capitalize()} is\", result.shape[0])\n",
      "/Users/gayeong/Documents/TIL/env/lib/python3.10/site-packages/sklearn/metrics/_classification.py:1731: UndefinedMetricWarning: Precision is ill-defined and being set to 0.0 in labels with no predicted samples. Use `zero_division` parameter to control this behavior.\n",
      "  _warn_prf(average, modifier, f\"{metric.capitalize()} is\", result.shape[0])\n",
      "/Users/gayeong/Documents/TIL/env/lib/python3.10/site-packages/sklearn/metrics/_classification.py:1731: UndefinedMetricWarning: Precision is ill-defined and being set to 0.0 in labels with no predicted samples. Use `zero_division` parameter to control this behavior.\n",
      "  _warn_prf(average, modifier, f\"{metric.capitalize()} is\", result.shape[0])\n",
      "/Users/gayeong/Documents/TIL/env/lib/python3.10/site-packages/sklearn/metrics/_classification.py:1731: UndefinedMetricWarning: Precision is ill-defined and being set to 0.0 in labels with no predicted samples. Use `zero_division` parameter to control this behavior.\n",
      "  _warn_prf(average, modifier, f\"{metric.capitalize()} is\", result.shape[0])\n",
      "/Users/gayeong/Documents/TIL/env/lib/python3.10/site-packages/sklearn/metrics/_classification.py:1731: UndefinedMetricWarning: Precision is ill-defined and being set to 0.0 in labels with no predicted samples. Use `zero_division` parameter to control this behavior.\n",
      "  _warn_prf(average, modifier, f\"{metric.capitalize()} is\", result.shape[0])\n"
     ]
    }
   ],
   "source": [
    "from sklearn.metrics import classification_report\n",
    "train_report = classification_report(y_train,pred_train)\n",
    "test_report = classification_report(y_test, pred_test)"
   ]
  },
  {
   "cell_type": "code",
   "execution_count": 21,
   "id": "caee4681",
   "metadata": {},
   "outputs": [
    {
     "name": "stdout",
     "output_type": "stream",
     "text": [
      "              precision    recall  f1-score   support\n",
      "\n",
      "           0       0.90      1.00      0.95      1212\n",
      "           1       0.00      0.00      0.00       135\n",
      "\n",
      "    accuracy                           0.90      1347\n",
      "   macro avg       0.45      0.50      0.47      1347\n",
      "weighted avg       0.81      0.90      0.85      1347\n",
      "\n"
     ]
    }
   ],
   "source": [
    "print(train_report)"
   ]
  },
  {
   "cell_type": "code",
   "execution_count": 22,
   "id": "c53e9dd8",
   "metadata": {},
   "outputs": [
    {
     "name": "stdout",
     "output_type": "stream",
     "text": [
      "              precision    recall  f1-score   support\n",
      "\n",
      "           0       0.90      1.00      0.95       405\n",
      "           1       0.00      0.00      0.00        45\n",
      "\n",
      "    accuracy                           0.90       450\n",
      "   macro avg       0.45      0.50      0.47       450\n",
      "weighted avg       0.81      0.90      0.85       450\n",
      "\n"
     ]
    }
   ],
   "source": [
    "print(test_report)"
   ]
  },
  {
   "cell_type": "markdown",
   "id": "e9ed3984",
   "metadata": {},
   "source": [
    "### 머신 모델을 이용해 학습\n",
    "- DecisionTreeClassifier 사용 (max_depth=3)\n",
    "- RandomForestClassifier 사용 (n_estimators=100, max_depth=3)"
   ]
  },
  {
   "cell_type": "code",
   "execution_count": 23,
   "id": "9c86cb2d",
   "metadata": {},
   "outputs": [],
   "source": [
    "### 학습: X_train, y_train \n",
    "### 평가: trainset, testset\n",
    "### 모델 생성 - DecisionTreeClassifier\n",
    "\n",
    "from sklearn.tree import DecisionTreeClassifier\n",
    "tree = DecisionTreeClassifier(max_depth=3)\n",
    "# 학습\n",
    "tree.fit(X_train, y_train)\n",
    "# 평가 / 추론\n",
    "pred_train_tree = tree.predict(X_train)\n",
    "pred_test_tree = tree.predict(X_test)"
   ]
  },
  {
   "cell_type": "code",
   "execution_count": 24,
   "id": "90ba2a71",
   "metadata": {},
   "outputs": [],
   "source": [
    "from sklearn.ensemble import RandomForestClassifier\n",
    "# 모델 생성\n",
    "rfc = RandomForestClassifier(n_estimators=100, max_depth=3)\n",
    "# 학습\n",
    "rfc.fit(X_train, y_train)\n",
    "# 평가 \n",
    "## 추론\n",
    "pred_train_rfc = rfc.predict(X_train)  #trainset 추론\n",
    "pred_test_rfc =  rfc.predict(X_test)   #testset 추론"
   ]
  },
  {
   "cell_type": "code",
   "execution_count": 25,
   "id": "46f05346",
   "metadata": {},
   "outputs": [
    {
     "name": "stdout",
     "output_type": "stream",
     "text": [
      "DecisionTree 정확도\n",
      "Trainset: 0.9465478841870824\n",
      "Testset: 0.9511111111111111\n"
     ]
    }
   ],
   "source": [
    "# 정확도\n",
    "print(\"DecisionTree 정확도\")\n",
    "print(f\"Trainset: {accuracy_score(y_train, pred_train_tree)}\")\n",
    "print(f\"Testset: {accuracy_score(y_test, pred_test_tree)}\")"
   ]
  },
  {
   "cell_type": "code",
   "execution_count": 26,
   "id": "3dd20934",
   "metadata": {},
   "outputs": [
    {
     "name": "stdout",
     "output_type": "stream",
     "text": [
      "DecsionTree 정밀도\n",
      "Trainset : 0.7058823529411765,        Testset: 0.7555555555555555\n"
     ]
    }
   ],
   "source": [
    "print(\"DecsionTree 정밀도\")\n",
    "print(f\"Trainset : {precision_score(y_train, pred_train_tree)}, \\\n",
    "       Testset: {precision_score(y_test, pred_test_tree)}\")"
   ]
  },
  {
   "cell_type": "code",
   "execution_count": 27,
   "id": "14748da2",
   "metadata": {},
   "outputs": [
    {
     "name": "stdout",
     "output_type": "stream",
     "text": [
      "DecisionTree 재현율\n",
      "Trainset : 0.8,        Testset: 0.7555555555555555\n"
     ]
    }
   ],
   "source": [
    "print(\"DecisionTree 재현율\")\n",
    "print(f\"Trainset : {recall_score(y_train, pred_train_tree)}, \\\n",
    "       Testset: {recall_score(y_test, pred_test_tree)}\")"
   ]
  },
  {
   "cell_type": "code",
   "execution_count": 28,
   "id": "36e9d79a",
   "metadata": {},
   "outputs": [
    {
     "name": "stdout",
     "output_type": "stream",
     "text": [
      "DecisionTree F1 score\n",
      "Trainset : 0.75,        Testset: 0.7555555555555555\n"
     ]
    }
   ],
   "source": [
    "print(\"DecisionTree F1 score\")\n",
    "print(f\"Trainset : {f1_score(y_train, pred_train_tree)}, \\\n",
    "       Testset: {f1_score(y_test, pred_test_tree)}\")"
   ]
  },
  {
   "cell_type": "markdown",
   "id": "38dfd8a6",
   "metadata": {},
   "source": [
    "### classification_report()\n",
    "- Accuracy와 각 class가 Positive일 때의 recall, precision, f1-score를 한번에 보여주는 함수"
   ]
  },
  {
   "cell_type": "code",
   "execution_count": 29,
   "id": "5f845e74",
   "metadata": {},
   "outputs": [
    {
     "name": "stdout",
     "output_type": "stream",
     "text": [
      "              precision    recall  f1-score   support\n",
      "\n",
      "           0       0.97      0.97      0.97       405\n",
      "           1       0.76      0.76      0.76        45\n",
      "\n",
      "    accuracy                           0.95       450\n",
      "   macro avg       0.86      0.86      0.86       450\n",
      "weighted avg       0.95      0.95      0.95       450\n",
      "\n"
     ]
    }
   ],
   "source": [
    "print(classification_report(y_test,pred_test_tree))"
   ]
  },
  {
   "cell_type": "code",
   "execution_count": 30,
   "id": "e01e7ca5",
   "metadata": {},
   "outputs": [
    {
     "name": "stdout",
     "output_type": "stream",
     "text": [
      "Overwriting metrics.py\n"
     ]
    }
   ],
   "source": [
    "%%writefile metrics.py\n",
    "\n",
    "###### 평가 모듈 -> 다양한 평가지표들을 계산/출력하는 함수들가지는 모듈\n",
    "import matplotlib.pyplot as plt\n",
    "from sklearn.metrics import (confusion_matrix, ConfusionMatrixDisplay, \n",
    "                                    recall_score, precision_score, f1_score, accuracy_score)\n",
    "\n",
    "__version__ = 1.0\n",
    "\n",
    "def plot_confusion_matrix(y, pred, title=None):\n",
    "    \"\"\"Confusion matrix 시각화 함수\n",
    "    Parameter\n",
    "        y: ndarray - 정답\n",
    "        pred: ndarray - 모델 추정결과\n",
    "        title: str - 출력할 제목. default=None\n",
    "    Return:\n",
    "    Exception:\n",
    "    \"\"\"\n",
    "    cm = confusion_matrix(y, pred)\n",
    "    disp = ConfusionMatrixDisplay(cm)\n",
    "    disp.plot(cmap=\"Blues\")\n",
    "    if title:\n",
    "        plt.title(title)\n",
    "    plt.show()\n",
    "\n",
    "def print_binary_classification_metrics(y, pred, title=None):\n",
    "    \"\"\"정확도, 재현율, 정밀도, f1 점수를 계산해서 출력하는 함수\n",
    "    Parameter\n",
    "        y: ndarray - 정답\n",
    "        pred: ndarray - 모델 추정결과\n",
    "        title: str - 결과에 대한 제목 default=None\n",
    "    Return\n",
    "    Exception\n",
    "    \"\"\"\n",
    "    if title:\n",
    "        print(title)\n",
    "    print(\"정확도:\", accuracy_score(y, pred))\n",
    "    print(\"재현율:\", recall_score(y, pred))\n",
    "    print(\"정밀도:\", precision_score(y, pred))\n",
    "    print(\"F1 점수:\", f1_score(y, pred))"
   ]
  },
  {
   "cell_type": "code",
   "execution_count": 31,
   "id": "5788be93",
   "metadata": {},
   "outputs": [],
   "source": [
    "import metrics\n",
    "from metrics import plot_confusion_matrix, print_binary_classification_metrics"
   ]
  },
  {
   "cell_type": "code",
   "execution_count": 32,
   "id": "00802039",
   "metadata": {},
   "outputs": [
    {
     "data": {
      "text/plain": [
       "1.0"
      ]
     },
     "execution_count": 32,
     "metadata": {},
     "output_type": "execute_result"
    }
   ],
   "source": [
    "metrics.__version__"
   ]
  },
  {
   "cell_type": "code",
   "execution_count": 33,
   "id": "5ad60bfc",
   "metadata": {},
   "outputs": [
    {
     "name": "stdout",
     "output_type": "stream",
     "text": [
      "RandomForest Trainset\n",
      "정확도: 0.9339272457312546\n",
      "재현율: 0.34074074074074073\n",
      "정밀도: 1.0\n",
      "F1 점수: 0.5082872928176796\n"
     ]
    }
   ],
   "source": [
    "###RandomForest 모델 추론 결과\n",
    "print_binary_classification_metrics(y_train, pred_train_rfc, \"RandomForest Trainset\")"
   ]
  },
  {
   "cell_type": "code",
   "execution_count": 34,
   "id": "abd1d365",
   "metadata": {},
   "outputs": [
    {
     "name": "stdout",
     "output_type": "stream",
     "text": [
      "RandomForest Testset\n",
      "정확도: 0.9333333333333333\n",
      "재현율: 0.3333333333333333\n",
      "정밀도: 1.0\n",
      "F1 점수: 0.5\n"
     ]
    }
   ],
   "source": [
    "print_binary_classification_metrics(y_test, pred_test_rfc, \"RandomForest Testset\")"
   ]
  },
  {
   "cell_type": "code",
   "execution_count": 35,
   "id": "1f20662c",
   "metadata": {},
   "outputs": [
    {
     "data": {
      "image/png": "[encoded data removed]",
      "text/plain": [
       "<Figure size 640x480 with 2 Axes>"
      ]
     },
     "metadata": {},
     "output_type": "display_data"
    }
   ],
   "source": [
    "plot_confusion_matrix(y_train, pred_train_rfc, \"Trainset\")"
   ]
  },
  {
   "cell_type": "code",
   "execution_count": 36,
   "id": "37157287",
   "metadata": {},
   "outputs": [
    {
     "data": {
      "image/png": "[encoded data removed]",
      "text/plain": [
       "<Figure size 640x480 with 2 Axes>"
      ]
     },
     "metadata": {},
     "output_type": "display_data"
    }
   ],
   "source": [
    "plot_confusion_matrix(y_test, pred_test_rfc, \"Testset\")"
   ]
  },
  {
   "cell_type": "markdown",
   "id": "5e19a714",
   "metadata": {},
   "source": [
    "## 재현율과 정밀도의 관계\n",
    "\n",
    "**이진 분류의 경우 Precision(정밀도)가 중요한 경우와 Recall(재현율) 중요한 업무가 있다.**"
   ]
  },
  {
   "cell_type": "markdown",
   "id": "c1666677",
   "metadata": {},
   "source": [
    "### 재현율이 더 중요한 경우\n",
    "- 실제 Positive 데이터를 Negative 로 잘못 판단하면 업무상 큰 영향이 있는 경우. \n",
    "- FN(False Negative)를 낮추는데 촛점을 맞춘다.\n",
    "- 암환자 판정 모델, 보험사기적발 모델\n",
    "\n",
    "### 정밀도가 더 중요한 경우\n",
    "- 실제 Negative 데이터를 Positive 로 잘못 판단하면 업무상 큰 영향이 있는 경우.\n",
    "- FP(False Positive)를 낮추는데 초점을 맞춘다.\n",
    "- 스팸메일 판정"
   ]
  },
  {
   "cell_type": "markdown",
   "id": "5c992ca6",
   "metadata": {},
   "source": [
    "## 결과 후처리를 이용해 재현율 또는 정밀도 성능 올리기\n",
    "\n",
    "- Positive(1)일 확률에 대한 임계값(Threshold) 변경을 통한 재현율, 정밀도를 올릴 수 있다.\n",
    "- **결과 후처리시 임계값(Threshold) 변경**\n",
    "    - 분류 모델은 입력값에 대해 class별 확률을 예측 한다. 그 출력된 확률값이 높은 class를 정답 class로 처리한다. \n",
    "    - **이진 분류**의 경우 모델은 양성(Positive)일 확률을 출력한다. \n",
    "    - **결과 후처리**\n",
    "        - 이진 분류 모델이 출력한 양성일 확률에서 양성과 음성을 나누는 임계값(Threshold)을 정하고 그 임계값 이하일 경우 음성, 초과일 경우 양성으로 class를 정한다. 이 작업은 결과 후처리에서 진행한다.\n",
    "        - 그 임계값을 무엇으로 하느냐에 따라 재현율과 정밀도가 변경된다. (기본: 0.5)\n",
    "    - 모델의 재현율이나 정밀도 성능을 높이기 위해 **후처리 작업에서 사용하는 임계값(threshold)를 변경한다.**\n",
    "        - 단 임계값(threshold)를 변경해서 하나의 성능을 올라가면 다른 하나는 떨어진다. 즉 **재현율과 정밀도의 임계값 변경에 따른 성능변화는 반비례한다.**\n",
    "        - 그래서 극단적으로 임계점을 변경해서 한쪽의 점수를 높이면 안된다.\n",
    "            - 예: 환자 여부 예측시 재현율을 너무 높이면 정밀도가 낮아져 걸핏하면 정상인을 환자로 예측하게 된다."
   ]
  },
  {
   "cell_type": "markdown",
   "id": "b2fa24fc",
   "metadata": {},
   "source": [
    "![image.png](images/thresh.png)\n",
    "\n",
    "- Positive일 확률이 임계값 이상이면 Positive, 미만이면 Negative로 예측한다."
   ]
  },
  {
   "cell_type": "markdown",
   "id": "e822e2fd",
   "metadata": {},
   "source": [
    "### 임계값 변경에 따른  정밀도와 재현율 변화관계\n",
    "- 임계값을 높이면 양성으로 예측하는 기준을 높여서(엄격히 해서) 음성으로 예측되는 샘플이 많아 진다. 그래서 정밀도는 높아지고 재현율은 낮아진다.\n",
    "- 임계값을 낮추면 양성으로 예측하는 기준이 낮아져서 양성으로 예측되는 샘플이 많아 진다. 그래서 재현율은 높아지고 정밀도는 낮아진다.\n",
    "- 정리\n",
    "    - **임계값을 낮추면 재현율은 올라가고 정밀도는 낮아진다.**\n",
    "    - **임계값을 높이면 재현율은 낮아지고 정밀도는 올라간다.**\n",
    "- 임계값을 변화시켰을때 **재현율과 정밀도는 반비례 관계를 가진다.**\n",
    "- 임계값을 변화시켰을때 **재현율과 위양성율(Fall-Out/FPR)은 비례 관계를 가진다.**"
   ]
  },
  {
   "cell_type": "markdown",
   "id": "dee274e8",
   "metadata": {},
   "source": [
    "### 임계값 변화에 따른 recall, precision 변화\n",
    "\n",
    "##### 분류 모델의 추론 메소드\n",
    "- model.predict(X)\n",
    "    - 추론한 X의 class를 반환\n",
    "- model.predict_proba(X)\n",
    "    - 추론한 X의 class별 확률을 반환"
   ]
  },
  {
   "cell_type": "code",
   "execution_count": 37,
   "id": "e4a39d27",
   "metadata": {},
   "outputs": [],
   "source": [
    "# 양성(1)일 확률\n",
    "pred_tree_proba = tree.predict_proba(X_test)\n",
    "# pred_tree_proba   # [ [0일확률, 1일확률]]\n",
    "pred_tree_pos_proba = pred_tree_proba[:, 1] #1(양성) 일 확률만 조회\n",
    "pred_tree_pos_proba\n",
    "# 임계값 (양성/음성을 나누는 기준이 되는 확률값.) ==> 0.1\n",
    "thresh = 0.1\n",
    "pred_test_tree2 = np.where(pred_tree_pos_proba >= thresh, 1, 0)"
   ]
  },
  {
   "cell_type": "code",
   "execution_count": 38,
   "id": "12205401",
   "metadata": {},
   "outputs": [
    {
     "name": "stdout",
     "output_type": "stream",
     "text": [
      "임계값: 0.5\n",
      "정확도: 0.9511111111111111\n",
      "재현율: 0.7555555555555555\n",
      "정밀도: 0.7555555555555555\n",
      "F1 점수: 0.7555555555555555\n"
     ]
    }
   ],
   "source": [
    "print_binary_classification_metrics(y_test, pred_test_tree, \"임계값: 0.5\")"
   ]
  },
  {
   "cell_type": "code",
   "execution_count": 39,
   "id": "23ff6262",
   "metadata": {},
   "outputs": [
    {
     "name": "stdout",
     "output_type": "stream",
     "text": [
      "임계값: 0.1\n",
      "정확도: 0.9177777777777778\n",
      "재현율: 0.8222222222222222\n",
      "정밀도: 0.5606060606060606\n",
      "F1 점수: 0.6666666666666666\n"
     ]
    }
   ],
   "source": [
    "print_binary_classification_metrics(y_test, pred_test_tree2, \"임계값: 0.1\")"
   ]
  },
  {
   "cell_type": "markdown",
   "id": "166bdd43",
   "metadata": {},
   "source": [
    "##### 임계값 변화에 따른 recall/precision 확인\n",
    "- **precision_recall_curve(y_정답, positive_예측확률)** 이용\n",
    "    - 반환값: Tuple - (precision리스트, recall리스트, threshold리스트) \n",
    "        - threshold(임계값) 0에서 1까지 변경하며 변화되는 precsion과 recall값을 반환"
   ]
  },
  {
   "cell_type": "code",
   "execution_count": 40,
   "id": "5f10b719",
   "metadata": {},
   "outputs": [
    {
     "name": "stdout",
     "output_type": "stream",
     "text": [
      "(8,) (8,) (7,)\n",
      "(8,) (8,) (8,)\n"
     ]
    }
   ],
   "source": [
    "# decision tree 모델, test set기준\n",
    "from sklearn.metrics import precision_recall_curve\n",
    "\n",
    "pos_proba_test = tree.predict_proba(X_test)[:,1] # positive 확률만 추출\n",
    "precisions, recalls, thresholds = precision_recall_curve(y_test, pos_proba_test)\n",
    "print(precisions.shape, recalls.shape, thresholds.shape)\n",
    "# precision, recall 값은 threshold가 1이상일때 결과를 가지고 있는데 threshold는 1이상이 없다.\n",
    "thresholds = np.append(thresholds, 1)  # ndarray에 값 추가. (추가한 새로운 배열을 반환.)\n",
    "print(precisions.shape, recalls.shape, thresholds.shape)"
   ]
  },
  {
   "cell_type": "code",
   "execution_count": 41,
   "id": "b8452488",
   "metadata": {},
   "outputs": [
    {
     "data": {
      "text/plain": [
       "array([0.1       , 0.10757946, 0.43181818, 0.51388889, 0.56060606,\n",
       "       0.75555556, 0.82352941, 1.        ])"
      ]
     },
     "execution_count": 41,
     "metadata": {},
     "output_type": "execute_result"
    }
   ],
   "source": [
    "precisions"
   ]
  },
  {
   "cell_type": "code",
   "execution_count": 42,
   "id": "8983fe95",
   "metadata": {},
   "outputs": [
    {
     "data": {
      "text/plain": [
       "array([1.        , 0.97777778, 0.84444444, 0.82222222, 0.82222222,\n",
       "       0.75555556, 0.62222222, 0.        ])"
      ]
     },
     "execution_count": 42,
     "metadata": {},
     "output_type": "execute_result"
    }
   ],
   "source": [
    "recalls"
   ]
  },
  {
   "cell_type": "code",
   "execution_count": 43,
   "id": "0a8024cb",
   "metadata": {},
   "outputs": [
    {
     "data": {
      "text/plain": [
       "array([0.00826446, 0.01304348, 0.03389831, 0.04      , 0.14925373,\n",
       "       0.54545455, 0.75      , 1.        ])"
      ]
     },
     "execution_count": 43,
     "metadata": {},
     "output_type": "execute_result"
    }
   ],
   "source": [
    "thresholds"
   ]
  },
  {
   "cell_type": "code",
   "execution_count": 44,
   "id": "5b6616a0",
   "metadata": {},
   "outputs": [
    {
     "data": {
      "text/html": [
       "<div>\n",
       "<style scoped>\n",
       "    .dataframe tbody tr th:only-of-type {\n",
       "        vertical-align: middle;\n",
       "    }\n",
       "\n",
       "    .dataframe tbody tr th {\n",
       "        vertical-align: top;\n",
       "    }\n",
       "\n",
       "    .dataframe thead th {\n",
       "        text-align: right;\n",
       "    }\n",
       "</style>\n",
       "<table border=\"1\" class=\"dataframe\">\n",
       "  <thead>\n",
       "    <tr style=\"text-align: right;\">\n",
       "      <th></th>\n",
       "      <th>recall</th>\n",
       "      <th>precision</th>\n",
       "    </tr>\n",
       "    <tr>\n",
       "      <th>threshold</th>\n",
       "      <th></th>\n",
       "      <th></th>\n",
       "    </tr>\n",
       "  </thead>\n",
       "  <tbody>\n",
       "    <tr>\n",
       "      <th>0.008264</th>\n",
       "      <td>1.000000</td>\n",
       "      <td>0.100000</td>\n",
       "    </tr>\n",
       "    <tr>\n",
       "      <th>0.013043</th>\n",
       "      <td>0.977778</td>\n",
       "      <td>0.107579</td>\n",
       "    </tr>\n",
       "    <tr>\n",
       "      <th>0.033898</th>\n",
       "      <td>0.844444</td>\n",
       "      <td>0.431818</td>\n",
       "    </tr>\n",
       "    <tr>\n",
       "      <th>0.040000</th>\n",
       "      <td>0.822222</td>\n",
       "      <td>0.513889</td>\n",
       "    </tr>\n",
       "    <tr>\n",
       "      <th>0.149254</th>\n",
       "      <td>0.822222</td>\n",
       "      <td>0.560606</td>\n",
       "    </tr>\n",
       "    <tr>\n",
       "      <th>0.545455</th>\n",
       "      <td>0.755556</td>\n",
       "      <td>0.755556</td>\n",
       "    </tr>\n",
       "    <tr>\n",
       "      <th>0.750000</th>\n",
       "      <td>0.622222</td>\n",
       "      <td>0.823529</td>\n",
       "    </tr>\n",
       "    <tr>\n",
       "      <th>1.000000</th>\n",
       "      <td>0.000000</td>\n",
       "      <td>1.000000</td>\n",
       "    </tr>\n",
       "  </tbody>\n",
       "</table>\n",
       "</div>"
      ],
      "text/plain": [
       "             recall  precision\n",
       "threshold                     \n",
       "0.008264   1.000000   0.100000\n",
       "0.013043   0.977778   0.107579\n",
       "0.033898   0.844444   0.431818\n",
       "0.040000   0.822222   0.513889\n",
       "0.149254   0.822222   0.560606\n",
       "0.545455   0.755556   0.755556\n",
       "0.750000   0.622222   0.823529\n",
       "1.000000   0.000000   1.000000"
      ]
     },
     "execution_count": 44,
     "metadata": {},
     "output_type": "execute_result"
    }
   ],
   "source": [
    "import pandas as pd\n",
    "prc_df = pd.DataFrame({\n",
    "    \"threshold\":thresholds,\n",
    "    \"recall\": recalls,\n",
    "    \"precision\": precisions\n",
    "})\n",
    "prc_df.set_index('threshold', inplace=True)\n",
    "prc_df\n",
    "# threshold가 커지면 precision이 올라가고 recall은 떨어진다.\n",
    "# threshold가 작아지면 recall이 올라가고 precision은 떨어진다."
   ]
  },
  {
   "cell_type": "code",
   "execution_count": 45,
   "id": "021182aa",
   "metadata": {},
   "outputs": [
    {
     "data": {
      "image/png": "[encoded data removed]",
      "text/plain": [
       "<Figure size 640x480 with 1 Axes>"
      ]
     },
     "metadata": {},
     "output_type": "display_data"
    }
   ],
   "source": [
    "prc_df.plot(marker='o');"
   ]
  },
  {
   "cell_type": "markdown",
   "id": "32d5c89f",
   "metadata": {},
   "source": [
    "## PR Curve(Precision Recall Curve-정밀도 재현율 곡선)와 AP Score(Average Precision Score)\n",
    "- 이진분류의 평가지표. \n",
    "- Positive 확률을 이용해 class(0, 1)을 결정할 때 임계값이 변화에 따른 재현율과 정밀도의 변화를 이용해 모델의 성능을 평가한다. \n",
    "    - 재현율이 변화할 때 정밀도가 어떻게 변화하는지 평가한다.\n",
    "- Precision과 Recall 값들을 이용해 모델을 평가하는 것으로 모델의 Positive에 대한 성능의 강건함(robust)를 평가한다.\n",
    "- **X축에 재현율, Y축에 정밀도를** 놓고 임계값이 1 → 0 변화할때 두 값의 변화를 선그래프로 그린다.\n",
    "- AP Score\n",
    "    - PR Curve의 성능평가 지표를 하나의 점수(숫자)로 평가한것.\n",
    "    - PR Curve의 선아래 면적을 계산한 값으로 높을 수록 성능이 우수하다."
   ]
  },
  {
   "cell_type": "code",
   "execution_count": 46,
   "id": "916cccc6",
   "metadata": {},
   "outputs": [],
   "source": [
    "##### DecisionTree의 PrecisionRecall 커브 그리기 + AP Score 계산.\n",
    "from sklearn.metrics import (precision_recall_curve,\n",
    "                                PrecisionRecallDisplay,\n",
    "                                average_precision_score)\n",
    "import matplotlib.pyplot as plt\n",
    "\n",
    "# 모델이 추정한 positive 확률을 조회\n",
    "test_proba_tree = tree.predict_proba(X_test)[:,1]\n",
    "test_proba_rfc = rfc.predict_proba(X_test)[:,1]"
   ]
  },
  {
   "cell_type": "code",
   "execution_count": 47,
   "id": "51919355",
   "metadata": {},
   "outputs": [
    {
     "name": "stdout",
     "output_type": "stream",
     "text": [
      "DecisionTree Average Precision Score: 0.6766948888666132\n",
      "RandomForest Average Precision Score: 0.8874166998042196\n"
     ]
    }
   ],
   "source": [
    "### ap score 로 모델을 평가\n",
    "tree_ap = average_precision_score(y_test, test_proba_tree)\n",
    "rfc_ap = average_precision_score(y_test, test_proba_rfc)\n",
    "print(\"DecisionTree Average Precision Score:\", tree_ap)\n",
    "print(\"RandomForest Average Precision Score:\", rfc_ap)"
   ]
  },
  {
   "cell_type": "code",
   "execution_count": 48,
   "id": "b7db9fc1",
   "metadata": {},
   "outputs": [
    {
     "data": {
      "image/png": "[encoded data removed]",
      "text/plain": [
       "<Figure size 1000x600 with 2 Axes>"
      ]
     },
     "metadata": {},
     "output_type": "display_data"
    }
   ],
   "source": [
    "### 시각화\n",
    "precisions1, recalls1, _ = precision_recall_curve(y_test, test_proba_tree)\n",
    "precisions2, recalls2, _ = precision_recall_curve(y_test, test_proba_rfc)\n",
    "\n",
    "### 하나의 Figure 두개 subplot으로 그리기.\n",
    "fig = plt.figure(figsize=(10, 6))\n",
    "ax1 = fig.add_subplot(1, 2, 1) # DecisionTree\n",
    "ax2 = fig.add_subplot(1, 2, 2) # RandomForest"
   ]
  },
  {
   "cell_type": "code",
   "execution_count": 49,
   "id": "4dfc985c",
   "metadata": {},
   "outputs": [
    {
     "data": {
      "image/png": "[encoded data removed]",
      "text/plain": [
       "<Figure size 1000x600 with 2 Axes>"
      ]
     },
     "metadata": {},
     "output_type": "display_data"
    }
   ],
   "source": [
    "### 시각화\n",
    "precisions1, recalls1, _ = precision_recall_curve(y_test, test_proba_tree)\n",
    "precisions2, recalls2, _ = precision_recall_curve(y_test, test_proba_rfc)\n",
    "\n",
    "### 하나의 Figure 두개 subplot으로 그리기.\n",
    "fig = plt.figure(figsize=(10, 6))\n",
    "ax1 = fig.add_subplot(1, 2, 1) # DecisionTree\n",
    "ax2 = fig.add_subplot(1, 2, 2) # RandomForest\n",
    "\n",
    "disp_tree = PrecisionRecallDisplay(precisions1, recalls1, # 그릴때 필요한 값들을 전달해서 객체 생성\n",
    "                                            average_precision=tree_ap)\n",
    "disp_tree.plot(ax=ax1) # 시각화\n",
    "\n",
    "disp_rfc = PrecisionRecallDisplay(precisions2, recalls2, average_precision=rfc_ap)\n",
    "disp_rfc.plot(ax=ax2)\n",
    "\n",
    "plt.show()"
   ]
  },
  {
   "cell_type": "code",
   "execution_count": 50,
   "id": "2773e4ad",
   "metadata": {},
   "outputs": [
    {
     "data": {
      "image/png": "[encoded data removed]",
      "text/plain": [
       "<Figure size 640x480 with 1 Axes>"
      ]
     },
     "metadata": {},
     "output_type": "display_data"
    }
   ],
   "source": [
    "### 시각화\n",
    "precisions1, recalls1, _ = precision_recall_curve(y_test, test_proba_tree)\n",
    "precisions2, recalls2, _ = precision_recall_curve(y_test, test_proba_rfc)\n",
    "\n",
    "### 하나의 subplot에 두 결과를 모두 시각화\n",
    "ax = plt.gca()\n",
    "\n",
    "disp_tree = PrecisionRecallDisplay(precisions1, recalls1, # 그릴때 필요한 값들을 전달해서 객체 생성\n",
    "                                            average_precision=tree_ap, \n",
    "                                            estimator_name=\"DecisionTree\") # label 지정\n",
    "disp_tree.plot(ax=ax) # 시각화\n",
    "\n",
    "disp_rfc = PrecisionRecallDisplay(precisions2, recalls2, average_precision=rfc_ap, \n",
    "                                    estimator_name=\"Random Forest\")\n",
    "disp_rfc.plot(ax=ax)\n",
    "plt.title(\"Precision Recall Curve\")\n",
    "plt.legend(bbox_to_anchor=(1,1), loc=\"upper left\")\n",
    "plt.show()"
   ]
  },
  {
   "cell_type": "markdown",
   "id": "210de071",
   "metadata": {},
   "source": [
    "## ROC curve(Receiver Operating Characteristic Curve)와 AUC(Area Under the Curve) score\n",
    "\n",
    "- **FPR(False Positive Rate-위양성율)**\n",
    "    - 위양성율 (fall-out)\n",
    "    - 1-특이도(TNR)\n",
    "    - 실제 음성중 양성으로 잘못 예측 한 비율\n",
    "    - 낮을 수록 좋다.\n",
    "    $$\n",
    "    \\cfrac{FP}{TN+FP}\n",
    "    $$\n",
    "- **TPR(True Positive Rate-재현율/민감도)** \n",
    "    - 재현율(recall)\n",
    "    - 실제 양성중 양성으로 맞게 예측한 비율\n",
    "    - 높을 수록 좋다.\n",
    "    $$\n",
    "    \\frac{TP}{FN+TP}\n",
    "    $$\n",
    "- Positive의 임계값을 변경할 경우 **FPR과 TPR(recall)은 비례해서 변화한다.**\n",
    "- <b style='font-size:1.3em'>ROC Curve</b>\n",
    "    - 이진 분류의 성능 평가 지표\n",
    "    - Positive 확률을 이용해 class(0, 1)을 결정할 때 임계값이 변화에 따른 재현율(TPR)과 위양성율(FPR)의 변화를 이용해 모델의 성능을 평가한다.\n",
    "        - FPR 변화할 때 TPR이 어떻게 변하는 지를 평가한다.\n",
    "    - FPR을 X축, TPR을 Y축으로 놓고  놓고 임계값이 1 → 0 변화할때 두 값의 변화를 선그래프로 그린다.\n",
    "    - Positive(양성), Negative(음성) 에 대한 모델의 성능의 강건함(robust)을 평가한다.\n",
    "\n",
    "- **AUC Score**\n",
    "    - ROC Curve의 결과를 점수화(수치화) 하는 함수로 ROC Curve 아래쪽 면적을 계산한다.\n",
    "    - 0 ~ 1 사이 실수로 나오며 클수록 좋다.\n",
    "        - AUC Score값이 크려면(1에 가까운 값) 임계값이 클 때 FPR은 작고, TPR의 값은 커야 한다. FPR이 작다는 것은 Negative 잘 분류했다는 것이고 TPR이 크다는 것은 Positive를 잘 분류 했다는 의미이므로 둘에 대한 분류성능이 좋다는 것을 의미한다.\n",
    "   - **AUC 점수기준**\n",
    "        - 1.0 ~ 0.9 : 아주 좋음\n",
    "        - 0.9 ~ 0.8 : 좋음\n",
    "        - 0.8 ~ 0.7 : 괜찮은 모델\n",
    "        - 0.7 ~ 0.6 : 의미는 있으나 좋은 모델은 아님\n",
    "        - 0.6 ~ 0.5 : 좋지 않은 모델"
   ]
  },
  {
   "cell_type": "markdown",
   "id": "5713962e",
   "metadata": {},
   "source": [
    "![image.png](images/roc.png)\n",
    "\n",
    "가장 완벽한 것은 FPR이 0이고 TPR이 1인 것이다. \n",
    "일반 적으로 FPR이 작을 때 (0에 가까울때) TPR이 높은 경우가 좋은 상황이다. 그래서 선 아래의 면적이 넓은 곡선이 나올 수록 좋은 모델이다."
   ]
  },
  {
   "cell_type": "markdown",
   "id": "9c69d2cc",
   "metadata": {},
   "source": [
    "### ROC, AUC 점수  확인\n",
    "- roc_curve(y값, Pos_예측확률) : FPR, TPR, Thresholds (임계치)\n",
    "- roc_auc_score(y값, Pos_예측확률) : AUC 점수 반환"
   ]
  },
  {
   "cell_type": "markdown",
   "id": "52f9c7d2",
   "metadata": {},
   "source": [
    "## ROC Curve / Precision_Recall Curve\n",
    "- **ROC Curve/ROC-AUC score**\n",
    "    - 이진분류에서 양성클래스 탐지와 음성클래스 탐지의 중요도가 비슷할 때 사용(개고양이 분류)\n",
    "- **Precision Recall Curve/AP Score**\n",
    "    - 양성클래스 탐지가 음성클래스 탐지의 중요도보다 높을 경우 사용(암환자 진단)"
   ]
  },
  {
   "cell_type": "code",
   "execution_count": 51,
   "id": "bada08e3",
   "metadata": {},
   "outputs": [
    {
     "name": "stdout",
     "output_type": "stream",
     "text": [
      "tree: 0.8975308641975308\n",
      "RFC: 0.9775034293552812\n"
     ]
    }
   ],
   "source": [
    "from sklearn.metrics import roc_curve, RocCurveDisplay, roc_auc_score\n",
    "### roc-auc score 걔산\n",
    "tree_roc = roc_auc_score(y_test, test_proba_tree)\n",
    "rfc_roc = roc_auc_score(y_test, test_proba_rfc)\n",
    "print(\"tree:\", tree_roc )\n",
    "print(\"RFC:\", rfc_roc)"
   ]
  },
  {
   "cell_type": "code",
   "execution_count": 52,
   "id": "6e6ab146",
   "metadata": {},
   "outputs": [
    {
     "name": "stdout",
     "output_type": "stream",
     "text": [
      "(8,) (8,) (8,)\n"
     ]
    },
    {
     "data": {
      "text/html": [
       "<div>\n",
       "<style scoped>\n",
       "    .dataframe tbody tr th:only-of-type {\n",
       "        vertical-align: middle;\n",
       "    }\n",
       "\n",
       "    .dataframe tbody tr th {\n",
       "        vertical-align: top;\n",
       "    }\n",
       "\n",
       "    .dataframe thead th {\n",
       "        text-align: right;\n",
       "    }\n",
       "</style>\n",
       "<table border=\"1\" class=\"dataframe\">\n",
       "  <thead>\n",
       "    <tr style=\"text-align: right;\">\n",
       "      <th></th>\n",
       "      <th>Thresh</th>\n",
       "      <th>FPR</th>\n",
       "      <th>Recall</th>\n",
       "    </tr>\n",
       "  </thead>\n",
       "  <tbody>\n",
       "    <tr>\n",
       "      <th>0</th>\n",
       "      <td>inf</td>\n",
       "      <td>0.000000</td>\n",
       "      <td>0.000000</td>\n",
       "    </tr>\n",
       "    <tr>\n",
       "      <th>1</th>\n",
       "      <td>0.750000</td>\n",
       "      <td>0.014815</td>\n",
       "      <td>0.622222</td>\n",
       "    </tr>\n",
       "    <tr>\n",
       "      <th>2</th>\n",
       "      <td>0.545455</td>\n",
       "      <td>0.027160</td>\n",
       "      <td>0.755556</td>\n",
       "    </tr>\n",
       "    <tr>\n",
       "      <th>3</th>\n",
       "      <td>0.149254</td>\n",
       "      <td>0.071605</td>\n",
       "      <td>0.822222</td>\n",
       "    </tr>\n",
       "    <tr>\n",
       "      <th>4</th>\n",
       "      <td>0.040000</td>\n",
       "      <td>0.086420</td>\n",
       "      <td>0.822222</td>\n",
       "    </tr>\n",
       "    <tr>\n",
       "      <th>5</th>\n",
       "      <td>0.033898</td>\n",
       "      <td>0.123457</td>\n",
       "      <td>0.844444</td>\n",
       "    </tr>\n",
       "    <tr>\n",
       "      <th>6</th>\n",
       "      <td>0.013043</td>\n",
       "      <td>0.901235</td>\n",
       "      <td>0.977778</td>\n",
       "    </tr>\n",
       "    <tr>\n",
       "      <th>7</th>\n",
       "      <td>0.008264</td>\n",
       "      <td>1.000000</td>\n",
       "      <td>1.000000</td>\n",
       "    </tr>\n",
       "  </tbody>\n",
       "</table>\n",
       "</div>"
      ],
      "text/plain": [
       "     Thresh       FPR    Recall\n",
       "0       inf  0.000000  0.000000\n",
       "1  0.750000  0.014815  0.622222\n",
       "2  0.545455  0.027160  0.755556\n",
       "3  0.149254  0.071605  0.822222\n",
       "4  0.040000  0.086420  0.822222\n",
       "5  0.033898  0.123457  0.844444\n",
       "6  0.013043  0.901235  0.977778\n",
       "7  0.008264  1.000000  1.000000"
      ]
     },
     "execution_count": 52,
     "metadata": {},
     "output_type": "execute_result"
    }
   ],
   "source": [
    "## 시각화 \n",
    "# threshold 변화에 따른 recall, fpr 값의 변화를 조회\n",
    "fpr1, recall1, thresh1 = roc_curve(y_test, test_proba_tree)\n",
    "fpr2, recall2, thresh2 = roc_curve(y_test, test_proba_rfc)\n",
    "\n",
    "print(fpr1.shape, recall1.shape, thresh1.shape)\n",
    "pd.DataFrame(\n",
    "    {\n",
    "        \"Thresh\": thresh1,\n",
    "        \"FPR\": fpr1,\n",
    "        \"Recall\": recall1\n",
    "    }\n",
    ")"
   ]
  },
  {
   "cell_type": "code",
   "execution_count": 53,
   "id": "0035d726",
   "metadata": {},
   "outputs": [
    {
     "name": "stderr",
     "output_type": "stream",
     "text": [
      "/Users/gayeong/Documents/TIL/env/lib/python3.10/site-packages/sklearn/utils/_plotting.py:379: FutureWarning: `estimator_name` is deprecated in 1.7 and will be removed in 1.9. Use `name` instead.\n",
      "  warnings.warn(\n"
     ]
    },
    {
     "data": {
      "image/png": "[encoded data removed]",
      "text/plain": [
       "<Figure size 640x480 with 1 Axes>"
      ]
     },
     "metadata": {},
     "output_type": "display_data"
    }
   ],
   "source": [
    "ax = plt.gca()\n",
    "disp_roc_tree = RocCurveDisplay(\n",
    "    fpr=fpr1, tpr=recall1,\n",
    "    roc_auc=tree_roc,\n",
    "    estimator_name=\"Decision Tree\"\n",
    ") # 그래프 그릴때 필요한 값들을 넣어서 객체 생성\n",
    "disp_roc_tree.plot(ax=ax) # 그래프 그리기.\n",
    "\n",
    "disp_roc_rfc = RocCurveDisplay(\n",
    "    fpr=fpr2, tpr=recall2,\n",
    "    roc_auc=rfc_roc,\n",
    "    estimator_name=\"Random Forest\"\n",
    ")\n",
    "disp_roc_rfc.plot(ax=ax)\n",
    "plt.show()"
   ]
  },
  {
   "cell_type": "markdown",
   "id": "822beb6d",
   "metadata": {},
   "source": [
    "### 평가지표 모듈화"
   ]
  },
  {
   "cell_type": "code",
   "execution_count": 54,
   "id": "811ad149",
   "metadata": {},
   "outputs": [
    {
     "name": "stdout",
     "output_type": "stream",
     "text": [
      "Overwriting metrics.py\n"
     ]
    }
   ],
   "source": [
    "%%writefile metrics.py\n",
    "\n",
    "###### 평가 모듈 -> 다양한 평가지표들을 계산/출력하는 함수들가지는 모듈\n",
    "import matplotlib.pyplot as plt\n",
    "from sklearn.metrics import (confusion_matrix, ConfusionMatrixDisplay, \n",
    "                                    recall_score, precision_score, f1_score, accuracy_score,\n",
    "                                    PrecisionRecallDisplay, average_precision_score, precision_recall_curve,\n",
    "                                    RocCurveDisplay, roc_auc_score, roc_curve)\n",
    "\n",
    "__version__ = 1.0\n",
    "\n",
    "def plot_precision_recall_curve(y_proba, pred_proba, estimator_name=None, title=None):\n",
    "    \"\"\"Precision Recall Curve 시각화 함수\n",
    "    Parameter\n",
    "        y_proba: ndarray - 정답\n",
    "        pred_proba: 모델이 추정한 양성(Positive-1)일 확률\n",
    "        estimator_name: str - 모델 이름. 시각화시 범례에 출력할 모델이름\n",
    "        title: str - plot 제목\n",
    "    Return\n",
    "    Exception\"\"\"\n",
    "    # ap score 계산\n",
    "    ap_score = average_precision_score(y_proba, pred_proba)\n",
    "    # thresh 변화에 따른 precision, recall 값들 계산.\n",
    "    precision, recall, _ = precision_recall_curve(y_proba, pred_proba)\n",
    "    # 시각화\n",
    "    disp = PrecisionRecallDisplay(\n",
    "        precision, recall, \n",
    "        average_precision=ap_score,  \n",
    "        estimator_name=estimator_name\n",
    "    )\n",
    "    disp.plot()\n",
    "    if title:\n",
    "        plt.title(title)\n",
    "    plt.show()\n",
    "    \n",
    "def plot_roc_curve(y_proba, pred_proba, estimator_name=None, title=None):\n",
    "    \"\"\"ROC Curve 시각화\n",
    "    Parameter\n",
    "        y_proba: ndarray - 정답\n",
    "        pred_proba: 모델이 추정한 양성(Positive-1)일 확률\n",
    "        estimator_name: str - 모델 이름. 시각화시 범례에 출력할 모델이름\n",
    "        title: str - plot 제목\n",
    "    Return\n",
    "    Exception\"\"\"\n",
    "    ## ROC-AUC score 계산\n",
    "    auc_score = roc_auc_score(y_proba, pred_proba)\n",
    "    ## Thresh 변화에 따른 TPR(Recall) 과 FPR(위양성율) 계산\n",
    "    fpr, tpr, _ = roc_curve(y_proba, pred_proba)\n",
    "    ### 시각화\n",
    "    disp = RocCurveDisplay(\n",
    "        fpr=fpr, tpr=tpr, \n",
    "        estimator_name=estimator_name,\n",
    "        roc_auc=auc_score\n",
    "    )\n",
    "    disp.plot()\n",
    "    if title:\n",
    "        plt.title(title)\n",
    "    plt.show()\n",
    "\n",
    "def plot_confusion_matrix(y, pred, title=None):\n",
    "    \"\"\"Confusion matrix 시각화 함수\n",
    "    Parameter\n",
    "        y: ndarray - 정답\n",
    "        pred: ndarray - 모델 추정결과\n",
    "        title: str - 출력할 제목. default=None\n",
    "    Return:\n",
    "    Exception:\n",
    "    \"\"\"\n",
    "    cm = confusion_matrix(y, pred)\n",
    "    disp = ConfusionMatrixDisplay(cm)\n",
    "    disp.plot(cmap=\"Blues\")\n",
    "    if title:\n",
    "        plt.title(title)\n",
    "    plt.show()\n",
    "\n",
    "def print_binary_classification_metrics(y, pred, proba=None, title=None):\n",
    "    \"\"\"정확도, 재현율, 정밀도, f1 점수를 계산해서 출력하는 함수\n",
    "    만약 모델이 추정한 양성의 확률을 전달 받은 경우 average_precision과  roc-auc score도 출력\n",
    "    Parameter\n",
    "        y: ndarray - 정답\n",
    "        pred: ndarray - 모델 추정결과\n",
    "        proba: ndarray - 모델이 추정한 양성일 확률값. Default: None\n",
    "        title: str - 결과에 대한 제목 default=None\n",
    "    Return\n",
    "    Exception\n",
    "    \"\"\"\n",
    "    if title:\n",
    "        print(title)\n",
    "    print(\"정확도:\", accuracy_score(y, pred))\n",
    "    print(\"재현율:\", recall_score(y, pred))\n",
    "    print(\"정밀도:\", precision_score(y, pred))\n",
    "    print(\"F1 점수:\", f1_score(y, pred))\n",
    "    if proba is not None:\n",
    "        print(\"Average Precision:\", average_precision_score(y, proba))\n",
    "        print(\"ROC-AUC Score:\", roc_auc_score(y, proba))\n"
   ]
  },
  {
   "cell_type": "markdown",
   "id": "187948ee",
   "metadata": {},
   "source": [
    "# TODO\n",
    "- breast_cancer data 모델링\n",
    "1. breast cancer data 로딩 및 \n",
    "1. train/test set으로 분리\n",
    "1. 모델링 (DecisionTreeClassifier(max_depth=3), RandomForestClassifier(max_depth=2, n_estimators=200)\n",
    "1. 평가 (Train/Test set)\n",
    "    - 평가지표\n",
    "        - accuracy, recall, precision, f1 score, confusion matrix\n",
    "        - PR curve 그리고 AP 점수 확인\n",
    "        - ROC curve 그리고 AUC 점수확인"
   ]
  },
  {
   "cell_type": "code",
   "execution_count": 2,
   "id": "2c456d85",
   "metadata": {},
   "outputs": [],
   "source": [
    "from sklearn.datasets import load_breast_cancer\n",
    "from sklearn.model_selection import train_test_split\n",
    "from sklearn.tree import DecisionTreeClassifier\n",
    "from sklearn.ensemble import RandomForestClassifier\n",
    "from metrics import (print_binary_classification_metrics, plot_confusion_matrix, plot_precision_recall_curve, plot_roc_curve)"
   ]
  },
  {
   "cell_type": "code",
   "execution_count": 3,
   "id": "4e17b265",
   "metadata": {},
   "outputs": [
    {
     "data": {
      "text/plain": [
       "((455, 30), (114, 30))"
      ]
     },
     "execution_count": 3,
     "metadata": {},
     "output_type": "execute_result"
    }
   ],
   "source": [
    "X, y = load_breast_cancer(return_X_y=True)\n",
    "X_train, X_test, y_train, y_test = train_test_split(X, y, test_size=0.2, stratify=y, random_state=0)\n",
    "X_train.shape, X_test.shape"
   ]
  },
  {
   "cell_type": "code",
   "execution_count": 4,
   "id": "05e91e6b",
   "metadata": {},
   "outputs": [
    {
     "data": {
      "text/html": [
       "<style>#sk-container-id-1 {\n",
       "  /* Definition of color scheme common for light and dark mode */\n",
       "  --sklearn-color-text: #000;\n",
       "  --sklearn-color-text-muted: #666;\n",
       "  --sklearn-color-line: gray;\n",
       "  /* Definition of color scheme for unfitted estimators */\n",
       "  --sklearn-color-unfitted-level-0: #fff5e6;\n",
       "  --sklearn-color-unfitted-level-1: #f6e4d2;\n",
       "  --sklearn-color-unfitted-level-2: #ffe0b3;\n",
       "  --sklearn-color-unfitted-level-3: chocolate;\n",
       "  /* Definition of color scheme for fitted estimators */\n",
       "  --sklearn-color-fitted-level-0: #f0f8ff;\n",
       "  --sklearn-color-fitted-level-1: #d4ebff;\n",
       "  --sklearn-color-fitted-level-2: #b3dbfd;\n",
       "  --sklearn-color-fitted-level-3: cornflowerblue;\n",
       "\n",
       "  /* Specific color for light theme */\n",
       "  --sklearn-color-text-on-default-background: var(--sg-text-color, var(--theme-code-foreground, var(--jp-content-font-color1, black)));\n",
       "  --sklearn-color-background: var(--sg-background-color, var(--theme-background, var(--jp-layout-color0, white)));\n",
       "  --sklearn-color-border-box: var(--sg-text-color, var(--theme-code-foreground, var(--jp-content-font-color1, black)));\n",
       "  --sklearn-color-icon: #696969;\n",
       "\n",
       "  @media (prefers-color-scheme: dark) {\n",
       "    /* Redefinition of color scheme for dark theme */\n",
       "    --sklearn-color-text-on-default-background: var(--sg-text-color, var(--theme-code-foreground, var(--jp-content-font-color1, white)));\n",
       "    --sklearn-color-background: var(--sg-background-color, var(--theme-background, var(--jp-layout-color0, #111)));\n",
       "    --sklearn-color-border-box: var(--sg-text-color, var(--theme-code-foreground, var(--jp-content-font-color1, white)));\n",
       "    --sklearn-color-icon: #878787;\n",
       "  }\n",
       "}\n",
       "\n",
       "#sk-container-id-1 {\n",
       "  color: var(--sklearn-color-text);\n",
       "}\n",
       "\n",
       "#sk-container-id-1 pre {\n",
       "  padding: 0;\n",
       "}\n",
       "\n",
       "#sk-container-id-1 input.sk-hidden--visually {\n",
       "  border: 0;\n",
       "  clip: rect(1px 1px 1px 1px);\n",
       "  clip: rect(1px, 1px, 1px, 1px);\n",
       "  height: 1px;\n",
       "  margin: -1px;\n",
       "  overflow: hidden;\n",
       "  padding: 0;\n",
       "  position: absolute;\n",
       "  width: 1px;\n",
       "}\n",
       "\n",
       "#sk-container-id-1 div.sk-dashed-wrapped {\n",
       "  border: 1px dashed var(--sklearn-color-line);\n",
       "  margin: 0 0.4em 0.5em 0.4em;\n",
       "  box-sizing: border-box;\n",
       "  padding-bottom: 0.4em;\n",
       "  background-color: var(--sklearn-color-background);\n",
       "}\n",
       "\n",
       "#sk-container-id-1 div.sk-container {\n",
       "  /* jupyter's `normalize.less` sets `[hidden] { display: none; }`\n",
       "     but bootstrap.min.css set `[hidden] { display: none !important; }`\n",
       "     so we also need the `!important` here to be able to override the\n",
       "     default hidden behavior on the sphinx rendered scikit-learn.org.\n",
       "     See: https://github.com/scikit-learn/scikit-learn/issues/21755 */\n",
       "  display: inline-block !important;\n",
       "  position: relative;\n",
       "}\n",
       "\n",
       "#sk-container-id-1 div.sk-text-repr-fallback {\n",
       "  display: none;\n",
       "}\n",
       "\n",
       "div.sk-parallel-item,\n",
       "div.sk-serial,\n",
       "div.sk-item {\n",
       "  /* draw centered vertical line to link estimators */\n",
       "  background-image: linear-gradient(var(--sklearn-color-text-on-default-background), var(--sklearn-color-text-on-default-background));\n",
       "  background-size: 2px 100%;\n",
       "  background-repeat: no-repeat;\n",
       "  background-position: center center;\n",
       "}\n",
       "\n",
       "/* Parallel-specific style estimator block */\n",
       "\n",
       "#sk-container-id-1 div.sk-parallel-item::after {\n",
       "  content: \"\";\n",
       "  width: 100%;\n",
       "  border-bottom: 2px solid var(--sklearn-color-text-on-default-background);\n",
       "  flex-grow: 1;\n",
       "}\n",
       "\n",
       "#sk-container-id-1 div.sk-parallel {\n",
       "  display: flex;\n",
       "  align-items: stretch;\n",
       "  justify-content: center;\n",
       "  background-color: var(--sklearn-color-background);\n",
       "  position: relative;\n",
       "}\n",
       "\n",
       "#sk-container-id-1 div.sk-parallel-item {\n",
       "  display: flex;\n",
       "  flex-direction: column;\n",
       "}\n",
       "\n",
       "#sk-container-id-1 div.sk-parallel-item:first-child::after {\n",
       "  align-self: flex-end;\n",
       "  width: 50%;\n",
       "}\n",
       "\n",
       "#sk-container-id-1 div.sk-parallel-item:last-child::after {\n",
       "  align-self: flex-start;\n",
       "  width: 50%;\n",
       "}\n",
       "\n",
       "#sk-container-id-1 div.sk-parallel-item:only-child::after {\n",
       "  width: 0;\n",
       "}\n",
       "\n",
       "/* Serial-specific style estimator block */\n",
       "\n",
       "#sk-container-id-1 div.sk-serial {\n",
       "  display: flex;\n",
       "  flex-direction: column;\n",
       "  align-items: center;\n",
       "  background-color: var(--sklearn-color-background);\n",
       "  padding-right: 1em;\n",
       "  padding-left: 1em;\n",
       "}\n",
       "\n",
       "\n",
       "/* Toggleable style: style used for estimator/Pipeline/ColumnTransformer box that is\n",
       "clickable and can be expanded/collapsed.\n",
       "- Pipeline and ColumnTransformer use this feature and define the default style\n",
       "- Estimators will overwrite some part of the style using the `sk-estimator` class\n",
       "*/\n",
       "\n",
       "/* Pipeline and ColumnTransformer style (default) */\n",
       "\n",
       "#sk-container-id-1 div.sk-toggleable {\n",
       "  /* Default theme specific background. It is overwritten whether we have a\n",
       "  specific estimator or a Pipeline/ColumnTransformer */\n",
       "  background-color: var(--sklearn-color-background);\n",
       "}\n",
       "\n",
       "/* Toggleable label */\n",
       "#sk-container-id-1 label.sk-toggleable__label {\n",
       "  cursor: pointer;\n",
       "  display: flex;\n",
       "  width: 100%;\n",
       "  margin-bottom: 0;\n",
       "  padding: 0.5em;\n",
       "  box-sizing: border-box;\n",
       "  text-align: center;\n",
       "  align-items: start;\n",
       "  justify-content: space-between;\n",
       "  gap: 0.5em;\n",
       "}\n",
       "\n",
       "#sk-container-id-1 label.sk-toggleable__label .caption {\n",
       "  font-size: 0.6rem;\n",
       "  font-weight: lighter;\n",
       "  color: var(--sklearn-color-text-muted);\n",
       "}\n",
       "\n",
       "#sk-container-id-1 label.sk-toggleable__label-arrow:before {\n",
       "  /* Arrow on the left of the label */\n",
       "  content: \"▸\";\n",
       "  float: left;\n",
       "  margin-right: 0.25em;\n",
       "  color: var(--sklearn-color-icon);\n",
       "}\n",
       "\n",
       "#sk-container-id-1 label.sk-toggleable__label-arrow:hover:before {\n",
       "  color: var(--sklearn-color-text);\n",
       "}\n",
       "\n",
       "/* Toggleable content - dropdown */\n",
       "\n",
       "#sk-container-id-1 div.sk-toggleable__content {\n",
       "  display: none;\n",
       "  text-align: left;\n",
       "  /* unfitted */\n",
       "  background-color: var(--sklearn-color-unfitted-level-0);\n",
       "}\n",
       "\n",
       "#sk-container-id-1 div.sk-toggleable__content.fitted {\n",
       "  /* fitted */\n",
       "  background-color: var(--sklearn-color-fitted-level-0);\n",
       "}\n",
       "\n",
       "#sk-container-id-1 div.sk-toggleable__content pre {\n",
       "  margin: 0.2em;\n",
       "  border-radius: 0.25em;\n",
       "  color: var(--sklearn-color-text);\n",
       "  /* unfitted */\n",
       "  background-color: var(--sklearn-color-unfitted-level-0);\n",
       "}\n",
       "\n",
       "#sk-container-id-1 div.sk-toggleable__content.fitted pre {\n",
       "  /* unfitted */\n",
       "  background-color: var(--sklearn-color-fitted-level-0);\n",
       "}\n",
       "\n",
       "#sk-container-id-1 input.sk-toggleable__control:checked~div.sk-toggleable__content {\n",
       "  /* Expand drop-down */\n",
       "  display: block;\n",
       "  width: 100%;\n",
       "  overflow: visible;\n",
       "}\n",
       "\n",
       "#sk-container-id-1 input.sk-toggleable__control:checked~label.sk-toggleable__label-arrow:before {\n",
       "  content: \"▾\";\n",
       "}\n",
       "\n",
       "/* Pipeline/ColumnTransformer-specific style */\n",
       "\n",
       "#sk-container-id-1 div.sk-label input.sk-toggleable__control:checked~label.sk-toggleable__label {\n",
       "  color: var(--sklearn-color-text);\n",
       "  background-color: var(--sklearn-color-unfitted-level-2);\n",
       "}\n",
       "\n",
       "#sk-container-id-1 div.sk-label.fitted input.sk-toggleable__control:checked~label.sk-toggleable__label {\n",
       "  background-color: var(--sklearn-color-fitted-level-2);\n",
       "}\n",
       "\n",
       "/* Estimator-specific style */\n",
       "\n",
       "/* Colorize estimator box */\n",
       "#sk-container-id-1 div.sk-estimator input.sk-toggleable__control:checked~label.sk-toggleable__label {\n",
       "  /* unfitted */\n",
       "  background-color: var(--sklearn-color-unfitted-level-2);\n",
       "}\n",
       "\n",
       "#sk-container-id-1 div.sk-estimator.fitted input.sk-toggleable__control:checked~label.sk-toggleable__label {\n",
       "  /* fitted */\n",
       "  background-color: var(--sklearn-color-fitted-level-2);\n",
       "}\n",
       "\n",
       "#sk-container-id-1 div.sk-label label.sk-toggleable__label,\n",
       "#sk-container-id-1 div.sk-label label {\n",
       "  /* The background is the default theme color */\n",
       "  color: var(--sklearn-color-text-on-default-background);\n",
       "}\n",
       "\n",
       "/* On hover, darken the color of the background */\n",
       "#sk-container-id-1 div.sk-label:hover label.sk-toggleable__label {\n",
       "  color: var(--sklearn-color-text);\n",
       "  background-color: var(--sklearn-color-unfitted-level-2);\n",
       "}\n",
       "\n",
       "/* Label box, darken color on hover, fitted */\n",
       "#sk-container-id-1 div.sk-label.fitted:hover label.sk-toggleable__label.fitted {\n",
       "  color: var(--sklearn-color-text);\n",
       "  background-color: var(--sklearn-color-fitted-level-2);\n",
       "}\n",
       "\n",
       "/* Estimator label */\n",
       "\n",
       "#sk-container-id-1 div.sk-label label {\n",
       "  font-family: monospace;\n",
       "  font-weight: bold;\n",
       "  display: inline-block;\n",
       "  line-height: 1.2em;\n",
       "}\n",
       "\n",
       "#sk-container-id-1 div.sk-label-container {\n",
       "  text-align: center;\n",
       "}\n",
       "\n",
       "/* Estimator-specific */\n",
       "#sk-container-id-1 div.sk-estimator {\n",
       "  font-family: monospace;\n",
       "  border: 1px dotted var(--sklearn-color-border-box);\n",
       "  border-radius: 0.25em;\n",
       "  box-sizing: border-box;\n",
       "  margin-bottom: 0.5em;\n",
       "  /* unfitted */\n",
       "  background-color: var(--sklearn-color-unfitted-level-0);\n",
       "}\n",
       "\n",
       "#sk-container-id-1 div.sk-estimator.fitted {\n",
       "  /* fitted */\n",
       "  background-color: var(--sklearn-color-fitted-level-0);\n",
       "}\n",
       "\n",
       "/* on hover */\n",
       "#sk-container-id-1 div.sk-estimator:hover {\n",
       "  /* unfitted */\n",
       "  background-color: var(--sklearn-color-unfitted-level-2);\n",
       "}\n",
       "\n",
       "#sk-container-id-1 div.sk-estimator.fitted:hover {\n",
       "  /* fitted */\n",
       "  background-color: var(--sklearn-color-fitted-level-2);\n",
       "}\n",
       "\n",
       "/* Specification for estimator info (e.g. \"i\" and \"?\") */\n",
       "\n",
       "/* Common style for \"i\" and \"?\" */\n",
       "\n",
       ".sk-estimator-doc-link,\n",
       "a:link.sk-estimator-doc-link,\n",
       "a:visited.sk-estimator-doc-link {\n",
       "  float: right;\n",
       "  font-size: smaller;\n",
       "  line-height: 1em;\n",
       "  font-family: monospace;\n",
       "  background-color: var(--sklearn-color-background);\n",
       "  border-radius: 1em;\n",
       "  height: 1em;\n",
       "  width: 1em;\n",
       "  text-decoration: none !important;\n",
       "  margin-left: 0.5em;\n",
       "  text-align: center;\n",
       "  /* unfitted */\n",
       "  border: var(--sklearn-color-unfitted-level-1) 1pt solid;\n",
       "  color: var(--sklearn-color-unfitted-level-1);\n",
       "}\n",
       "\n",
       ".sk-estimator-doc-link.fitted,\n",
       "a:link.sk-estimator-doc-link.fitted,\n",
       "a:visited.sk-estimator-doc-link.fitted {\n",
       "  /* fitted */\n",
       "  border: var(--sklearn-color-fitted-level-1) 1pt solid;\n",
       "  color: var(--sklearn-color-fitted-level-1);\n",
       "}\n",
       "\n",
       "/* On hover */\n",
       "div.sk-estimator:hover .sk-estimator-doc-link:hover,\n",
       ".sk-estimator-doc-link:hover,\n",
       "div.sk-label-container:hover .sk-estimator-doc-link:hover,\n",
       ".sk-estimator-doc-link:hover {\n",
       "  /* unfitted */\n",
       "  background-color: var(--sklearn-color-unfitted-level-3);\n",
       "  color: var(--sklearn-color-background);\n",
       "  text-decoration: none;\n",
       "}\n",
       "\n",
       "div.sk-estimator.fitted:hover .sk-estimator-doc-link.fitted:hover,\n",
       ".sk-estimator-doc-link.fitted:hover,\n",
       "div.sk-label-container:hover .sk-estimator-doc-link.fitted:hover,\n",
       ".sk-estimator-doc-link.fitted:hover {\n",
       "  /* fitted */\n",
       "  background-color: var(--sklearn-color-fitted-level-3);\n",
       "  color: var(--sklearn-color-background);\n",
       "  text-decoration: none;\n",
       "}\n",
       "\n",
       "/* Span, style for the box shown on hovering the info icon */\n",
       ".sk-estimator-doc-link span {\n",
       "  display: none;\n",
       "  z-index: 9999;\n",
       "  position: relative;\n",
       "  font-weight: normal;\n",
       "  right: .2ex;\n",
       "  padding: .5ex;\n",
       "  margin: .5ex;\n",
       "  width: min-content;\n",
       "  min-width: 20ex;\n",
       "  max-width: 50ex;\n",
       "  color: var(--sklearn-color-text);\n",
       "  box-shadow: 2pt 2pt 4pt #999;\n",
       "  /* unfitted */\n",
       "  background: var(--sklearn-color-unfitted-level-0);\n",
       "  border: .5pt solid var(--sklearn-color-unfitted-level-3);\n",
       "}\n",
       "\n",
       ".sk-estimator-doc-link.fitted span {\n",
       "  /* fitted */\n",
       "  background: var(--sklearn-color-fitted-level-0);\n",
       "  border: var(--sklearn-color-fitted-level-3);\n",
       "}\n",
       "\n",
       ".sk-estimator-doc-link:hover span {\n",
       "  display: block;\n",
       "}\n",
       "\n",
       "/* \"?\"-specific style due to the `<a>` HTML tag */\n",
       "\n",
       "#sk-container-id-1 a.estimator_doc_link {\n",
       "  float: right;\n",
       "  font-size: 1rem;\n",
       "  line-height: 1em;\n",
       "  font-family: monospace;\n",
       "  background-color: var(--sklearn-color-background);\n",
       "  border-radius: 1rem;\n",
       "  height: 1rem;\n",
       "  width: 1rem;\n",
       "  text-decoration: none;\n",
       "  /* unfitted */\n",
       "  color: var(--sklearn-color-unfitted-level-1);\n",
       "  border: var(--sklearn-color-unfitted-level-1) 1pt solid;\n",
       "}\n",
       "\n",
       "#sk-container-id-1 a.estimator_doc_link.fitted {\n",
       "  /* fitted */\n",
       "  border: var(--sklearn-color-fitted-level-1) 1pt solid;\n",
       "  color: var(--sklearn-color-fitted-level-1);\n",
       "}\n",
       "\n",
       "/* On hover */\n",
       "#sk-container-id-1 a.estimator_doc_link:hover {\n",
       "  /* unfitted */\n",
       "  background-color: var(--sklearn-color-unfitted-level-3);\n",
       "  color: var(--sklearn-color-background);\n",
       "  text-decoration: none;\n",
       "}\n",
       "\n",
       "#sk-container-id-1 a.estimator_doc_link.fitted:hover {\n",
       "  /* fitted */\n",
       "  background-color: var(--sklearn-color-fitted-level-3);\n",
       "}\n",
       "\n",
       ".estimator-table summary {\n",
       "    padding: .5rem;\n",
       "    font-family: monospace;\n",
       "    cursor: pointer;\n",
       "}\n",
       "\n",
       ".estimator-table details[open] {\n",
       "    padding-left: 0.1rem;\n",
       "    padding-right: 0.1rem;\n",
       "    padding-bottom: 0.3rem;\n",
       "}\n",
       "\n",
       ".estimator-table .parameters-table {\n",
       "    margin-left: auto !important;\n",
       "    margin-right: auto !important;\n",
       "}\n",
       "\n",
       ".estimator-table .parameters-table tr:nth-child(odd) {\n",
       "    background-color: #fff;\n",
       "}\n",
       "\n",
       ".estimator-table .parameters-table tr:nth-child(even) {\n",
       "    background-color: #f6f6f6;\n",
       "}\n",
       "\n",
       ".estimator-table .parameters-table tr:hover {\n",
       "    background-color: #e0e0e0;\n",
       "}\n",
       "\n",
       ".estimator-table table td {\n",
       "    border: 1px solid rgba(106, 105, 104, 0.232);\n",
       "}\n",
       "\n",
       ".user-set td {\n",
       "    color:rgb(255, 94, 0);\n",
       "    text-align: left;\n",
       "}\n",
       "\n",
       ".user-set td.value pre {\n",
       "    color:rgb(255, 94, 0) !important;\n",
       "    background-color: transparent !important;\n",
       "}\n",
       "\n",
       ".default td {\n",
       "    color: black;\n",
       "    text-align: left;\n",
       "}\n",
       "\n",
       ".user-set td i,\n",
       ".default td i {\n",
       "    color: black;\n",
       "}\n",
       "\n",
       ".copy-paste-icon {\n",
       "    background-image: url(data:image/svg+xml;base64,PHN2ZyB4bWxucz0iaHR0cDovL3d3dy53My5vcmcvMjAwMC9zdmciIHZpZXdCb3g9IjAgMCA0NDggNTEyIj48IS0tIUZvbnQgQXdlc29tZSBGcmVlIDYuNy4yIGJ5IEBmb250YXdlc29tZSAtIGh0dHBzOi8vZm9udGF3ZXNvbWUuY29tIExpY2Vuc2UgLSBodHRwczovL2ZvbnRhd2Vzb21lLmNvbS9saWNlbnNlL2ZyZWUgQ29weXJpZ2h0IDIwMjUgRm9udGljb25zLCBJbmMuLS0+PHBhdGggZD0iTTIwOCAwTDMzMi4xIDBjMTIuNyAwIDI0LjkgNS4xIDMzLjkgMTQuMWw2Ny45IDY3LjljOSA5IDE0LjEgMjEuMiAxNC4xIDMzLjlMNDQ4IDMzNmMwIDI2LjUtMjEuNSA0OC00OCA0OGwtMTkyIDBjLTI2LjUgMC00OC0yMS41LTQ4LTQ4bDAtMjg4YzAtMjYuNSAyMS41LTQ4IDQ4LTQ4ek00OCAxMjhsODAgMCAwIDY0LTY0IDAgMCAyNTYgMTkyIDAgMC0zMiA2NCAwIDAgNDhjMCAyNi41LTIxLjUgNDgtNDggNDhMNDggNTEyYy0yNi41IDAtNDgtMjEuNS00OC00OEwwIDE3NmMwLTI2LjUgMjEuNS00OCA0OC00OHoiLz48L3N2Zz4=);\n",
       "    background-repeat: no-repeat;\n",
       "    background-size: 14px 14px;\n",
       "    background-position: 0;\n",
       "    display: inline-block;\n",
       "    width: 14px;\n",
       "    height: 14px;\n",
       "    cursor: pointer;\n",
       "}\n",
       "</style><body><div id=\"sk-container-id-1\" class=\"sk-top-container\"><div class=\"sk-text-repr-fallback\"><pre>RandomForestClassifier(max_depth=2, n_estimators=200, random_state=0)</pre><b>In a Jupyter environment, please rerun this cell to show the HTML representation or trust the notebook. <br />On GitHub, the HTML representation is unable to render, please try loading this page with nbviewer.org.</b></div><div class=\"sk-container\" hidden><div class=\"sk-item\"><div class=\"sk-estimator fitted sk-toggleable\"><input class=\"sk-toggleable__control sk-hidden--visually\" id=\"sk-estimator-id-1\" type=\"checkbox\" checked><label for=\"sk-estimator-id-1\" class=\"sk-toggleable__label fitted sk-toggleable__label-arrow\"><div><div>RandomForestClassifier</div></div><div><a class=\"sk-estimator-doc-link fitted\" rel=\"noreferrer\" target=\"_blank\" href=\"https://scikit-learn.org/1.7/modules/generated/sklearn.ensemble.RandomForestClassifier.html\">?<span>Documentation for RandomForestClassifier</span></a><span class=\"sk-estimator-doc-link fitted\">i<span>Fitted</span></span></div></label><div class=\"sk-toggleable__content fitted\" data-param-prefix=\"\">\n",
       "        <div class=\"estimator-table\">\n",
       "            <details>\n",
       "                <summary>Parameters</summary>\n",
       "                <table class=\"parameters-table\">\n",
       "                  <tbody>\n",
       "                    \n",
       "        <tr class=\"user-set\">\n",
       "            <td><i class=\"copy-paste-icon\"\n",
       "                 onclick=\"copyToClipboard('n_estimators',\n",
       "                          this.parentElement.nextElementSibling)\"\n",
       "            ></i></td>\n",
       "            <td class=\"param\">n_estimators&nbsp;</td>\n",
       "            <td class=\"value\">200</td>\n",
       "        </tr>\n",
       "    \n",
       "\n",
       "        <tr class=\"default\">\n",
       "            <td><i class=\"copy-paste-icon\"\n",
       "                 onclick=\"copyToClipboard('criterion',\n",
       "                          this.parentElement.nextElementSibling)\"\n",
       "            ></i></td>\n",
       "            <td class=\"param\">criterion&nbsp;</td>\n",
       "            <td class=\"value\">&#x27;gini&#x27;</td>\n",
       "        </tr>\n",
       "    \n",
       "\n",
       "        <tr class=\"user-set\">\n",
       "            <td><i class=\"copy-paste-icon\"\n",
       "                 onclick=\"copyToClipboard('max_depth',\n",
       "                          this.parentElement.nextElementSibling)\"\n",
       "            ></i></td>\n",
       "            <td class=\"param\">max_depth&nbsp;</td>\n",
       "            <td class=\"value\">2</td>\n",
       "        </tr>\n",
       "    \n",
       "\n",
       "        <tr class=\"default\">\n",
       "            <td><i class=\"copy-paste-icon\"\n",
       "                 onclick=\"copyToClipboard('min_samples_split',\n",
       "                          this.parentElement.nextElementSibling)\"\n",
       "            ></i></td>\n",
       "            <td class=\"param\">min_samples_split&nbsp;</td>\n",
       "            <td class=\"value\">2</td>\n",
       "        </tr>\n",
       "    \n",
       "\n",
       "        <tr class=\"default\">\n",
       "            <td><i class=\"copy-paste-icon\"\n",
       "                 onclick=\"copyToClipboard('min_samples_leaf',\n",
       "                          this.parentElement.nextElementSibling)\"\n",
       "            ></i></td>\n",
       "            <td class=\"param\">min_samples_leaf&nbsp;</td>\n",
       "            <td class=\"value\">1</td>\n",
       "        </tr>\n",
       "    \n",
       "\n",
       "        <tr class=\"default\">\n",
       "            <td><i class=\"copy-paste-icon\"\n",
       "                 onclick=\"copyToClipboard('min_weight_fraction_leaf',\n",
       "                          this.parentElement.nextElementSibling)\"\n",
       "            ></i></td>\n",
       "            <td class=\"param\">min_weight_fraction_leaf&nbsp;</td>\n",
       "            <td class=\"value\">0.0</td>\n",
       "        </tr>\n",
       "    \n",
       "\n",
       "        <tr class=\"default\">\n",
       "            <td><i class=\"copy-paste-icon\"\n",
       "                 onclick=\"copyToClipboard('max_features',\n",
       "                          this.parentElement.nextElementSibling)\"\n",
       "            ></i></td>\n",
       "            <td class=\"param\">max_features&nbsp;</td>\n",
       "            <td class=\"value\">&#x27;sqrt&#x27;</td>\n",
       "        </tr>\n",
       "    \n",
       "\n",
       "        <tr class=\"default\">\n",
       "            <td><i class=\"copy-paste-icon\"\n",
       "                 onclick=\"copyToClipboard('max_leaf_nodes',\n",
       "                          this.parentElement.nextElementSibling)\"\n",
       "            ></i></td>\n",
       "            <td class=\"param\">max_leaf_nodes&nbsp;</td>\n",
       "            <td class=\"value\">None</td>\n",
       "        </tr>\n",
       "    \n",
       "\n",
       "        <tr class=\"default\">\n",
       "            <td><i class=\"copy-paste-icon\"\n",
       "                 onclick=\"copyToClipboard('min_impurity_decrease',\n",
       "                          this.parentElement.nextElementSibling)\"\n",
       "            ></i></td>\n",
       "            <td class=\"param\">min_impurity_decrease&nbsp;</td>\n",
       "            <td class=\"value\">0.0</td>\n",
       "        </tr>\n",
       "    \n",
       "\n",
       "        <tr class=\"default\">\n",
       "            <td><i class=\"copy-paste-icon\"\n",
       "                 onclick=\"copyToClipboard('bootstrap',\n",
       "                          this.parentElement.nextElementSibling)\"\n",
       "            ></i></td>\n",
       "            <td class=\"param\">bootstrap&nbsp;</td>\n",
       "            <td class=\"value\">True</td>\n",
       "        </tr>\n",
       "    \n",
       "\n",
       "        <tr class=\"default\">\n",
       "            <td><i class=\"copy-paste-icon\"\n",
       "                 onclick=\"copyToClipboard('oob_score',\n",
       "                          this.parentElement.nextElementSibling)\"\n",
       "            ></i></td>\n",
       "            <td class=\"param\">oob_score&nbsp;</td>\n",
       "            <td class=\"value\">False</td>\n",
       "        </tr>\n",
       "    \n",
       "\n",
       "        <tr class=\"default\">\n",
       "            <td><i class=\"copy-paste-icon\"\n",
       "                 onclick=\"copyToClipboard('n_jobs',\n",
       "                          this.parentElement.nextElementSibling)\"\n",
       "            ></i></td>\n",
       "            <td class=\"param\">n_jobs&nbsp;</td>\n",
       "            <td class=\"value\">None</td>\n",
       "        </tr>\n",
       "    \n",
       "\n",
       "        <tr class=\"user-set\">\n",
       "            <td><i class=\"copy-paste-icon\"\n",
       "                 onclick=\"copyToClipboard('random_state',\n",
       "                          this.parentElement.nextElementSibling)\"\n",
       "            ></i></td>\n",
       "            <td class=\"param\">random_state&nbsp;</td>\n",
       "            <td class=\"value\">0</td>\n",
       "        </tr>\n",
       "    \n",
       "\n",
       "        <tr class=\"default\">\n",
       "            <td><i class=\"copy-paste-icon\"\n",
       "                 onclick=\"copyToClipboard('verbose',\n",
       "                          this.parentElement.nextElementSibling)\"\n",
       "            ></i></td>\n",
       "            <td class=\"param\">verbose&nbsp;</td>\n",
       "            <td class=\"value\">0</td>\n",
       "        </tr>\n",
       "    \n",
       "\n",
       "        <tr class=\"default\">\n",
       "            <td><i class=\"copy-paste-icon\"\n",
       "                 onclick=\"copyToClipboard('warm_start',\n",
       "                          this.parentElement.nextElementSibling)\"\n",
       "            ></i></td>\n",
       "            <td class=\"param\">warm_start&nbsp;</td>\n",
       "            <td class=\"value\">False</td>\n",
       "        </tr>\n",
       "    \n",
       "\n",
       "        <tr class=\"default\">\n",
       "            <td><i class=\"copy-paste-icon\"\n",
       "                 onclick=\"copyToClipboard('class_weight',\n",
       "                          this.parentElement.nextElementSibling)\"\n",
       "            ></i></td>\n",
       "            <td class=\"param\">class_weight&nbsp;</td>\n",
       "            <td class=\"value\">None</td>\n",
       "        </tr>\n",
       "    \n",
       "\n",
       "        <tr class=\"default\">\n",
       "            <td><i class=\"copy-paste-icon\"\n",
       "                 onclick=\"copyToClipboard('ccp_alpha',\n",
       "                          this.parentElement.nextElementSibling)\"\n",
       "            ></i></td>\n",
       "            <td class=\"param\">ccp_alpha&nbsp;</td>\n",
       "            <td class=\"value\">0.0</td>\n",
       "        </tr>\n",
       "    \n",
       "\n",
       "        <tr class=\"default\">\n",
       "            <td><i class=\"copy-paste-icon\"\n",
       "                 onclick=\"copyToClipboard('max_samples',\n",
       "                          this.parentElement.nextElementSibling)\"\n",
       "            ></i></td>\n",
       "            <td class=\"param\">max_samples&nbsp;</td>\n",
       "            <td class=\"value\">None</td>\n",
       "        </tr>\n",
       "    \n",
       "\n",
       "        <tr class=\"default\">\n",
       "            <td><i class=\"copy-paste-icon\"\n",
       "                 onclick=\"copyToClipboard('monotonic_cst',\n",
       "                          this.parentElement.nextElementSibling)\"\n",
       "            ></i></td>\n",
       "            <td class=\"param\">monotonic_cst&nbsp;</td>\n",
       "            <td class=\"value\">None</td>\n",
       "        </tr>\n",
       "    \n",
       "                  </tbody>\n",
       "                </table>\n",
       "            </details>\n",
       "        </div>\n",
       "    </div></div></div></div></div><script>function copyToClipboard(text, element) {\n",
       "    // Get the parameter prefix from the closest toggleable content\n",
       "    const toggleableContent = element.closest('.sk-toggleable__content');\n",
       "    const paramPrefix = toggleableContent ? toggleableContent.dataset.paramPrefix : '';\n",
       "    const fullParamName = paramPrefix ? `${paramPrefix}${text}` : text;\n",
       "\n",
       "    const originalStyle = element.style;\n",
       "    const computedStyle = window.getComputedStyle(element);\n",
       "    const originalWidth = computedStyle.width;\n",
       "    const originalHTML = element.innerHTML.replace('Copied!', '');\n",
       "\n",
       "    navigator.clipboard.writeText(fullParamName)\n",
       "        .then(() => {\n",
       "            element.style.width = originalWidth;\n",
       "            element.style.color = 'green';\n",
       "            element.innerHTML = \"Copied!\";\n",
       "\n",
       "            setTimeout(() => {\n",
       "                element.innerHTML = originalHTML;\n",
       "                element.style = originalStyle;\n",
       "            }, 2000);\n",
       "        })\n",
       "        .catch(err => {\n",
       "            console.error('Failed to copy:', err);\n",
       "            element.style.color = 'red';\n",
       "            element.innerHTML = \"Failed!\";\n",
       "            setTimeout(() => {\n",
       "                element.innerHTML = originalHTML;\n",
       "                element.style = originalStyle;\n",
       "            }, 2000);\n",
       "        });\n",
       "    return false;\n",
       "}\n",
       "\n",
       "document.querySelectorAll('.fa-regular.fa-copy').forEach(function(element) {\n",
       "    const toggleableContent = element.closest('.sk-toggleable__content');\n",
       "    const paramPrefix = toggleableContent ? toggleableContent.dataset.paramPrefix : '';\n",
       "    const paramName = element.parentElement.nextElementSibling.textContent.trim();\n",
       "    const fullParamName = paramPrefix ? `${paramPrefix}${paramName}` : paramName;\n",
       "\n",
       "    element.setAttribute('title', fullParamName);\n",
       "});\n",
       "</script></body>"
      ],
      "text/plain": [
       "RandomForestClassifier(max_depth=2, n_estimators=200, random_state=0)"
      ]
     },
     "execution_count": 4,
     "metadata": {},
     "output_type": "execute_result"
    }
   ],
   "source": [
    "# 모델 생성\n",
    "tree = DecisionTreeClassifier(max_depth=3, random_state=0)\n",
    "rfc = RandomForestClassifier(n_estimators=200, max_depth=2, random_state=0)\n",
    "\n",
    "# 학습\n",
    "tree.fit(X_train, y_train)\n",
    "rfc.fit(X_train, y_train)\n"
   ]
  },
  {
   "cell_type": "code",
   "execution_count": 5,
   "id": "8f0632ec",
   "metadata": {},
   "outputs": [
    {
     "name": "stdout",
     "output_type": "stream",
     "text": [
      "DecisionTreeTestset 평가결과\n",
      "정확도: 0.9210526315789473\n",
      "재현율: 0.9305555555555556\n",
      "정밀도: 0.9436619718309859\n",
      "F1 점수: 0.9370629370629371\n",
      "Average Precision: 0.9508563971094506\n",
      "ROC-AUC Score: 0.9446097883597883\n",
      "-------------------------------------------\n",
      "RandomForestTestset 평가결과\n",
      "정확도: 0.9385964912280702\n",
      "재현율: 0.9444444444444444\n",
      "정밀도: 0.9577464788732394\n",
      "F1 점수: 0.951048951048951\n",
      "Average Precision: 0.977122126791544\n",
      "ROC-AUC Score: 0.9718915343915344\n"
     ]
    }
   ],
   "source": [
    "## 평가 - test set\n",
    "# 추정\n",
    "pred_tree = tree.predict(X_test) # class를 추정\n",
    "pred_rfc = rfc.predict(X_test)\n",
    "\n",
    "proba_tree = tree.predict_proba(X_test)[:,1] # positive(양성-1)의 확률\n",
    "proba_rfc = rfc.predict_proba(X_test)[:,1] \n",
    "\n",
    "# 점수 확인\n",
    "print_binary_classification_metrics(y_test,pred_tree,proba_tree,\"DecisionTreeTestset 평가결과\")\n",
    "print('-------------------------------------------')\n",
    "print_binary_classification_metrics(y_test,pred_rfc,proba_rfc,\"RandomForestTestset 평가결과\")"
   ]
  },
  {
   "cell_type": "code",
   "execution_count": 6,
   "id": "043cde9c",
   "metadata": {},
   "outputs": [
    {
     "data": {
      "image/png": "[encoded data removed]",
      "text/plain": [
       "<Figure size 640x480 with 2 Axes>"
      ]
     },
     "metadata": {},
     "output_type": "display_data"
    }
   ],
   "source": [
    "## 시각화\n",
    "plot_confusion_matrix(y_test,pred_tree,\"DecisionTree\")"
   ]
  },
  {
   "cell_type": "code",
   "execution_count": 7,
   "id": "fc3b2e46",
   "metadata": {},
   "outputs": [
    {
     "data": {
      "image/png": "[encoded data removed]",
      "text/plain": [
       "<Figure size 640x480 with 1 Axes>"
      ]
     },
     "metadata": {},
     "output_type": "display_data"
    }
   ],
   "source": [
    "plot_precision_recall_curve(y_test, proba_tree, \"DecisionTree\", \"Precision Recall Curve\")"
   ]
  },
  {
   "cell_type": "code",
   "execution_count": 8,
   "id": "920b228a",
   "metadata": {},
   "outputs": [
    {
     "name": "stderr",
     "output_type": "stream",
     "text": [
      "/Users/gayeong/Documents/TIL/env/lib/python3.10/site-packages/sklearn/utils/_plotting.py:379: FutureWarning: `estimator_name` is deprecated in 1.7 and will be removed in 1.9. Use `name` instead.\n",
      "  warnings.warn(\n"
     ]
    },
    {
     "data": {
      "image/png": "[encoded data removed]",
      "text/plain": [
       "<Figure size 640x480 with 1 Axes>"
      ]
     },
     "metadata": {},
     "output_type": "display_data"
    }
   ],
   "source": [
    "plot_roc_curve(y_test, proba_tree, \"Decision Tree\", \"ROC Curve\")"
   ]
  },
  {
   "cell_type": "code",
   "execution_count": 9,
   "id": "ecb7af96",
   "metadata": {},
   "outputs": [
    {
     "data": {
      "image/png": "[encoded data removed]",
      "text/plain": [
       "<Figure size 640x480 with 2 Axes>"
      ]
     },
     "metadata": {},
     "output_type": "display_data"
    }
   ],
   "source": [
    "plot_confusion_matrix(y_test,pred_rfc,\"RandomForest\")"
   ]
  },
  {
   "cell_type": "code",
   "execution_count": 10,
   "id": "3331e833",
   "metadata": {},
   "outputs": [
    {
     "data": {
      "image/png": "[encoded data removed]",
      "text/plain": [
       "<Figure size 640x480 with 1 Axes>"
      ]
     },
     "metadata": {},
     "output_type": "display_data"
    }
   ],
   "source": [
    "plot_precision_recall_curve(y_test, proba_rfc, \"Randomforest\", \"Precision Recall Curve\")"
   ]
  },
  {
   "cell_type": "code",
   "execution_count": 11,
   "id": "cb1d8c26",
   "metadata": {},
   "outputs": [
    {
     "name": "stderr",
     "output_type": "stream",
     "text": [
      "/Users/gayeong/Documents/TIL/env/lib/python3.10/site-packages/sklearn/utils/_plotting.py:379: FutureWarning: `estimator_name` is deprecated in 1.7 and will be removed in 1.9. Use `name` instead.\n",
      "  warnings.warn(\n"
     ]
    },
    {
     "data": {
      "image/png": "[encoded data removed]",
      "text/plain": [
       "<Figure size 640x480 with 1 Axes>"
      ]
     },
     "metadata": {},
     "output_type": "display_data"
    }
   ],
   "source": [
    "plot_roc_curve(y_test,proba_rfc,\"Randomforest\",\"ROC Curve\")"
   ]
  },
  {
   "cell_type": "markdown",
   "id": "0d002261",
   "metadata": {},
   "source": [
    "# 회귀(Regression) 평가지표\n",
    "\n",
    "예측할 값(Target)이 연속형(continuous) 데이터인 지도 학습(Supervised Learning).\n",
    "\n",
    "## 회귀의 주요 평가 지표\n",
    "\n",
    "- ### MSE (Mean Squared Error)\n",
    "    - 실제 값과 예측값의 차를 제곱해 평균 낸 것\n",
    "    - scikit-learn 평가함수: mean_squared_error() \n",
    "    - 교차검증시 지정할 문자열: 'neg_mean_squared_error'\n",
    "      \n",
    "\\begin{align}\n",
    "MSE = \\frac{1}{n}\\sum_{i=1}^{n}(y_i - \\hat{y_i})^2\\\\\n",
    "y_i: 실제값, \\hat{y_i}: 모델이 예측한 값\n",
    "\\end{align}  "
   ]
  },
  {
   "cell_type": "markdown",
   "id": "31029e37",
   "metadata": {},
   "source": [
    "- ### RMSE (Root Mean Squared Error)\n",
    "    - MSE는 오차의 제곱한 값이므로 실제 오차의 평균보다 큰 값이 나온다.  MSE의 제곱근이 RMSE이다.\n",
    "    - mean_squared_error() 의 squared=False로 설정해서 계산(없어질 예정). 또는 MSE를 구한 뒤 np.sqrt()로 제곱근을 구한다.\n",
    "        - `root_mean_squared_error` 함수 1.4 버전에서 추가됨.\n",
    "    - 교차검증시 지정할 문자열: 'neg_root_mean_squared_error'\n",
    "    \n",
    "    $$\n",
    "    RMSE = \\sqrt{\\frac{1}{n}\\sum_{i=1}^{n}(y_i - \\hat{y_i})^2}\n",
    "    $$"
   ]
  },
  {
   "cell_type": "markdown",
   "id": "16def589",
   "metadata": {},
   "source": [
    "- ### $R^2$ (R square, 결정계수)\n",
    "    - 결정계수는 회귀모델에서 Feature(독립변수)들이 Target(종속변수)를 얼마나 설명하는지를 나타내는 평가지표이다.\n",
    "        - 평균으로 예측했을 때 오차(총오차) 보다 모델을 사용했을 때 얼마 만큼 더 좋은 성능을 내는지를 비율로 나타낸 값으로 계산한다.\n",
    "        - 모델은 feature들을 이용해 값을 추론하므로 그 성능은 target에 대한 설명력으로 생각할 수 있다.\n",
    "    - 1에 가까울 수록 좋은 모델.\n",
    "    - scikit-learn 평가함수: r2_score()\n",
    "    - 교차검증시 지정할 문자열: 'r2'\n",
    "    $$\n",
    "    R^2 = \\cfrac{\\sum_{i=1}^{n}(\\hat{y_i}-\\bar{y})^2}{\\sum_{i=1}^{n}(y_i - \\bar{y})^2}\n",
    "    $$\n",
    "\n",
    "- $y_i$ : i번째 정답 값, \n",
    "- $\\hat{y_i}$ : i 번째 예측 값, \n",
    "- $\\bar{y}$ : y의 평균  "
   ]
  },
  {
   "cell_type": "markdown",
   "id": "d2615b61",
   "metadata": {},
   "source": [
    "## 예제\n",
    "\n",
    "> #### Dataset 생성 함수\n",
    "> - make_xxxxx() 함수\n",
    ">     - 머신러닝 학습을 위한 dummy dataset 구현 함수\n",
    ">     - 필요한 설정을 직접하여 테스트할 수 있는 데이터셋을 생성해준다.\n",
    "> - make_regression(): 회귀 문제를 위한 dummy dataset 생성\n",
    "> - make_classification(): 분류 문제를 위한 dummy dataset 생성\n",
    "\n",
    "> #### Noise란 \n",
    ">  같은 Feature를 가진 데이터포인트가 다른 label을 가지는 이유를 Noise(노이즈)라고 한다. 단 그 이유는 현재 상태에선 모른다. 예를 들어 나이란 Feature가 있고 구매량이란 target이 있을때 같은 나이인데 구매량이 다른 경우 그 이유를 우리는 알 수 없다. 그 차이를 만드는 나이 이외의 Feature가 있는데 그것이 수집이 되지 않은 것이다.  그래서 데이터 수집하고 전처리 할 때 그 이유가 되는 Feature를 찾아야 한다. 찾으면 성능이 올라가는 것이고 못찾으면 모르는 이유가 되어 모델 성능이 떨어진다. "
   ]
  },
  {
   "cell_type": "code",
   "execution_count": 12,
   "id": "0cf06d59",
   "metadata": {},
   "outputs": [],
   "source": [
    "import numpy as np\n",
    "import matplotlib.pyplot as plt\n",
    "from sklearn.datasets import make_regression # 회귀문제용 데이터셋을 생성하는 함수"
   ]
  },
  {
   "cell_type": "code",
   "execution_count": 13,
   "id": "78acabb5",
   "metadata": {},
   "outputs": [],
   "source": [
    "X, y = make_regression(\n",
    "        n_samples=1000,  # 총데이터개수(Data point)\n",
    "        n_features=1,       # feature의 개수(컬럼수)\n",
    "        n_informative=1,   # y(Label)에 영향을 주는 feature의 개수. n_features보다 크며 안됨.\n",
    "        noise=30,            # 모델이 찾을 수 없는 값의 범위. 0 ~ noise 사이 랜덤한 실수 값이 noise로 설정됨.==> 인정할 수 있는 오차 범위.\n",
    "        random_state=0\n",
    ")"
   ]
  },
  {
   "cell_type": "code",
   "execution_count": 14,
   "id": "1621466b",
   "metadata": {},
   "outputs": [
    {
     "data": {
      "text/plain": [
       "((1000, 1), (1000,))"
      ]
     },
     "execution_count": 14,
     "metadata": {},
     "output_type": "execute_result"
    }
   ],
   "source": [
    "X.shape, y.shape"
   ]
  },
  {
   "cell_type": "code",
   "execution_count": 15,
   "id": "c50e3ac0",
   "metadata": {},
   "outputs": [
    {
     "data": {
      "text/plain": [
       "(dtype('float64'), dtype('float64'))"
      ]
     },
     "execution_count": 15,
     "metadata": {},
     "output_type": "execute_result"
    }
   ],
   "source": [
    "X.dtype, y.dtype"
   ]
  },
  {
   "cell_type": "code",
   "execution_count": 16,
   "id": "96f834c3",
   "metadata": {},
   "outputs": [
    {
     "data": {
      "image/png": "[encoded data removed]",
      "text/plain": [
       "<Figure size 640x480 with 1 Axes>"
      ]
     },
     "metadata": {},
     "output_type": "display_data"
    }
   ],
   "source": [
    "###  X, y 관계를 시각화 (둘다 연속성(수치형) - 산점도, 점수: 상관계수)\n",
    "plt.scatter(X.flatten(), y, alpha=0.5)\n",
    "plt.show()"
   ]
  },
  {
   "cell_type": "code",
   "execution_count": 17,
   "id": "b32c0200",
   "metadata": {},
   "outputs": [
    {
     "data": {
      "text/plain": [
       "array([[1.        , 0.93856218],\n",
       "       [0.93856218, 1.        ]])"
      ]
     },
     "execution_count": 17,
     "metadata": {},
     "output_type": "execute_result"
    }
   ],
   "source": [
    "# 상관계수\n",
    "np.corrcoef([X.flatten(),y])"
   ]
  },
  {
   "cell_type": "code",
   "execution_count": 18,
   "id": "141093dd",
   "metadata": {},
   "outputs": [
    {
     "name": "stdout",
     "output_type": "stream",
     "text": [
      "[[-2.55298982]\n",
      " [ 1.76405235]\n",
      " [-1.79132755]\n",
      " [-1.2140774 ]\n",
      " [-1.4449402 ]\n",
      " [ 0.1950697 ]\n",
      " [ 1.48051479]\n",
      " [ 0.1887786 ]\n",
      " [-0.66771272]\n",
      " [ 0.61688655]]\n",
      "[-226.98542474  165.24959267 -110.53873999  -83.35797108 -125.77525151\n",
      "    8.46339264  149.20392553    9.75626998  -75.11466292   64.59902229]\n"
     ]
    }
   ],
   "source": [
    "print(X[:10], y[:10], sep=\"\\n\")"
   ]
  },
  {
   "cell_type": "code",
   "execution_count": 19,
   "id": "61e6f566",
   "metadata": {},
   "outputs": [
    {
     "data": {
      "text/plain": [
       "((800, 1), (800,))"
      ]
     },
     "execution_count": 19,
     "metadata": {},
     "output_type": "execute_result"
    }
   ],
   "source": [
    "from sklearn.model_selection import train_test_split\n",
    "from sklearn.linear_model import LinearRegression  # 직선의 방정식을 이용한 모델.\n",
    "from sklearn.tree import DecisionTreeRegressor\n",
    "\n",
    "# 데이터 분할\n",
    "X_train, X_test, y_train, y_test = train_test_split(X,y,test_size=0.2,random_state=0)\n",
    "### 회귀 -> stratify=y값 설정하지 않는다. (분류만 한다.)\n",
    "X_train.shape, y_train.shape"
   ]
  },
  {
   "cell_type": "code",
   "execution_count": 20,
   "id": "0b227719",
   "metadata": {},
   "outputs": [
    {
     "data": {
      "text/html": [
       "<style>#sk-container-id-2 {\n",
       "  /* Definition of color scheme common for light and dark mode */\n",
       "  --sklearn-color-text: #000;\n",
       "  --sklearn-color-text-muted: #666;\n",
       "  --sklearn-color-line: gray;\n",
       "  /* Definition of color scheme for unfitted estimators */\n",
       "  --sklearn-color-unfitted-level-0: #fff5e6;\n",
       "  --sklearn-color-unfitted-level-1: #f6e4d2;\n",
       "  --sklearn-color-unfitted-level-2: #ffe0b3;\n",
       "  --sklearn-color-unfitted-level-3: chocolate;\n",
       "  /* Definition of color scheme for fitted estimators */\n",
       "  --sklearn-color-fitted-level-0: #f0f8ff;\n",
       "  --sklearn-color-fitted-level-1: #d4ebff;\n",
       "  --sklearn-color-fitted-level-2: #b3dbfd;\n",
       "  --sklearn-color-fitted-level-3: cornflowerblue;\n",
       "\n",
       "  /* Specific color for light theme */\n",
       "  --sklearn-color-text-on-default-background: var(--sg-text-color, var(--theme-code-foreground, var(--jp-content-font-color1, black)));\n",
       "  --sklearn-color-background: var(--sg-background-color, var(--theme-background, var(--jp-layout-color0, white)));\n",
       "  --sklearn-color-border-box: var(--sg-text-color, var(--theme-code-foreground, var(--jp-content-font-color1, black)));\n",
       "  --sklearn-color-icon: #696969;\n",
       "\n",
       "  @media (prefers-color-scheme: dark) {\n",
       "    /* Redefinition of color scheme for dark theme */\n",
       "    --sklearn-color-text-on-default-background: var(--sg-text-color, var(--theme-code-foreground, var(--jp-content-font-color1, white)));\n",
       "    --sklearn-color-background: var(--sg-background-color, var(--theme-background, var(--jp-layout-color0, #111)));\n",
       "    --sklearn-color-border-box: var(--sg-text-color, var(--theme-code-foreground, var(--jp-content-font-color1, white)));\n",
       "    --sklearn-color-icon: #878787;\n",
       "  }\n",
       "}\n",
       "\n",
       "#sk-container-id-2 {\n",
       "  color: var(--sklearn-color-text);\n",
       "}\n",
       "\n",
       "#sk-container-id-2 pre {\n",
       "  padding: 0;\n",
       "}\n",
       "\n",
       "#sk-container-id-2 input.sk-hidden--visually {\n",
       "  border: 0;\n",
       "  clip: rect(1px 1px 1px 1px);\n",
       "  clip: rect(1px, 1px, 1px, 1px);\n",
       "  height: 1px;\n",
       "  margin: -1px;\n",
       "  overflow: hidden;\n",
       "  padding: 0;\n",
       "  position: absolute;\n",
       "  width: 1px;\n",
       "}\n",
       "\n",
       "#sk-container-id-2 div.sk-dashed-wrapped {\n",
       "  border: 1px dashed var(--sklearn-color-line);\n",
       "  margin: 0 0.4em 0.5em 0.4em;\n",
       "  box-sizing: border-box;\n",
       "  padding-bottom: 0.4em;\n",
       "  background-color: var(--sklearn-color-background);\n",
       "}\n",
       "\n",
       "#sk-container-id-2 div.sk-container {\n",
       "  /* jupyter's `normalize.less` sets `[hidden] { display: none; }`\n",
       "     but bootstrap.min.css set `[hidden] { display: none !important; }`\n",
       "     so we also need the `!important` here to be able to override the\n",
       "     default hidden behavior on the sphinx rendered scikit-learn.org.\n",
       "     See: https://github.com/scikit-learn/scikit-learn/issues/21755 */\n",
       "  display: inline-block !important;\n",
       "  position: relative;\n",
       "}\n",
       "\n",
       "#sk-container-id-2 div.sk-text-repr-fallback {\n",
       "  display: none;\n",
       "}\n",
       "\n",
       "div.sk-parallel-item,\n",
       "div.sk-serial,\n",
       "div.sk-item {\n",
       "  /* draw centered vertical line to link estimators */\n",
       "  background-image: linear-gradient(var(--sklearn-color-text-on-default-background), var(--sklearn-color-text-on-default-background));\n",
       "  background-size: 2px 100%;\n",
       "  background-repeat: no-repeat;\n",
       "  background-position: center center;\n",
       "}\n",
       "\n",
       "/* Parallel-specific style estimator block */\n",
       "\n",
       "#sk-container-id-2 div.sk-parallel-item::after {\n",
       "  content: \"\";\n",
       "  width: 100%;\n",
       "  border-bottom: 2px solid var(--sklearn-color-text-on-default-background);\n",
       "  flex-grow: 1;\n",
       "}\n",
       "\n",
       "#sk-container-id-2 div.sk-parallel {\n",
       "  display: flex;\n",
       "  align-items: stretch;\n",
       "  justify-content: center;\n",
       "  background-color: var(--sklearn-color-background);\n",
       "  position: relative;\n",
       "}\n",
       "\n",
       "#sk-container-id-2 div.sk-parallel-item {\n",
       "  display: flex;\n",
       "  flex-direction: column;\n",
       "}\n",
       "\n",
       "#sk-container-id-2 div.sk-parallel-item:first-child::after {\n",
       "  align-self: flex-end;\n",
       "  width: 50%;\n",
       "}\n",
       "\n",
       "#sk-container-id-2 div.sk-parallel-item:last-child::after {\n",
       "  align-self: flex-start;\n",
       "  width: 50%;\n",
       "}\n",
       "\n",
       "#sk-container-id-2 div.sk-parallel-item:only-child::after {\n",
       "  width: 0;\n",
       "}\n",
       "\n",
       "/* Serial-specific style estimator block */\n",
       "\n",
       "#sk-container-id-2 div.sk-serial {\n",
       "  display: flex;\n",
       "  flex-direction: column;\n",
       "  align-items: center;\n",
       "  background-color: var(--sklearn-color-background);\n",
       "  padding-right: 1em;\n",
       "  padding-left: 1em;\n",
       "}\n",
       "\n",
       "\n",
       "/* Toggleable style: style used for estimator/Pipeline/ColumnTransformer box that is\n",
       "clickable and can be expanded/collapsed.\n",
       "- Pipeline and ColumnTransformer use this feature and define the default style\n",
       "- Estimators will overwrite some part of the style using the `sk-estimator` class\n",
       "*/\n",
       "\n",
       "/* Pipeline and ColumnTransformer style (default) */\n",
       "\n",
       "#sk-container-id-2 div.sk-toggleable {\n",
       "  /* Default theme specific background. It is overwritten whether we have a\n",
       "  specific estimator or a Pipeline/ColumnTransformer */\n",
       "  background-color: var(--sklearn-color-background);\n",
       "}\n",
       "\n",
       "/* Toggleable label */\n",
       "#sk-container-id-2 label.sk-toggleable__label {\n",
       "  cursor: pointer;\n",
       "  display: flex;\n",
       "  width: 100%;\n",
       "  margin-bottom: 0;\n",
       "  padding: 0.5em;\n",
       "  box-sizing: border-box;\n",
       "  text-align: center;\n",
       "  align-items: start;\n",
       "  justify-content: space-between;\n",
       "  gap: 0.5em;\n",
       "}\n",
       "\n",
       "#sk-container-id-2 label.sk-toggleable__label .caption {\n",
       "  font-size: 0.6rem;\n",
       "  font-weight: lighter;\n",
       "  color: var(--sklearn-color-text-muted);\n",
       "}\n",
       "\n",
       "#sk-container-id-2 label.sk-toggleable__label-arrow:before {\n",
       "  /* Arrow on the left of the label */\n",
       "  content: \"▸\";\n",
       "  float: left;\n",
       "  margin-right: 0.25em;\n",
       "  color: var(--sklearn-color-icon);\n",
       "}\n",
       "\n",
       "#sk-container-id-2 label.sk-toggleable__label-arrow:hover:before {\n",
       "  color: var(--sklearn-color-text);\n",
       "}\n",
       "\n",
       "/* Toggleable content - dropdown */\n",
       "\n",
       "#sk-container-id-2 div.sk-toggleable__content {\n",
       "  display: none;\n",
       "  text-align: left;\n",
       "  /* unfitted */\n",
       "  background-color: var(--sklearn-color-unfitted-level-0);\n",
       "}\n",
       "\n",
       "#sk-container-id-2 div.sk-toggleable__content.fitted {\n",
       "  /* fitted */\n",
       "  background-color: var(--sklearn-color-fitted-level-0);\n",
       "}\n",
       "\n",
       "#sk-container-id-2 div.sk-toggleable__content pre {\n",
       "  margin: 0.2em;\n",
       "  border-radius: 0.25em;\n",
       "  color: var(--sklearn-color-text);\n",
       "  /* unfitted */\n",
       "  background-color: var(--sklearn-color-unfitted-level-0);\n",
       "}\n",
       "\n",
       "#sk-container-id-2 div.sk-toggleable__content.fitted pre {\n",
       "  /* unfitted */\n",
       "  background-color: var(--sklearn-color-fitted-level-0);\n",
       "}\n",
       "\n",
       "#sk-container-id-2 input.sk-toggleable__control:checked~div.sk-toggleable__content {\n",
       "  /* Expand drop-down */\n",
       "  display: block;\n",
       "  width: 100%;\n",
       "  overflow: visible;\n",
       "}\n",
       "\n",
       "#sk-container-id-2 input.sk-toggleable__control:checked~label.sk-toggleable__label-arrow:before {\n",
       "  content: \"▾\";\n",
       "}\n",
       "\n",
       "/* Pipeline/ColumnTransformer-specific style */\n",
       "\n",
       "#sk-container-id-2 div.sk-label input.sk-toggleable__control:checked~label.sk-toggleable__label {\n",
       "  color: var(--sklearn-color-text);\n",
       "  background-color: var(--sklearn-color-unfitted-level-2);\n",
       "}\n",
       "\n",
       "#sk-container-id-2 div.sk-label.fitted input.sk-toggleable__control:checked~label.sk-toggleable__label {\n",
       "  background-color: var(--sklearn-color-fitted-level-2);\n",
       "}\n",
       "\n",
       "/* Estimator-specific style */\n",
       "\n",
       "/* Colorize estimator box */\n",
       "#sk-container-id-2 div.sk-estimator input.sk-toggleable__control:checked~label.sk-toggleable__label {\n",
       "  /* unfitted */\n",
       "  background-color: var(--sklearn-color-unfitted-level-2);\n",
       "}\n",
       "\n",
       "#sk-container-id-2 div.sk-estimator.fitted input.sk-toggleable__control:checked~label.sk-toggleable__label {\n",
       "  /* fitted */\n",
       "  background-color: var(--sklearn-color-fitted-level-2);\n",
       "}\n",
       "\n",
       "#sk-container-id-2 div.sk-label label.sk-toggleable__label,\n",
       "#sk-container-id-2 div.sk-label label {\n",
       "  /* The background is the default theme color */\n",
       "  color: var(--sklearn-color-text-on-default-background);\n",
       "}\n",
       "\n",
       "/* On hover, darken the color of the background */\n",
       "#sk-container-id-2 div.sk-label:hover label.sk-toggleable__label {\n",
       "  color: var(--sklearn-color-text);\n",
       "  background-color: var(--sklearn-color-unfitted-level-2);\n",
       "}\n",
       "\n",
       "/* Label box, darken color on hover, fitted */\n",
       "#sk-container-id-2 div.sk-label.fitted:hover label.sk-toggleable__label.fitted {\n",
       "  color: var(--sklearn-color-text);\n",
       "  background-color: var(--sklearn-color-fitted-level-2);\n",
       "}\n",
       "\n",
       "/* Estimator label */\n",
       "\n",
       "#sk-container-id-2 div.sk-label label {\n",
       "  font-family: monospace;\n",
       "  font-weight: bold;\n",
       "  display: inline-block;\n",
       "  line-height: 1.2em;\n",
       "}\n",
       "\n",
       "#sk-container-id-2 div.sk-label-container {\n",
       "  text-align: center;\n",
       "}\n",
       "\n",
       "/* Estimator-specific */\n",
       "#sk-container-id-2 div.sk-estimator {\n",
       "  font-family: monospace;\n",
       "  border: 1px dotted var(--sklearn-color-border-box);\n",
       "  border-radius: 0.25em;\n",
       "  box-sizing: border-box;\n",
       "  margin-bottom: 0.5em;\n",
       "  /* unfitted */\n",
       "  background-color: var(--sklearn-color-unfitted-level-0);\n",
       "}\n",
       "\n",
       "#sk-container-id-2 div.sk-estimator.fitted {\n",
       "  /* fitted */\n",
       "  background-color: var(--sklearn-color-fitted-level-0);\n",
       "}\n",
       "\n",
       "/* on hover */\n",
       "#sk-container-id-2 div.sk-estimator:hover {\n",
       "  /* unfitted */\n",
       "  background-color: var(--sklearn-color-unfitted-level-2);\n",
       "}\n",
       "\n",
       "#sk-container-id-2 div.sk-estimator.fitted:hover {\n",
       "  /* fitted */\n",
       "  background-color: var(--sklearn-color-fitted-level-2);\n",
       "}\n",
       "\n",
       "/* Specification for estimator info (e.g. \"i\" and \"?\") */\n",
       "\n",
       "/* Common style for \"i\" and \"?\" */\n",
       "\n",
       ".sk-estimator-doc-link,\n",
       "a:link.sk-estimator-doc-link,\n",
       "a:visited.sk-estimator-doc-link {\n",
       "  float: right;\n",
       "  font-size: smaller;\n",
       "  line-height: 1em;\n",
       "  font-family: monospace;\n",
       "  background-color: var(--sklearn-color-background);\n",
       "  border-radius: 1em;\n",
       "  height: 1em;\n",
       "  width: 1em;\n",
       "  text-decoration: none !important;\n",
       "  margin-left: 0.5em;\n",
       "  text-align: center;\n",
       "  /* unfitted */\n",
       "  border: var(--sklearn-color-unfitted-level-1) 1pt solid;\n",
       "  color: var(--sklearn-color-unfitted-level-1);\n",
       "}\n",
       "\n",
       ".sk-estimator-doc-link.fitted,\n",
       "a:link.sk-estimator-doc-link.fitted,\n",
       "a:visited.sk-estimator-doc-link.fitted {\n",
       "  /* fitted */\n",
       "  border: var(--sklearn-color-fitted-level-1) 1pt solid;\n",
       "  color: var(--sklearn-color-fitted-level-1);\n",
       "}\n",
       "\n",
       "/* On hover */\n",
       "div.sk-estimator:hover .sk-estimator-doc-link:hover,\n",
       ".sk-estimator-doc-link:hover,\n",
       "div.sk-label-container:hover .sk-estimator-doc-link:hover,\n",
       ".sk-estimator-doc-link:hover {\n",
       "  /* unfitted */\n",
       "  background-color: var(--sklearn-color-unfitted-level-3);\n",
       "  color: var(--sklearn-color-background);\n",
       "  text-decoration: none;\n",
       "}\n",
       "\n",
       "div.sk-estimator.fitted:hover .sk-estimator-doc-link.fitted:hover,\n",
       ".sk-estimator-doc-link.fitted:hover,\n",
       "div.sk-label-container:hover .sk-estimator-doc-link.fitted:hover,\n",
       ".sk-estimator-doc-link.fitted:hover {\n",
       "  /* fitted */\n",
       "  background-color: var(--sklearn-color-fitted-level-3);\n",
       "  color: var(--sklearn-color-background);\n",
       "  text-decoration: none;\n",
       "}\n",
       "\n",
       "/* Span, style for the box shown on hovering the info icon */\n",
       ".sk-estimator-doc-link span {\n",
       "  display: none;\n",
       "  z-index: 9999;\n",
       "  position: relative;\n",
       "  font-weight: normal;\n",
       "  right: .2ex;\n",
       "  padding: .5ex;\n",
       "  margin: .5ex;\n",
       "  width: min-content;\n",
       "  min-width: 20ex;\n",
       "  max-width: 50ex;\n",
       "  color: var(--sklearn-color-text);\n",
       "  box-shadow: 2pt 2pt 4pt #999;\n",
       "  /* unfitted */\n",
       "  background: var(--sklearn-color-unfitted-level-0);\n",
       "  border: .5pt solid var(--sklearn-color-unfitted-level-3);\n",
       "}\n",
       "\n",
       ".sk-estimator-doc-link.fitted span {\n",
       "  /* fitted */\n",
       "  background: var(--sklearn-color-fitted-level-0);\n",
       "  border: var(--sklearn-color-fitted-level-3);\n",
       "}\n",
       "\n",
       ".sk-estimator-doc-link:hover span {\n",
       "  display: block;\n",
       "}\n",
       "\n",
       "/* \"?\"-specific style due to the `<a>` HTML tag */\n",
       "\n",
       "#sk-container-id-2 a.estimator_doc_link {\n",
       "  float: right;\n",
       "  font-size: 1rem;\n",
       "  line-height: 1em;\n",
       "  font-family: monospace;\n",
       "  background-color: var(--sklearn-color-background);\n",
       "  border-radius: 1rem;\n",
       "  height: 1rem;\n",
       "  width: 1rem;\n",
       "  text-decoration: none;\n",
       "  /* unfitted */\n",
       "  color: var(--sklearn-color-unfitted-level-1);\n",
       "  border: var(--sklearn-color-unfitted-level-1) 1pt solid;\n",
       "}\n",
       "\n",
       "#sk-container-id-2 a.estimator_doc_link.fitted {\n",
       "  /* fitted */\n",
       "  border: var(--sklearn-color-fitted-level-1) 1pt solid;\n",
       "  color: var(--sklearn-color-fitted-level-1);\n",
       "}\n",
       "\n",
       "/* On hover */\n",
       "#sk-container-id-2 a.estimator_doc_link:hover {\n",
       "  /* unfitted */\n",
       "  background-color: var(--sklearn-color-unfitted-level-3);\n",
       "  color: var(--sklearn-color-background);\n",
       "  text-decoration: none;\n",
       "}\n",
       "\n",
       "#sk-container-id-2 a.estimator_doc_link.fitted:hover {\n",
       "  /* fitted */\n",
       "  background-color: var(--sklearn-color-fitted-level-3);\n",
       "}\n",
       "\n",
       ".estimator-table summary {\n",
       "    padding: .5rem;\n",
       "    font-family: monospace;\n",
       "    cursor: pointer;\n",
       "}\n",
       "\n",
       ".estimator-table details[open] {\n",
       "    padding-left: 0.1rem;\n",
       "    padding-right: 0.1rem;\n",
       "    padding-bottom: 0.3rem;\n",
       "}\n",
       "\n",
       ".estimator-table .parameters-table {\n",
       "    margin-left: auto !important;\n",
       "    margin-right: auto !important;\n",
       "}\n",
       "\n",
       ".estimator-table .parameters-table tr:nth-child(odd) {\n",
       "    background-color: #fff;\n",
       "}\n",
       "\n",
       ".estimator-table .parameters-table tr:nth-child(even) {\n",
       "    background-color: #f6f6f6;\n",
       "}\n",
       "\n",
       ".estimator-table .parameters-table tr:hover {\n",
       "    background-color: #e0e0e0;\n",
       "}\n",
       "\n",
       ".estimator-table table td {\n",
       "    border: 1px solid rgba(106, 105, 104, 0.232);\n",
       "}\n",
       "\n",
       ".user-set td {\n",
       "    color:rgb(255, 94, 0);\n",
       "    text-align: left;\n",
       "}\n",
       "\n",
       ".user-set td.value pre {\n",
       "    color:rgb(255, 94, 0) !important;\n",
       "    background-color: transparent !important;\n",
       "}\n",
       "\n",
       ".default td {\n",
       "    color: black;\n",
       "    text-align: left;\n",
       "}\n",
       "\n",
       ".user-set td i,\n",
       ".default td i {\n",
       "    color: black;\n",
       "}\n",
       "\n",
       ".copy-paste-icon {\n",
       "    background-image: url(data:image/svg+xml;base64,PHN2ZyB4bWxucz0iaHR0cDovL3d3dy53My5vcmcvMjAwMC9zdmciIHZpZXdCb3g9IjAgMCA0NDggNTEyIj48IS0tIUZvbnQgQXdlc29tZSBGcmVlIDYuNy4yIGJ5IEBmb250YXdlc29tZSAtIGh0dHBzOi8vZm9udGF3ZXNvbWUuY29tIExpY2Vuc2UgLSBodHRwczovL2ZvbnRhd2Vzb21lLmNvbS9saWNlbnNlL2ZyZWUgQ29weXJpZ2h0IDIwMjUgRm9udGljb25zLCBJbmMuLS0+PHBhdGggZD0iTTIwOCAwTDMzMi4xIDBjMTIuNyAwIDI0LjkgNS4xIDMzLjkgMTQuMWw2Ny45IDY3LjljOSA5IDE0LjEgMjEuMiAxNC4xIDMzLjlMNDQ4IDMzNmMwIDI2LjUtMjEuNSA0OC00OCA0OGwtMTkyIDBjLTI2LjUgMC00OC0yMS41LTQ4LTQ4bDAtMjg4YzAtMjYuNSAyMS41LTQ4IDQ4LTQ4ek00OCAxMjhsODAgMCAwIDY0LTY0IDAgMCAyNTYgMTkyIDAgMC0zMiA2NCAwIDAgNDhjMCAyNi41LTIxLjUgNDgtNDggNDhMNDggNTEyYy0yNi41IDAtNDgtMjEuNS00OC00OEwwIDE3NmMwLTI2LjUgMjEuNS00OCA0OC00OHoiLz48L3N2Zz4=);\n",
       "    background-repeat: no-repeat;\n",
       "    background-size: 14px 14px;\n",
       "    background-position: 0;\n",
       "    display: inline-block;\n",
       "    width: 14px;\n",
       "    height: 14px;\n",
       "    cursor: pointer;\n",
       "}\n",
       "</style><body><div id=\"sk-container-id-2\" class=\"sk-top-container\"><div class=\"sk-text-repr-fallback\"><pre>DecisionTreeRegressor(max_depth=3, random_state=0)</pre><b>In a Jupyter environment, please rerun this cell to show the HTML representation or trust the notebook. <br />On GitHub, the HTML representation is unable to render, please try loading this page with nbviewer.org.</b></div><div class=\"sk-container\" hidden><div class=\"sk-item\"><div class=\"sk-estimator fitted sk-toggleable\"><input class=\"sk-toggleable__control sk-hidden--visually\" id=\"sk-estimator-id-2\" type=\"checkbox\" checked><label for=\"sk-estimator-id-2\" class=\"sk-toggleable__label fitted sk-toggleable__label-arrow\"><div><div>DecisionTreeRegressor</div></div><div><a class=\"sk-estimator-doc-link fitted\" rel=\"noreferrer\" target=\"_blank\" href=\"https://scikit-learn.org/1.7/modules/generated/sklearn.tree.DecisionTreeRegressor.html\">?<span>Documentation for DecisionTreeRegressor</span></a><span class=\"sk-estimator-doc-link fitted\">i<span>Fitted</span></span></div></label><div class=\"sk-toggleable__content fitted\" data-param-prefix=\"\">\n",
       "        <div class=\"estimator-table\">\n",
       "            <details>\n",
       "                <summary>Parameters</summary>\n",
       "                <table class=\"parameters-table\">\n",
       "                  <tbody>\n",
       "                    \n",
       "        <tr class=\"default\">\n",
       "            <td><i class=\"copy-paste-icon\"\n",
       "                 onclick=\"copyToClipboard('criterion',\n",
       "                          this.parentElement.nextElementSibling)\"\n",
       "            ></i></td>\n",
       "            <td class=\"param\">criterion&nbsp;</td>\n",
       "            <td class=\"value\">&#x27;squared_error&#x27;</td>\n",
       "        </tr>\n",
       "    \n",
       "\n",
       "        <tr class=\"default\">\n",
       "            <td><i class=\"copy-paste-icon\"\n",
       "                 onclick=\"copyToClipboard('splitter',\n",
       "                          this.parentElement.nextElementSibling)\"\n",
       "            ></i></td>\n",
       "            <td class=\"param\">splitter&nbsp;</td>\n",
       "            <td class=\"value\">&#x27;best&#x27;</td>\n",
       "        </tr>\n",
       "    \n",
       "\n",
       "        <tr class=\"user-set\">\n",
       "            <td><i class=\"copy-paste-icon\"\n",
       "                 onclick=\"copyToClipboard('max_depth',\n",
       "                          this.parentElement.nextElementSibling)\"\n",
       "            ></i></td>\n",
       "            <td class=\"param\">max_depth&nbsp;</td>\n",
       "            <td class=\"value\">3</td>\n",
       "        </tr>\n",
       "    \n",
       "\n",
       "        <tr class=\"default\">\n",
       "            <td><i class=\"copy-paste-icon\"\n",
       "                 onclick=\"copyToClipboard('min_samples_split',\n",
       "                          this.parentElement.nextElementSibling)\"\n",
       "            ></i></td>\n",
       "            <td class=\"param\">min_samples_split&nbsp;</td>\n",
       "            <td class=\"value\">2</td>\n",
       "        </tr>\n",
       "    \n",
       "\n",
       "        <tr class=\"default\">\n",
       "            <td><i class=\"copy-paste-icon\"\n",
       "                 onclick=\"copyToClipboard('min_samples_leaf',\n",
       "                          this.parentElement.nextElementSibling)\"\n",
       "            ></i></td>\n",
       "            <td class=\"param\">min_samples_leaf&nbsp;</td>\n",
       "            <td class=\"value\">1</td>\n",
       "        </tr>\n",
       "    \n",
       "\n",
       "        <tr class=\"default\">\n",
       "            <td><i class=\"copy-paste-icon\"\n",
       "                 onclick=\"copyToClipboard('min_weight_fraction_leaf',\n",
       "                          this.parentElement.nextElementSibling)\"\n",
       "            ></i></td>\n",
       "            <td class=\"param\">min_weight_fraction_leaf&nbsp;</td>\n",
       "            <td class=\"value\">0.0</td>\n",
       "        </tr>\n",
       "    \n",
       "\n",
       "        <tr class=\"default\">\n",
       "            <td><i class=\"copy-paste-icon\"\n",
       "                 onclick=\"copyToClipboard('max_features',\n",
       "                          this.parentElement.nextElementSibling)\"\n",
       "            ></i></td>\n",
       "            <td class=\"param\">max_features&nbsp;</td>\n",
       "            <td class=\"value\">None</td>\n",
       "        </tr>\n",
       "    \n",
       "\n",
       "        <tr class=\"user-set\">\n",
       "            <td><i class=\"copy-paste-icon\"\n",
       "                 onclick=\"copyToClipboard('random_state',\n",
       "                          this.parentElement.nextElementSibling)\"\n",
       "            ></i></td>\n",
       "            <td class=\"param\">random_state&nbsp;</td>\n",
       "            <td class=\"value\">0</td>\n",
       "        </tr>\n",
       "    \n",
       "\n",
       "        <tr class=\"default\">\n",
       "            <td><i class=\"copy-paste-icon\"\n",
       "                 onclick=\"copyToClipboard('max_leaf_nodes',\n",
       "                          this.parentElement.nextElementSibling)\"\n",
       "            ></i></td>\n",
       "            <td class=\"param\">max_leaf_nodes&nbsp;</td>\n",
       "            <td class=\"value\">None</td>\n",
       "        </tr>\n",
       "    \n",
       "\n",
       "        <tr class=\"default\">\n",
       "            <td><i class=\"copy-paste-icon\"\n",
       "                 onclick=\"copyToClipboard('min_impurity_decrease',\n",
       "                          this.parentElement.nextElementSibling)\"\n",
       "            ></i></td>\n",
       "            <td class=\"param\">min_impurity_decrease&nbsp;</td>\n",
       "            <td class=\"value\">0.0</td>\n",
       "        </tr>\n",
       "    \n",
       "\n",
       "        <tr class=\"default\">\n",
       "            <td><i class=\"copy-paste-icon\"\n",
       "                 onclick=\"copyToClipboard('ccp_alpha',\n",
       "                          this.parentElement.nextElementSibling)\"\n",
       "            ></i></td>\n",
       "            <td class=\"param\">ccp_alpha&nbsp;</td>\n",
       "            <td class=\"value\">0.0</td>\n",
       "        </tr>\n",
       "    \n",
       "\n",
       "        <tr class=\"default\">\n",
       "            <td><i class=\"copy-paste-icon\"\n",
       "                 onclick=\"copyToClipboard('monotonic_cst',\n",
       "                          this.parentElement.nextElementSibling)\"\n",
       "            ></i></td>\n",
       "            <td class=\"param\">monotonic_cst&nbsp;</td>\n",
       "            <td class=\"value\">None</td>\n",
       "        </tr>\n",
       "    \n",
       "                  </tbody>\n",
       "                </table>\n",
       "            </details>\n",
       "        </div>\n",
       "    </div></div></div></div></div><script>function copyToClipboard(text, element) {\n",
       "    // Get the parameter prefix from the closest toggleable content\n",
       "    const toggleableContent = element.closest('.sk-toggleable__content');\n",
       "    const paramPrefix = toggleableContent ? toggleableContent.dataset.paramPrefix : '';\n",
       "    const fullParamName = paramPrefix ? `${paramPrefix}${text}` : text;\n",
       "\n",
       "    const originalStyle = element.style;\n",
       "    const computedStyle = window.getComputedStyle(element);\n",
       "    const originalWidth = computedStyle.width;\n",
       "    const originalHTML = element.innerHTML.replace('Copied!', '');\n",
       "\n",
       "    navigator.clipboard.writeText(fullParamName)\n",
       "        .then(() => {\n",
       "            element.style.width = originalWidth;\n",
       "            element.style.color = 'green';\n",
       "            element.innerHTML = \"Copied!\";\n",
       "\n",
       "            setTimeout(() => {\n",
       "                element.innerHTML = originalHTML;\n",
       "                element.style = originalStyle;\n",
       "            }, 2000);\n",
       "        })\n",
       "        .catch(err => {\n",
       "            console.error('Failed to copy:', err);\n",
       "            element.style.color = 'red';\n",
       "            element.innerHTML = \"Failed!\";\n",
       "            setTimeout(() => {\n",
       "                element.innerHTML = originalHTML;\n",
       "                element.style = originalStyle;\n",
       "            }, 2000);\n",
       "        });\n",
       "    return false;\n",
       "}\n",
       "\n",
       "document.querySelectorAll('.fa-regular.fa-copy').forEach(function(element) {\n",
       "    const toggleableContent = element.closest('.sk-toggleable__content');\n",
       "    const paramPrefix = toggleableContent ? toggleableContent.dataset.paramPrefix : '';\n",
       "    const paramName = element.parentElement.nextElementSibling.textContent.trim();\n",
       "    const fullParamName = paramPrefix ? `${paramPrefix}${paramName}` : paramName;\n",
       "\n",
       "    element.setAttribute('title', fullParamName);\n",
       "});\n",
       "</script></body>"
      ],
      "text/plain": [
       "DecisionTreeRegressor(max_depth=3, random_state=0)"
      ]
     },
     "execution_count": 20,
     "metadata": {},
     "output_type": "execute_result"
    }
   ],
   "source": [
    "# 모델링\n",
    "lr = LinearRegression()\n",
    "tree = DecisionTreeRegressor(max_depth=3,random_state=0)\n",
    "\n",
    "lr.fit(X_train, y_train)\n",
    "tree.fit(X_train, y_train)"
   ]
  },
  {
   "cell_type": "code",
   "execution_count": 21,
   "id": "8595728f",
   "metadata": {},
   "outputs": [],
   "source": [
    "# 평가\n",
    "## 추정 -> 회귀모델은 predict()로 추정. predict_proba()는 없다.(분류)\n",
    "pred_train_lr = lr.predict(X_train)\n",
    "pred_test_lr = lr.predict(X_test)"
   ]
  },
  {
   "cell_type": "code",
   "execution_count": 22,
   "id": "ee3c94c6",
   "metadata": {},
   "outputs": [
    {
     "name": "stdout",
     "output_type": "stream",
     "text": [
      "LinearRegression  평가 , y_trian , y_test\n",
      "MSE: , 899.6108311038805 , 832.1344100029423\n",
      "RMSE: , 29.993513150411047 , 28.846740023838784\n",
      "R square(결정계수): , 0.8826629445928171 , 0.8700578135014047\n"
     ]
    }
   ],
   "source": [
    "from sklearn.metrics import mean_squared_error, root_mean_squared_error, r2_score\n",
    "# 회귀 평가 - 평가함수(정답, 모델추정값)\n",
    "print(\"LinearRegression  평가\", \"y_trian\", \"y_test\", sep=\" , \")\n",
    "print(\"MSE:\", mean_squared_error(y_train, pred_train_lr), \n",
    "                mean_squared_error(y_test, pred_test_lr), sep=\" , \")\n",
    "# print(\"RMSE:\", mean_squared_error(y_train, pred_train_lr, squared=False))\n",
    "print(\"RMSE:\", root_mean_squared_error(y_train, pred_train_lr), \n",
    "                root_mean_squared_error(y_test, pred_test_lr), sep=\" , \")\n",
    "print(\"R square(결정계수):\", r2_score(y_train, pred_train_lr), \n",
    "                                    r2_score(y_test, pred_test_lr), sep=\" , \")"
   ]
  },
  {
   "cell_type": "code",
   "execution_count": 23,
   "id": "fddd6571",
   "metadata": {},
   "outputs": [],
   "source": [
    "###### LinearRegression, DecisionTree 모델이 추청한 결과를 시각화.\n",
    "## 입력값을 생성\n",
    "new_X = np.linspace(-3.2, 3.2, 1000).reshape(-1, 1)\n",
    "new_y_lr = lr.predict(new_X)\n",
    "new_y_tree = tree.predict(new_X)"
   ]
  },
  {
   "cell_type": "code",
   "execution_count": 24,
   "id": "efab3d02",
   "metadata": {},
   "outputs": [
    {
     "data": {
      "text/plain": [
       "array([-3.2])"
      ]
     },
     "execution_count": 24,
     "metadata": {},
     "output_type": "execute_result"
    }
   ],
   "source": [
    "new_X[0]"
   ]
  },
  {
   "cell_type": "code",
   "execution_count": 25,
   "id": "c3323979",
   "metadata": {},
   "outputs": [
    {
     "data": {
      "text/plain": [
       "np.float64(-261.48010017184924)"
      ]
     },
     "execution_count": 25,
     "metadata": {},
     "output_type": "execute_result"
    }
   ],
   "source": [
    "new_y_lr[0]"
   ]
  },
  {
   "cell_type": "code",
   "execution_count": 26,
   "id": "db46273e",
   "metadata": {},
   "outputs": [
    {
     "data": {
      "image/png": "[encoded data removed]",
      "text/plain": [
       "<Figure size 800x600 with 1 Axes>"
      ]
     },
     "metadata": {},
     "output_type": "display_data"
    }
   ],
   "source": [
    "plt.figure(figsize=(8, 6))\n",
    "plt.scatter(X, y, alpha=0.3)\n",
    "plt.plot(new_X.flatten(), new_y_lr, label=\"LinearRegression\", color=\"red\", linewidth=3)\n",
    "plt.plot(new_X.flatten(), new_y_tree, label=\"DecisionTree\", color=\"yellow\", linewidth=3)\n",
    "plt.legend()\n",
    "plt.show()"
   ]
  },
  {
   "cell_type": "code",
   "execution_count": 1,
   "id": "3996d21d",
   "metadata": {},
   "outputs": [
    {
     "name": "stdout",
     "output_type": "stream",
     "text": [
      "Overwriting metrics.py\n"
     ]
    }
   ],
   "source": [
    "%%writefile metrics.py\n",
    "\n",
    "###### 평가 모듈 -> 다양한 평가지표들을 계산/출력하는 함수들가지는 모듈\n",
    "import matplotlib.pyplot as plt\n",
    "from sklearn.metrics import (confusion_matrix, ConfusionMatrixDisplay, \n",
    "                                    recall_score, precision_score, f1_score, accuracy_score,\n",
    "                                    PrecisionRecallDisplay, average_precision_score, precision_recall_curve,\n",
    "                                    RocCurveDisplay, roc_auc_score, roc_curve,\n",
    "                                    mean_squared_error, root_mean_squared_error, r2_score)\n",
    "\n",
    "__version__ = 1.0\n",
    "\n",
    "def print_regression_metrcis(y, pred, title=None):\n",
    "    \"\"\"회귀 평가지표를 출력하는 함수\n",
    "    Parameter\n",
    "        y: ndarray - 정답 \n",
    "        pred: ndarray - 모델 추정값\n",
    "        title: 결과에 대한 제목. default: None\n",
    "    Return\n",
    "    Exception\"\"\"\n",
    "    if title:\n",
    "        print(title)\n",
    "    print(\"MSE:\", mean_squared_error(y, pred))\n",
    "    print(\"RMSE:\", root_mean_squared_error(y, pred))\n",
    "    print(\"R Squared:\", r2_score(y, pred))\n",
    "\n",
    "\n",
    "def plot_precision_recall_curve(y_proba, pred_proba, estimator_name=None, title=None):\n",
    "    \"\"\"Precision Recall Curve 시각화 함수\n",
    "    Parameter\n",
    "        y_proba: ndarray - 정답\n",
    "        pred_proba: 모델이 추정한 양성(Positive-1)일 확률\n",
    "        estimator_name: str - 모델 이름. 시각화시 범례에 출력할 모델이름\n",
    "        title: str - plot 제목\n",
    "    Return\n",
    "    Exception\"\"\"\n",
    "    # ap score 계산\n",
    "    ap_score = average_precision_score(y_proba, pred_proba)\n",
    "    # thresh 변화에 따른 precision, recall 값들 계산.\n",
    "    precision, recall, _ = precision_recall_curve(y_proba, pred_proba)\n",
    "    # 시각화\n",
    "    disp = PrecisionRecallDisplay(\n",
    "        precision, recall, \n",
    "        average_precision=ap_score,  \n",
    "        estimator_name=estimator_name\n",
    "    )\n",
    "    disp.plot()\n",
    "    if title:\n",
    "        plt.title(title)\n",
    "    plt.show()\n",
    "    \n",
    "def plot_roc_curve(y_proba, pred_proba, estimator_name=None, title=None):\n",
    "    \"\"\"ROC Curve 시각화\n",
    "    Parameter\n",
    "        y_proba: ndarray - 정답\n",
    "        pred_proba: 모델이 추정한 양성(Positive-1)일 확률\n",
    "        estimator_name: str - 모델 이름. 시각화시 범례에 출력할 모델이름\n",
    "        title: str - plot 제목\n",
    "    Return\n",
    "    Exception\"\"\"\n",
    "    ## ROC-AUC score 계산\n",
    "    auc_score = roc_auc_score(y_proba, pred_proba)\n",
    "    ## Thresh 변화에 따른 TPR(Recall) 과 FPR(위양성율) 계산\n",
    "    fpr, tpr, _ = roc_curve(y_proba, pred_proba)\n",
    "    ### 시각화\n",
    "    disp = RocCurveDisplay(\n",
    "        fpr=fpr, tpr=tpr, \n",
    "        estimator_name=estimator_name,\n",
    "        roc_auc=auc_score\n",
    "    )\n",
    "    disp.plot()\n",
    "    if title:\n",
    "        plt.title(title)\n",
    "    plt.show()\n",
    "\n",
    "def plot_confusion_matrix(y, pred, title=None):\n",
    "    \"\"\"Confusion matrix 시각화 함수\n",
    "    Parameter\n",
    "        y: ndarray - 정답\n",
    "        pred: ndarray - 모델 추정결과\n",
    "        title: str - 출력할 제목. default=None\n",
    "    Return:\n",
    "    Exception:\n",
    "    \"\"\"\n",
    "    cm = confusion_matrix(y, pred)\n",
    "    disp = ConfusionMatrixDisplay(cm)\n",
    "    disp.plot(cmap=\"Blues\")\n",
    "    if title:\n",
    "        plt.title(title)\n",
    "    plt.show()\n",
    "\n",
    "def print_binary_classification_metrics(y, pred, proba=None, title=None):\n",
    "    \"\"\"정확도, 재현율, 정밀도, f1 점수를 계산해서 출력하는 함수\n",
    "    만약 모델이 추정한 양성의 확률을 전달 받은 경우 average_precision과  roc-auc score도 출력\n",
    "    Parameter\n",
    "        y: ndarray - 정답\n",
    "        pred: ndarray - 모델 추정결과\n",
    "        proba: ndarray - 모델이 추정한 양성일 확률값. Default: None\n",
    "        title: str - 결과에 대한 제목 default=None\n",
    "    Return\n",
    "    Exception\n",
    "    \"\"\"\n",
    "    if title:\n",
    "        print(title)\n",
    "    print(\"정확도:\", accuracy_score(y, pred))\n",
    "    print(\"재현율:\", recall_score(y, pred))\n",
    "    print(\"정밀도:\", precision_score(y, pred))\n",
    "    print(\"F1 점수:\", f1_score(y, pred))\n",
    "    if proba is not None:\n",
    "        print(\"Average Precision:\", average_precision_score(y, proba))\n",
    "        print(\"ROC-AUC Score:\", roc_auc_score(y, proba))\n"
   ]
  }
 ],
 "metadata": {
  "kernelspec": {
   "display_name": "env",
   "language": "python",
   "name": "python3"
  },
  "language_info": {
   "codemirror_mode": {
    "name": "ipython",
    "version": 3
   },
   "file_extension": ".py",
   "mimetype": "text/x-python",
   "name": "python",
   "nbconvert_exporter": "python",
   "pygments_lexer": "ipython3",
   "version": "3.10.7"
  }
 },
 "nbformat": 4,
 "nbformat_minor": 5
}
