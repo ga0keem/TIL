{
 "cells": [
  {
   "cell_type": "markdown",
   "id": "986e3404",
   "metadata": {},
   "source": [
    "### 머신러닝(Machine Learning)\n",
    "> - 데이터 학습 기반의 인공 지능 분야\n",
    "> - 기계에게 어떻게 동작할지 일일이 코드로 명시하지 않고 데이터를 이용해 학습할 수 있도록 하는 알고리즘과 기술을 개발하는 인공지능의 한분야"
   ]
  },
  {
   "cell_type": "markdown",
   "id": "152b95bd",
   "metadata": {
    "vscode": {
     "languageId": "plaintext"
    }
   },
   "source": [
    "### 딥러닝 (Deep Learning)\n",
    "> - 인공신경망 알고리즘을 기반으로 하는 머신러닝의 한 분야. 비정형데이터(영상, 음성, 텍스트)에서 뛰어난 성능을 나타낸다. 단 학습 데이터의 양이 많아야 한다."
   ]
  },
  {
   "cell_type": "markdown",
   "id": "688fe079",
   "metadata": {
    "vscode": {
     "languageId": "plaintext"
    }
   },
   "source": [
    "> - 비정형 데이터\n",
    ">    - 정해진 규칙 없이 저장되어 값의 의미를 쉽게 파악할 수 없는 데이터\n",
    ">    - 텍스트, 영상, 음성 데이터가 대표적인 예이다.\n",
    "> - 정형 데이터\n",
    ">    - 미리 정해 놓은 형식과 구조에 따라 저장되도록 구성된 데이터\n",
    ">    - 대표적이 예로 관계형 데이터베이스가 있다."
   ]
  },
  {
   "cell_type": "markdown",
   "id": "db785471",
   "metadata": {},
   "source": [
    "## 머신러닝 모델(알고리즘, 모형)\n",
    "- 모델이란 목적에 맞는 작업을 처리하는 함수/알고리즘/공식을 말한다.\n",
    "    - 머신러닝은 이 모델을 데이터 학습을 통해 정의되도록 한다.\n",
    "    - 데이터 학습이란 \"이 데이터는 이런 패턴을 가졌을 것\"이라고 가정한 일반화된 함수를 정한 뒤 그 함수를 대상 데이터에 맞춰(fitting) 함수를 완성한다.\n",
    "    \n",
    "### 모델을 만드는 과정\n",
    "1. 모델을 정하여 수식화 한다. \n",
    "2. 모델을 데이터를 이용해 학습(Train) 시킨다. \n",
    "    - 모델을 데이터의 패턴에 맞춘다. (fit)\n",
    "3. 학습된 모델이 얼마나 데이터 패턴을 잘 표현하는지 평가한다.(Test)\n",
    "\n",
    "#### 머신러닝이란 입력변수와 출력변수간의 패턴(함수)을 데이터 학습을 통해 만드는 것"
   ]
  },
  {
   "cell_type": "markdown",
   "id": "a693983e",
   "metadata": {},
   "source": [
    "## 데이터 셋 구성\n",
    "### Feature\n",
    "- 추론하기 위한 근거가 되는 값들을 표현하는 용어.\n",
    "- 예측 하거나 분류해야 하는 데이터의 특성, 속성 값을 말한다.\n",
    "- 입력 변수(Input), 독립변수라고도 한다.\n",
    "- 일반적으로 X로 표현한다.\n",
    "\n",
    "### Label\n",
    "- 예측하거나 분류해야 하는 값들을 표현하는 용어\n",
    "- 출력 변수(Output), 종속변수, Target 이라고도 한다.\n",
    "- 일반적으로 y로 표현한다.\n",
    "\n",
    "### 데이터 포인트\n",
    "- 개별 데이터를 표현하는 용어. "
   ]
  },
  {
   "cell_type": "markdown",
   "id": "c4acfa72",
   "metadata": {},
   "source": [
    "# 머신러닝 알고리즘 분류\n",
    "\n",
    "## 지도학습(Supervised Learning)\n",
    "- 모델에게 데이터의 특징(Feature)와 정답(Label)을 알려주며 학습시킨다.\n",
    "- 대부분의 머신러닝은 지도학습이다.\n",
    "- 지도학습은 분류와 회귀로 나뉜다."
   ]
  },
  {
   "cell_type": "markdown",
   "id": "9ba5019f",
   "metadata": {},
   "source": [
    "- ### 분류(Classification):\n",
    "    - **두개 이상의 클래스(범주)에서 선택을 묻는 지도 학습방법**\n",
    "        - **이진 분류** : 맞는지 틀린지를 분류.\n",
    "        - **다중 분류** : 여러개의 클래스중 하나를 분류\n",
    "- ### 회귀(Regression):\n",
    "    - **숫자(연속된값)를 예측 하는 지도학습**"
   ]
  },
  {
   "cell_type": "markdown",
   "id": "d107a6c4",
   "metadata": {},
   "source": [
    "## 비지도학습 (Unsupervised Learning)\n",
    "- **정답이 없이 데이터의 특징만 학습하여 데이터간의 관계를 찾는 학습방법**\n",
    "- ### 군집(Clustering)\n",
    "    - 비슷한 유형의 데이터 그룹을 찾는다. 주로 데이터 경향성을 파악하는 비지도 학습\n",
    "- ### 차원축소(Dimensionality Reduction)\n",
    "    - 예측에 영향을 최대한 주지 않으면서 변수(Feature)를 축소하는 한다.\n",
    "    - 고차원 데이터를 저차원의 데이터로 변환하는 비지도 학습   "
   ]
  },
  {
   "cell_type": "markdown",
   "id": "1d421473",
   "metadata": {},
   "source": [
    "# 머신러닝 개발 절차 (Machine Learning Process)\n",
    "\n",
    "1. Business Understanding\n",
    "    - 머신러닝 개발을 통해 얻고자 하는 것 파악.\n",
    "\n",
    "2. Data Understanding\n",
    "    - 데이터 수집\n",
    "    - 탐색을 통해 데이터 파악\n",
    "\n",
    "3. Data Preparation  \n",
    "    - 데이터 전처리\n",
    "\n",
    "4. Modeling\n",
    "    - 머신러닝 모델 선정\n",
    "    - 모델 학습\n",
    "\n",
    "5. Evaluation\n",
    "    - 모델 평가\n",
    "    - 평가 결과에 따라 위 프로세스 반복\n",
    "\n",
    "6. Deployment\n",
    "    - 평가 결과가 좋으면 실제 업무에 적용"
   ]
  },
  {
   "cell_type": "markdown",
   "id": "fd93854f",
   "metadata": {},
   "source": [
    "# 파이썬 머신러닝,딥러닝 주요 패키지\n",
    "- ### Scikit-learn\n",
    "    - 딥러닝을 제외한 머신러닝 주요 알고리즘 제공\n",
    "- ### Tensorflow\n",
    "    - 구글 브레인 팀이 개발한 텐서플로우는 머신러닝 및 딥러닝 위한 오픈소스 라이브러리다.\n",
    "- ### Keras\n",
    "    - 딥러닝 모델을 쉽게 만들 수 있도록 다양한 딥러닝 플랫폼 위에서 실행되는 고수준 딥러닝 패키지.\n",
    "    - Tensorflow 2.0 부터 keras를 포함하고 있다.\n",
    "- ### Pytorch\n",
    "    - 토치(Torch) 및 카페2(Caffe2) 프레임워크를 기반으로한 페이스북에서 만든 딥러닝 프레임워크"
   ]
  },
  {
   "cell_type": "markdown",
   "id": "0adb14a5",
   "metadata": {},
   "source": [
    "# [사이킷런(scikit-learn)](https://scikit-learn.org/stable)\n",
    "파이썬 머신러닝 라이브러리가 가장 많이 사용된다. 딥러닝을 제외한 대부분의 머신러닝 알고리즘을 제공한다."
   ]
  },
  {
   "cell_type": "markdown",
   "id": "cd7ffcb5",
   "metadata": {},
   "source": [
    "## 사이킷런의 특징\n",
    "1. 파이썬 기반 다른 머신러닝 라이브러리가 사이킷런 스타일의 API를 지향할 정도로 쉽고 가장 파이썬스런 API 제공\n",
    "2. 머신러닝 관련 다양한 알고리즘을 제공하며 모든 알고리즘에 일관성있는 사용법을 제공한다."
   ]
  }
 ],
 "metadata": {
  "kernelspec": {
   "display_name": "env",
   "language": "python",
   "name": "python3"
  },
  "language_info": {
   "name": "python",
   "version": "3.10.7"
  }
 },
 "nbformat": 4,
 "nbformat_minor": 5
}
